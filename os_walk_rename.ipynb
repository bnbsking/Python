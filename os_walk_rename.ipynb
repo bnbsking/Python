{
 "cells": [
  {
   "cell_type": "code",
   "execution_count": 1,
   "metadata": {},
   "outputs": [],
   "source": [
    "import os"
   ]
  },
  {
   "cell_type": "code",
   "execution_count": 2,
   "metadata": {},
   "outputs": [],
   "source": [
    "def fileList(ospath=\"C:\\\\\", target=\"windows-update\", show_result=True):\n",
    "    dirL, dotL = [], []\n",
    "    for file in os.walk(ospath):\n",
    "        if file[0].find(target)!=-1:\n",
    "            path_dir, path_dot = \"\", \"\"\n",
    "            for char in file[0]:\n",
    "                path_dir+=char\n",
    "                path_dot+=char\n",
    "            for i in range(len(file[1])):\n",
    "                path = path_dir + \"\\\\\" + file[1][i]\n",
    "                dirL.append(path)\n",
    "            for i in range(len(file[2])):\n",
    "                path = path_dot + \"\\\\\" + file[2][i]\n",
    "                dotL.append(path)\n",
    "    if show_result:\n",
    "        print(\"dirL:\")\n",
    "        for i in dirL:\n",
    "            print(i)\n",
    "        print(\"dotL:\")\n",
    "        for i in dotL:\n",
    "            print(i)\n",
    "    return dirL, dotL"
   ]
  },
  {
   "cell_type": "code",
   "execution_count": 3,
   "metadata": {},
   "outputs": [
    {
     "name": "stdout",
     "output_type": "stream",
     "text": [
      "dirL:\n",
      "C:\\Users\\bnbsk\\Desktop\\ABC\\DEF\n",
      "dotL:\n",
      "C:\\Users\\bnbsk\\Desktop\\ABC\\test.txt\n",
      "C:\\Users\\bnbsk\\Desktop\\ABC\\DEF\\temp.txt\n"
     ]
    }
   ],
   "source": [
    "dirL, dotL = fileList(r\"C:\\Users\\bnbsk\\Desktop\\ABC\", \"\")"
   ]
  },
  {
   "cell_type": "code",
   "execution_count": 4,
   "metadata": {},
   "outputs": [],
   "source": [
    "for i in dotL:\n",
    "    os.rename(i, i+\"m\")\n",
    "for i in dirL:\n",
    "    os.rename(i, i+\"m\")"
   ]
  },
  {
   "cell_type": "code",
   "execution_count": 5,
   "metadata": {},
   "outputs": [
    {
     "name": "stdout",
     "output_type": "stream",
     "text": [
      "dirL:\n",
      "C:\\Users\\bnbsk\\Desktop\\ABC\\DEFm\n",
      "dotL:\n",
      "C:\\Users\\bnbsk\\Desktop\\ABC\\test.txtm\n",
      "C:\\Users\\bnbsk\\Desktop\\ABC\\DEFm\\temp.txtm\n"
     ]
    }
   ],
   "source": [
    "dirL, dotL = fileList(r\"C:\\Users\\bnbsk\\Desktop\\ABC\", \"\")"
   ]
  },
  {
   "cell_type": "code",
   "execution_count": 6,
   "metadata": {},
   "outputs": [],
   "source": [
    "for i in dotL:\n",
    "    os.rename(i, i[:-1])\n",
    "for i in dirL:\n",
    "    os.rename(i, i[:-1])"
   ]
  },
  {
   "cell_type": "code",
   "execution_count": 8,
   "metadata": {},
   "outputs": [
    {
     "name": "stdout",
     "output_type": "stream",
     "text": [
      "dirL:\n",
      "C:\\Users\\bnbsk\\Desktop\\ABC\\DEF\n",
      "dotL:\n",
      "C:\\Users\\bnbsk\\Desktop\\ABC\\test.txt\n",
      "C:\\Users\\bnbsk\\Desktop\\ABC\\DEF\\temp.txt\n"
     ]
    }
   ],
   "source": [
    "dirL, dotL = fileList(r\"C:\\Users\\bnbsk\\Desktop\\ABC\", \"\")"
   ]
  },
  {
   "cell_type": "code",
   "execution_count": null,
   "metadata": {},
   "outputs": [],
   "source": []
  },
  {
   "cell_type": "code",
   "execution_count": null,
   "metadata": {},
   "outputs": [],
   "source": []
  }
 ],
 "metadata": {
  "kernelspec": {
   "display_name": "Python 3",
   "language": "python",
   "name": "python3"
  },
  "language_info": {
   "codemirror_mode": {
    "name": "ipython",
    "version": 3
   },
   "file_extension": ".py",
   "mimetype": "text/x-python",
   "name": "python",
   "nbconvert_exporter": "python",
   "pygments_lexer": "ipython3",
   "version": "3.7.4"
  }
 },
 "nbformat": 4,
 "nbformat_minor": 2
}
