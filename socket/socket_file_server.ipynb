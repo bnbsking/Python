{
 "cells": [
  {
   "cell_type": "code",
   "execution_count": 6,
   "metadata": {},
   "outputs": [],
   "source": [
    "import socket, struct, json, os"
   ]
  },
  {
   "cell_type": "code",
   "execution_count": 8,
   "metadata": {},
   "outputs": [
    {
     "name": "stdout",
     "output_type": "stream",
     "text": [
      "(0)exit/(1)serve : 1\n",
      "Start listening...\n",
      "Connect success!\n",
      "start transfering file\n",
      "trasfering complete !\n",
      "(0)exit/(1)serve : 0\n"
     ]
    }
   ],
   "source": [
    "filepath = './example.exe'\n",
    "server = socket.socket(socket.AF_INET, socket.SOCK_STREAM)    # server socket\n",
    "server.setsockopt(socket.SOL_SOCKET, socket.SO_REUSEADDR, 1)  # \n",
    "server.bind(('', 8123))                              # 0-65535: 0-1024給作業系統使用\n",
    "server.listen(5)                                              # start listening with max connections\n",
    "\n",
    "while int(input(\"(0)exit/(1)serve : \")):\n",
    "    print(\"Start listening...\")\n",
    "    conn, addr = server.accept()\n",
    "    print(\"Connect success!\")\n",
    "    filename = str(conn.recv(1024), encoding='utf-8')         # client message with max size\n",
    "    \n",
    "    header_dic = {'filename': filename,'file_size':os.path.getsize(filepath)}\n",
    "    header_json = json.dumps(header_dic)\n",
    "    header_bytes = header_json.encode('utf-8')\n",
    "    conn.send(struct.pack('i',len(header_bytes)))\n",
    "    conn.send(header_bytes)\n",
    "    \n",
    "    with open(filepath,'rb') as f:\n",
    "        print(\"start transfering file\")\n",
    "        for line in f:\n",
    "            conn.send(line)\n",
    "        print(\"trasfering complete !\")\n",
    "\n",
    "server.close()"
   ]
  },
  {
   "cell_type": "code",
   "execution_count": null,
   "metadata": {},
   "outputs": [],
   "source": []
  }
 ],
 "metadata": {
  "kernelspec": {
   "display_name": "Python 3",
   "language": "python",
   "name": "python3"
  },
  "language_info": {
   "codemirror_mode": {
    "name": "ipython",
    "version": 3
   },
   "file_extension": ".py",
   "mimetype": "text/x-python",
   "name": "python",
   "nbconvert_exporter": "python",
   "pygments_lexer": "ipython3",
   "version": "3.9.6"
  },
  "vscode": {
   "interpreter": {
    "hash": "31f2aee4e71d21fbe5cf8b01ff0e069b9275f58929596ceb00d14d90e3e16cd6"
   }
  }
 },
 "nbformat": 4,
 "nbformat_minor": 4
}
