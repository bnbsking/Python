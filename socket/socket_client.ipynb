{
 "cells": [
  {
   "cell_type": "code",
   "execution_count": 1,
   "metadata": {},
   "outputs": [],
   "source": [
    "import socket"
   ]
  },
  {
   "cell_type": "code",
   "execution_count": 2,
   "metadata": {},
   "outputs": [
    {
     "name": "stdout",
     "output_type": "stream",
     "text": [
      "(0)exit/(1)connect : 1\n",
      "Hello. I am server!\n",
      "(0)exit/(1)connect : 1\n",
      "Hello. I am server!\n",
      "(0)exit/(1)connect : 0\n"
     ]
    }
   ],
   "source": [
    "while int(input(\"(0)exit/(1)connect : \")):\n",
    "    client = socket.socket(socket.AF_INET, socket.SOCK_STREAM) # client socket\n",
    "    client.connect(('127.0.0.1', 8000))                        # start connecting\n",
    "    client.sendall('Hello. I am client!'.encode())             \n",
    "    print(str(client.recv(1024), encoding='utf-8'))            # client message with max size\n",
    "client.close()"
   ]
  },
  {
   "cell_type": "code",
   "execution_count": null,
   "metadata": {},
   "outputs": [],
   "source": []
  },
  {
   "cell_type": "code",
   "execution_count": null,
   "metadata": {},
   "outputs": [],
   "source": []
  }
 ],
 "metadata": {
  "kernelspec": {
   "display_name": "Python 3",
   "language": "python",
   "name": "python3"
  },
  "language_info": {
   "codemirror_mode": {
    "name": "ipython",
    "version": 3
   },
   "file_extension": ".py",
   "mimetype": "text/x-python",
   "name": "python",
   "nbconvert_exporter": "python",
   "pygments_lexer": "ipython3",
   "version": "3.9.6"
  },
  "vscode": {
   "interpreter": {
    "hash": "31f2aee4e71d21fbe5cf8b01ff0e069b9275f58929596ceb00d14d90e3e16cd6"
   }
  }
 },
 "nbformat": 4,
 "nbformat_minor": 4
}
