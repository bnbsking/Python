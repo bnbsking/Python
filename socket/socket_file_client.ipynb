{
 "cells": [
  {
   "cell_type": "code",
   "execution_count": 1,
   "metadata": {},
   "outputs": [],
   "source": [
    "import socket, struct, json"
   ]
  },
  {
   "cell_type": "code",
   "execution_count": 3,
   "metadata": {
    "scrolled": false
   },
   "outputs": [
    {
     "name": "stdout",
     "output_type": "stream",
     "text": [
      "(0)exit/(1)connect : 1\n",
      "總大小：6453519  已下載大小：1024  比例:0.00\n",
      "總大小：6453519  已下載大小：798024  比例:0.12\n",
      "總大小：6453519  已下載大小：1682832  比例:0.26\n",
      "總大小：6453519  已下載大小：2602725  比例:0.40\n",
      "總大小：6453519  已下載大小：4372687  比例:0.68\n",
      "總大小：6453519  已下載大小：5301157  比例:0.82\n",
      "總大小：6453519  已下載大小：6316253  比例:0.98\n",
      "Download complete !\n",
      "(0)exit/(1)connect : 0\n"
     ]
    }
   ],
   "source": [
    "download_dir = r'./'\n",
    "client = socket.socket(socket.AF_INET,socket.SOCK_STREAM)\n",
    "client.connect(('127.0.0.1',8123))\n",
    "\n",
    "while int(input(\"(0)exit/(1)connect : \")):\n",
    "    filename = \"example.exe\".encode('utf-8')\n",
    "    client.send(filename)\n",
    "\n",
    "    obj=client.recv(4)\n",
    "    header_size=struct.unpack('i',obj)[0]\n",
    "    header_bytes = client.recv(header_size)\n",
    "    header_json = header_bytes.decode('utf-8')\n",
    "    header_dic = json.loads(header_json)\n",
    "    total_size = header_dic['file_size']\n",
    "    file_name = header_dic['filename']\n",
    "\n",
    "    with open(r'%s\\%s'%(download_dir, file_name),'wb') as f:\n",
    "        recv_size = 0\n",
    "        a2000 = 0\n",
    "        while recv_size < total_size:\n",
    "            line = client.recv(1024)\n",
    "            f.write(line)\n",
    "            recv_size += len(line)\n",
    "            if a2000%2000==0:\n",
    "                print('總大小：%s  已下載大小：%s  比例:%.2f' % (total_size, recv_size, \\\n",
    "                    recv_size/total_size))\n",
    "            a2000+=1\n",
    "        print('Download complete !')\n",
    "client.close()"
   ]
  },
  {
   "cell_type": "code",
   "execution_count": null,
   "metadata": {},
   "outputs": [],
   "source": []
  },
  {
   "cell_type": "code",
   "execution_count": null,
   "metadata": {},
   "outputs": [],
   "source": []
  }
 ],
 "metadata": {
  "kernelspec": {
   "display_name": "Python 3",
   "language": "python",
   "name": "python3"
  },
  "language_info": {
   "codemirror_mode": {
    "name": "ipython",
    "version": 3
   },
   "file_extension": ".py",
   "mimetype": "text/x-python",
   "name": "python",
   "nbconvert_exporter": "python",
   "pygments_lexer": "ipython3",
   "version": "3.9.6"
  },
  "vscode": {
   "interpreter": {
    "hash": "31f2aee4e71d21fbe5cf8b01ff0e069b9275f58929596ceb00d14d90e3e16cd6"
   }
  }
 },
 "nbformat": 4,
 "nbformat_minor": 4
}
