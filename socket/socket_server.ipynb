{
 "cells": [
  {
   "cell_type": "code",
   "execution_count": 1,
   "metadata": {},
   "outputs": [],
   "source": [
    "import socket"
   ]
  },
  {
   "cell_type": "code",
   "execution_count": 2,
   "metadata": {},
   "outputs": [
    {
     "name": "stdout",
     "output_type": "stream",
     "text": [
      "(0)exit/(1)serve : 1\n",
      "Start listening...\n",
      "Connect success!\n",
      "Hello. I am client!\n",
      "(0)exit/(1)serve : 1\n",
      "Start listening...\n",
      "Connect success!\n",
      "Hello. I am client!\n",
      "(0)exit/(1)serve : 0\n"
     ]
    }
   ],
   "source": [
    "server = socket.socket(socket.AF_INET, socket.SOCK_STREAM) # server socket\n",
    "server.bind(('127.0.0.1', 8000))\n",
    "server.listen(10)                                          # start listening with max connections\n",
    "while int(input(\"(0)exit/(1)serve : \")):\n",
    "    print(\"Start listening...\")\n",
    "    conn, addr = server.accept()                           # conn: client socket; addr: (IP,port)\n",
    "    print(\"Connect success!\")\n",
    "    print( str(conn.recv(1024), encoding='utf-8') )        # client message with max size\n",
    "    conn.sendall('Hello. I am server!'.encode())\n",
    "server.close()"
   ]
  },
  {
   "cell_type": "code",
   "execution_count": null,
   "metadata": {},
   "outputs": [],
   "source": []
  },
  {
   "cell_type": "code",
   "execution_count": null,
   "metadata": {},
   "outputs": [],
   "source": []
  }
 ],
 "metadata": {
  "kernelspec": {
   "display_name": "Python 3",
   "language": "python",
   "name": "python3"
  },
  "language_info": {
   "codemirror_mode": {
    "name": "ipython",
    "version": 3
   },
   "file_extension": ".py",
   "mimetype": "text/x-python",
   "name": "python",
   "nbconvert_exporter": "python",
   "pygments_lexer": "ipython3",
   "version": "3.9.6"
  },
  "vscode": {
   "interpreter": {
    "hash": "31f2aee4e71d21fbe5cf8b01ff0e069b9275f58929596ceb00d14d90e3e16cd6"
   }
  }
 },
 "nbformat": 4,
 "nbformat_minor": 4
}
