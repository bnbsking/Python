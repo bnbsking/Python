{
 "cells": [
  {
   "attachments": {},
   "cell_type": "markdown",
   "id": "clinical-volume",
   "metadata": {},
   "source": [
    "| | Process | Threading |\n",
    "| - | - | - |\n",
    "| Definition | Instance of a program | Execution of a process |\n",
    "| OS | Unit of source distribution\\nContext switching, PID | Unit of execution |\n",
    "| Shared memory | X | O |\n",
    "| True parallel | O | X |\n",
    "| Python lib | subprocess, multiprocessing | threading |\n",
    "| Python feature | Good at both CPU-bound and I/O-bound, but use more memory | Good at I/O bound |"
   ]
  },
  {
   "attachments": {},
   "cell_type": "markdown",
   "id": "247a9a3a",
   "metadata": {},
   "source": [
    "### Subprocess"
   ]
  },
  {
   "cell_type": "code",
   "execution_count": 1,
   "id": "moved-reference",
   "metadata": {},
   "outputs": [
    {
     "name": "stdout",
     "output_type": "stream",
     "text": [
      "total 64\n",
      "-rw-r--r--  1 jameschao  staff  4332 Dec  3 20:18 Iteration_iterator.ipynb\n",
      "-rw-r--r--  1 jameschao  staff  3635 Dec  3 20:18 Synchronization.ipynb\n",
      "-rw-r--r--  1 jameschao  staff  7902 Dec  3 20:18 closure_decorators.ipynb\n",
      "-rw-r--r--  1 jameschao  staff  3574 Dec  3 20:18 parallel_multiprocessing.ipynb\n",
      "-rw-r--r--  1 jameschao  staff  3047 Dec  3 20:18 parallel_subprocess_threading.ipynb\n",
      "-rw-r--r--  1 jameschao  staff  2972 Dec  3 20:18 re.ipynb\n",
      "drwxr-xr-x  8 jameschao  staff   256 Dec  3 20:18 \u001b[1m\u001b[36msocket\u001b[m\u001b[m\n",
      "5\n"
     ]
    }
   ],
   "source": [
    "import subprocess # new version of os.system / os.popen()\n",
    "\n",
    "subprocess.call([\"ls\", \"-l\"])\n",
    "subprocess.call('sleep 5', shell=True) # non-parallel, no output\n",
    "print(5)"
   ]
  },
  {
   "cell_type": "code",
   "execution_count": 2,
   "id": "hollow-hotel",
   "metadata": {},
   "outputs": [
    {
     "name": "stdout",
     "output_type": "stream",
     "text": [
      "5\n"
     ]
    }
   ],
   "source": [
    "p = subprocess.Popen('sleep 5 && touch a.txt', shell=True) # parallel, no output\n",
    "# p.wait()\n",
    "print(5)"
   ]
  },
  {
   "cell_type": "code",
   "execution_count": 3,
   "id": "balanced-detection",
   "metadata": {},
   "outputs": [
    {
     "name": "stdout",
     "output_type": "stream",
     "text": [
      "b'Iteration_iterator.ipynb\\nSynchronization.ipynb\\nclosure_decorators.ipynb\\nparallel_multiprocessing.ipynb\\nparallel_subprocess_threading.ipynb\\nre.ipynb\\n\\x1b[1m\\x1b[36msocket\\x1b[m\\x1b[m\\n' 5\n"
     ]
    }
   ],
   "source": [
    "r = subprocess.check_output('sleep 5 && ls', shell=True) # non-parallel # has output # str(.)[2:-1].split('\\\\n')\n",
    "print(r, 5)"
   ]
  },
  {
   "cell_type": "code",
   "execution_count": null,
   "id": "1f34fa27",
   "metadata": {},
   "outputs": [],
   "source": []
  },
  {
   "cell_type": "markdown",
   "id": "minimal-clerk",
   "metadata": {},
   "source": [
    "### Multiprocessing"
   ]
  },
  {
   "cell_type": "code",
   "execution_count": 2,
   "id": "5e6f4fdb",
   "metadata": {},
   "outputs": [
    {
     "name": "stdout",
     "output_type": "stream",
     "text": [
      "4\n"
     ]
    }
   ],
   "source": [
    "import multiprocessing as mp\n",
    "import time\n",
    "\n",
    "print(mp.cpu_count()) # process should < cpu_count"
   ]
  },
  {
   "cell_type": "code",
   "execution_count": null,
   "id": "9812d2e5",
   "metadata": {},
   "outputs": [
    {
     "name": "stdout",
     "output_type": "stream",
     "text": [
      "parent process do wait child processes\n",
      "[0, 1, 4, 9, 16, 25, 36, 49, 64, 81]\n"
     ]
    }
   ],
   "source": [
    "def square(n):\n",
    "    time.sleep(1)\n",
    "    return n*n\n",
    "\n",
    "inputs = list(range(10))\n",
    "pool = mp.Pool(processes=10)\n",
    "pool_outputs = pool.map(square, inputs)\n",
    "print(\"parent process do wait child processes\")\n",
    "print(pool_outputs)"
   ]
  },
  {
   "cell_type": "code",
   "execution_count": null,
   "id": "a8e6df37",
   "metadata": {},
   "outputs": [
    {
     "name": "stdout",
     "output_type": "stream",
     "text": [
      "parent process do not wait child processes\n",
      "[0, 1, 4, 9, 16, 25, 36, 49, 64, 81]\n"
     ]
    }
   ],
   "source": [
    "def square(n):\n",
    "    time.sleep(1)\n",
    "    return n*n\n",
    "\n",
    "inputs = list(range(10))\n",
    "pool = mp.Pool(processes=10)\n",
    "pool_outputs = pool.map_async(square, inputs)\n",
    "print(\"parent process do not wait child processes\")\n",
    "pool.close()\n",
    "pool.join()\n",
    "print(pool_outputs.get())"
   ]
  },
  {
   "cell_type": "code",
   "execution_count": null,
   "id": "a3997f1b",
   "metadata": {},
   "outputs": [
    {
     "name": "stdout",
     "output_type": "stream",
     "text": [
      "parent process do wait child processes\n",
      "[0, 1, 4, 9, 16, 25, 36, 49, 64, 81]\n"
     ]
    }
   ],
   "source": [
    "def mySum(x,y):\n",
    "    time.sleep(1)\n",
    "    return x+y\n",
    "\n",
    "inputs = [ (i,i+1) for i in range(10) ]\n",
    "pool = mp.Pool(processes=10)\n",
    "pool_outputs = pool.starmap(mySum, inputs)\n",
    "print(\"parent process do wait child processes\")\n",
    "print(pool_outputs)\n",
    "print([0, 1, 4, 9, 16, 25, 36, 49, 64, 81])"
   ]
  },
  {
   "cell_type": "code",
   "execution_count": null,
   "id": "68179fab",
   "metadata": {},
   "outputs": [
    {
     "name": "stdout",
     "output_type": "stream",
     "text": [
      "parent process do not wait child processes\n",
      "[1, 3, 5, 7, 9, 11, 13, 15, 17, 19]\n"
     ]
    }
   ],
   "source": [
    "def mySum(x,y):\n",
    "    time.sleep(1)\n",
    "    return x+y\n",
    "\n",
    "inputs = [ (i,i+1) for i in range(10) ]\n",
    "pool = mp.Pool(processes=10)\n",
    "pool_outputs = pool.starmap_async(mySum, inputs)\n",
    "print(\"parent process do not wait child processes\")\n",
    "print(pool_outputs.get())"
   ]
  },
  {
   "cell_type": "code",
   "execution_count": null,
   "id": "fb4d6050",
   "metadata": {},
   "outputs": [],
   "source": []
  },
  {
   "attachments": {},
   "cell_type": "markdown",
   "id": "6d91efbc",
   "metadata": {},
   "source": [
    "### Threading and lock\n",
    "+ lock: owner thread cannot acquire again -> recursion not suitable \n",
    "+ rlock: owner thread can acquire again -> recursion suitable\n",
    "+ semaphore: allow at most n processes enter"
   ]
  },
  {
   "cell_type": "code",
   "execution_count": 1,
   "id": "consistent-array",
   "metadata": {},
   "outputs": [],
   "source": [
    "import threading, time\n",
    "\n",
    "def job(t, msg):\n",
    "    for i in range(5):\n",
    "        print(msg, end=\" \")\n",
    "        time.sleep(t)\n",
    "\n",
    "ta = threading.Thread(target=job, args=(0.01,\"a\"))\n",
    "tb = threading.Thread(target=job, args=(0.02,\"b\"))"
   ]
  },
  {
   "cell_type": "code",
   "execution_count": 2,
   "id": "vital-physics",
   "metadata": {},
   "outputs": [
    {
     "name": "stdout",
     "output_type": "stream",
     "text": [
      "ab  a a b a a b b b Done\n"
     ]
    }
   ],
   "source": [
    "ta.start()\n",
    "tb.start()\n",
    "\n",
    "tb.join()\n",
    "print(\"Done\")"
   ]
  },
  {
   "cell_type": "code",
   "execution_count": 3,
   "id": "7b682dcd",
   "metadata": {},
   "outputs": [],
   "source": [
    "lock = threading.Lock()\n",
    "def job(t, msg):\n",
    "    for i in range(5):\n",
    "        lock.acquire()\n",
    "        print(msg, end=\" \")\n",
    "        lock.release()\n",
    "        time.sleep(t)\n",
    "\n",
    "ta = threading.Thread(target=job, args=(0.01,\"a\"))\n",
    "tb = threading.Thread(target=job, args=(0.02,\"b\"))"
   ]
  },
  {
   "cell_type": "code",
   "execution_count": 4,
   "id": "39dbd9fe",
   "metadata": {},
   "outputs": [
    {
     "name": "stdout",
     "output_type": "stream",
     "text": [
      "a b a a b a a b b b Done\n"
     ]
    }
   ],
   "source": [
    "ta.start()\n",
    "tb.start()\n",
    "\n",
    "tb.join()\n",
    "print(\"Done\")"
   ]
  },
  {
   "cell_type": "code",
   "execution_count": 9,
   "id": "458add4d",
   "metadata": {},
   "outputs": [],
   "source": [
    "semaphore = threading.Semaphore(2)\n",
    "lock = threading.Lock()\n",
    "def job(t, msg):\n",
    "    semaphore.acquire()\n",
    "    for i in range(5):\n",
    "        lock.acquire()\n",
    "        print(msg, end=\" \")\n",
    "        lock.release()\n",
    "        time.sleep(t)\n",
    "    semaphore.release()"
   ]
  },
  {
   "cell_type": "code",
   "execution_count": 10,
   "id": "64de3182",
   "metadata": {},
   "outputs": [
    {
     "name": "stdout",
     "output_type": "stream",
     "text": [
      "a b "
     ]
    },
    {
     "name": "stdout",
     "output_type": "stream",
     "text": [
      "a a b a a b c c b c c b c d d d d d "
     ]
    }
   ],
   "source": [
    "ta = threading.Thread(target=job, args=(0.01,\"a\"))\n",
    "tb = threading.Thread(target=job, args=(0.02,\"b\"))\n",
    "tc = threading.Thread(target=job, args=(0.01,\"c\"))\n",
    "td = threading.Thread(target=job, args=(0.02,\"d\"))\n",
    "ta.start()\n",
    "tb.start()\n",
    "tc.start()\n",
    "td.start()"
   ]
  },
  {
   "cell_type": "code",
   "execution_count": null,
   "id": "794a1324",
   "metadata": {},
   "outputs": [],
   "source": []
  }
 ],
 "metadata": {
  "kernelspec": {
   "display_name": "test",
   "language": "python",
   "name": "python3"
  },
  "language_info": {
   "codemirror_mode": {
    "name": "ipython",
    "version": 3
   },
   "file_extension": ".py",
   "mimetype": "text/x-python",
   "name": "python",
   "nbconvert_exporter": "python",
   "pygments_lexer": "ipython3",
   "version": "3.8.16"
  },
  "vscode": {
   "interpreter": {
    "hash": "4de884d891615765edd271cb3c15e2a75ba9303f259ba1474785180bf9788ba0"
   }
  }
 },
 "nbformat": 4,
 "nbformat_minor": 5
}
