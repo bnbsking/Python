{
 "cells": [
  {
   "cell_type": "code",
   "execution_count": 110,
   "id": "b080984f",
   "metadata": {},
   "outputs": [
    {
     "name": "stdout",
     "output_type": "stream",
     "text": [
      "0 [<__main__.Node object at 0x7fa21896d250>, <__main__.Node object at 0x7fa21896da00>] [1, 3]\n"
     ]
    }
   ],
   "source": [
    "M = [\n",
    "    #0  #1 #2 #3\n",
    "    [0, 1, 0, 1], # 0\n",
    "    [1, 0, 1, 0], # 1\n",
    "    [0, 1, 0, 0], # 2\n",
    "    [1, 0, 0, 0], # 3\n",
    "]\n",
    "\"\"\"\n",
    "0 — 1\n",
    "|   |\n",
    "3   2\n",
    "\"\"\"\n",
    "\n",
    "class Node(object):\n",
    "    def __init__(self, val = 0, neighbors = None):\n",
    "        self.val = val\n",
    "        self.neighbors = neighbors if neighbors is not None else []\n",
    "\n",
    "def matrix2Graph(M): # directed or undirected\n",
    "    nodeList = [ Node(i) for i in range(len(M)) ]\n",
    "    for i in range(len(M)):\n",
    "        for j in range(len(M[0])):\n",
    "            if M[i][j]:\n",
    "                nodeList[i].neighbors.append( nodeList[j] )\n",
    "    return nodeList[0]\n",
    "    \n",
    "G = matrix2Graph(M)\n",
    "print(G.val, G.neighbors, [node.val for node in G.neighbors] )"
   ]
  },
  {
   "cell_type": "code",
   "execution_count": 131,
   "id": "5669c634",
   "metadata": {},
   "outputs": [
    {
     "name": "stdout",
     "output_type": "stream",
     "text": [
      "[0, 1, 2, 3]\n"
     ]
    }
   ],
   "source": [
    "G = matrix2Graph(M)\n",
    "def dfs(G):\n",
    "    ans, stack, visit = [], [G], {id(G)}\n",
    "    def search():\n",
    "        nonlocal ans, stack, visit\n",
    "        if stack:\n",
    "            node = stack.pop()\n",
    "            ans.append( node.val )\n",
    "            for neighbor in filter(lambda N:id(N) not in visit, reversed(node.neighbors)):\n",
    "                visit.add( id(neighbor) )\n",
    "                stack.append( neighbor )\n",
    "            search()\n",
    "    search()\n",
    "    return ans\n",
    "\n",
    "print( dfs(G) )"
   ]
  },
  {
   "cell_type": "code",
   "execution_count": 132,
   "id": "62deff80",
   "metadata": {},
   "outputs": [
    {
     "name": "stdout",
     "output_type": "stream",
     "text": [
      "[0, 1, 3, 2]\n"
     ]
    }
   ],
   "source": [
    "def bfs(G):\n",
    "    ans, queue, visit = [], deque([G]), {id(G)}\n",
    "    def search():\n",
    "        nonlocal ans, queue, visit\n",
    "        if queue:\n",
    "            node = queue.popleft()\n",
    "            ans.append( node.val )\n",
    "            for neighbor in filter(lambda N:id(N) not in visit, node.neighbors):\n",
    "                visit.add( id(neighbor) )\n",
    "                queue.append( neighbor )\n",
    "            search()     \n",
    "    search()\n",
    "    return ans\n",
    "\n",
    "print( bfs(G) )"
   ]
  },
  {
   "cell_type": "code",
   "execution_count": 134,
   "id": "3fb87cf7",
   "metadata": {},
   "outputs": [
    {
     "name": "stdout",
     "output_type": "stream",
     "text": [
      "[0, 1, 2, 4, 3] [0, 1, 3, 2, 4]\n",
      "True False\n"
     ]
    }
   ],
   "source": [
    "\"\"\"\n",
    "G:\n",
    "0 — 1\n",
    "|   |\n",
    "3   2\n",
    "G.neighbors = [ node1, node3 ]\n",
    "G2: 4 - 1\n",
    "G3: 5\n",
    "\"\"\"\n",
    "G = matrix2Graph(M)\n",
    "G2 = Node(4, [G.neighbors[0]] )\n",
    "G3 = Node(5, [])\n",
    "G.neighbors[0].neighbors.append(G2)\n",
    "print(dfs(G), bfs(G))\n",
    "\n",
    "def isConnect(G1, G2):\n",
    "    if id(G1)==id(G2):\n",
    "        return True\n",
    "    stack, visit, connect = [G1], {id(G1)}, False\n",
    "    def dfs():\n",
    "        nonlocal stack, visit, connect\n",
    "        if not connect and stack:\n",
    "            node = stack.pop()\n",
    "            for neighbor in filter(lambda N:id(N) not in visit, node.neighbors):\n",
    "                if id(neighbor)==id(G2):\n",
    "                    connect = True \n",
    "                    return\n",
    "                else:\n",
    "                    visit.add(id(neighbor))\n",
    "                    stack.append(neighbor)\n",
    "            dfs()\n",
    "    dfs()\n",
    "    return connect\n",
    "print( isConnect(G,G2), isConnect(G,G3) )"
   ]
  },
  {
   "cell_type": "code",
   "execution_count": 138,
   "id": "5919e9ed",
   "metadata": {},
   "outputs": [
    {
     "name": "stdout",
     "output_type": "stream",
     "text": [
      "[0, 1, 2, 3] [0, 1, 3, 2]\n",
      "False True\n"
     ]
    }
   ],
   "source": [
    "\"\"\"\n",
    "G       E\n",
    "0 — 1   0 — 1\n",
    "|   |   |   |\n",
    "3   2   3 — 2\n",
    "\"\"\"\n",
    "G = matrix2Graph(M)\n",
    "E = matrix2Graph(M)\n",
    "E.neighbors[0].neighbors[1].neighbors.append( E.neighbors[1] )  # 2->3\n",
    "E.neighbors[1].neighbors.append( E.neighbors[0].neighbors[1] ) # 3->2\n",
    "print( dfs(E), bfs(E) )\n",
    "\n",
    "def hasCycle(G):\n",
    "    stack, visit, cycle = [G], {id(G)}, False\n",
    "    def dfs(lastID=None):\n",
    "        nonlocal stack, visit, cycle\n",
    "        if not cycle and stack:\n",
    "            node = stack.pop()\n",
    "            for neighbor in node.neighbors: \n",
    "                if id(neighbor)==lastID:    # exclude trace parent node\n",
    "                    continue                \n",
    "                elif id(neighbor) in visit: # don't use visit filter because cycle should be set as True\n",
    "                    cycle = True\n",
    "                    return\n",
    "                else:\n",
    "                    visit.add( id(neighbor) ) \n",
    "                    stack.append( neighbor )\n",
    "                    dfs( lastID=id(node) )  # dfs must implement directly due to unovewritable lastID\n",
    "    dfs()\n",
    "    return cycle\n",
    "print(hasCycle(G), hasCycle(E))"
   ]
  },
  {
   "cell_type": "code",
   "execution_count": 139,
   "id": "021dfa4c",
   "metadata": {},
   "outputs": [
    {
     "name": "stdout",
     "output_type": "stream",
     "text": [
      "[0, 1, 0, 1]\n",
      "[1, 0, 1, 0]\n",
      "[0, 1, 0, 0]\n",
      "[1, 0, 0, 0]\n"
     ]
    }
   ],
   "source": [
    "G = matrix2Graph(M)\n",
    "def graph2Matrix(G,n):\n",
    "    M = [ [0]*n for i in range(n) ]\n",
    "    stack, visit = [G], {id(G)}\n",
    "    def dfs():\n",
    "        nonlocal M, stack, visit\n",
    "        if stack:\n",
    "            node = stack.pop()\n",
    "            for neighbor in filter(lambda N:id(N) not in visit, node.neighbors):\n",
    "                M[node.val][neighbor.val], M[neighbor.val][node.val] = 1, 1\n",
    "                visit.add( id(neighbor) )\n",
    "                stack.append( neighbor )\n",
    "            dfs()\n",
    "    dfs()\n",
    "    return M\n",
    "\n",
    "for row in graph2Matrix(G,4):\n",
    "    print(row)"
   ]
  },
  {
   "cell_type": "code",
   "execution_count": 142,
   "id": "755f1936",
   "metadata": {},
   "outputs": [
    {
     "name": "stdout",
     "output_type": "stream",
     "text": [
      "[0, 1, 0, 1]\n",
      "[1, 0, 1, 0]\n",
      "[0, 1, 0, 0]\n",
      "[1, 0, 0, 0]\n"
     ]
    }
   ],
   "source": [
    "\"\"\"\n",
    "G       spanningTree\n",
    "0 — 1   0 — 1\n",
    "| \\ |   |   |\n",
    "3   2   3   2\n",
    "# v nodes -> spanning tree has v-1 edges\n",
    "\"\"\"\n",
    "G = matrix2Graph(M)\n",
    "G.neighbors.append( G.neighbors[0].neighbors[1] ) # 0->2\n",
    "G.neighbors[0].neighbors[1].neighbors.append( G ) # 2->0\n",
    "\n",
    "def spanningTree(G):\n",
    "    T = Node(G.val)\n",
    "    stack, visit = [G], {id(G)}\n",
    "    def dfs(p=T):\n",
    "        nonlocal stack, visit\n",
    "        if stack:\n",
    "            node = stack.pop()\n",
    "            for neighbor in filter(lambda N:id(N) not in visit, node.neighbors):\n",
    "                visit.add( id(neighbor) )\n",
    "                stack.append( neighbor )\n",
    "                p.neighbors.append( Node(neighbor.val,[p]) )\n",
    "                dfs( p.neighbors[-1] )\n",
    "    dfs()\n",
    "    return T\n",
    "T = spanningTree(G)\n",
    "for row in graph2Matrix(T,4):\n",
    "    print(row)"
   ]
  },
  {
   "cell_type": "code",
   "execution_count": 163,
   "id": "3d60f59e",
   "metadata": {},
   "outputs": [
    {
     "data": {
      "text/plain": [
       "[[inf, 16, inf, inf, inf, inf],\n",
       " [16, inf, 5, 6, inf, 11],\n",
       " [inf, 5, inf, inf, inf, inf],\n",
       " [inf, 6, inf, inf, 18, inf],\n",
       " [inf, inf, inf, 18, inf, inf],\n",
       " [inf, 11, inf, inf, inf, inf]]"
      ]
     },
     "execution_count": 163,
     "metadata": {},
     "output_type": "execute_result"
    }
   ],
   "source": [
    "# Minimum spanning tree: Leetcode medium 1/3k and matrix\n",
    "\"\"\"\n",
    "1. Kruskal algorithm: Easy to understand but hard to implement because of the weighted adjacent list + heap. O(elog(e))\n",
    "    descending sort weights\n",
    "    while edges<nodes:\n",
    "        pop shortest weight\n",
    "        if add the edge contains cycle:\n",
    "            edges+=1\n",
    "2. Prim algorithm: Easy to understand and implement. Matrix. O(v**2)\n",
    "e.g. M                 min spannning tree\n",
    "0 — (16) —  1          0 — (16) —  1\n",
    "| \\       / | \\                  / | \\\n",
    "|  (21)(11) |  (5)            (11) |  (5)\n",
    "|    \\ /    |    \\             /   |    \\\n",
    "(19)  5     (6)   2           5    (6)   2\n",
    "|    /  \\   |    /                 |   \n",
    "|  (33)(14) |  (10)                | \n",
    "| /       \\ | /                    |\n",
    "4 — (18) —  3          4 — (18) —  3\n",
    "\"\"\"\n",
    "x = float('inf')\n",
    "M = [\n",
    "    [ x, 16,  x,  x, 19, 21],\n",
    "    [16,  x,  5,  6,  x, 11],\n",
    "    [ x,  5,  x, 10,  x,  x],\n",
    "    [ x,  6, 10,  x, 18, 14],\n",
    "    [19,  x,  x, 18,  x, 33],\n",
    "    [21, 11,  x, 14, 33,  x],\n",
    "]\n",
    "\n",
    "\"\"\"Each vertex pick the smallest neighbor edge\"\"\"\n",
    "def prim(M):\n",
    "    T = [ [x]*len(M) for i in range(len(M)) ]\n",
    "    for i in range(len(M)):\n",
    "        rowMin = min(M[i])\n",
    "        rowMinIdx = M[i].index( rowMin )\n",
    "        T[i][rowMinIdx] = rowMin\n",
    "        T[rowMinIdx][i] = rowMin\n",
    "    return T\n",
    "prim(M)"
   ]
  },
  {
   "cell_type": "code",
   "execution_count": 2,
   "id": "de6e829a",
   "metadata": {},
   "outputs": [
    {
     "name": "stdout",
     "output_type": "stream",
     "text": [
      "[34, 33, 25, 13, 0, 3, 12, 17]\n"
     ]
    }
   ],
   "source": [
    "# Shortest path algorithm\n",
    "# 1. Dijkstra: Greedy and non-negative edges only. O(v**2)\n",
    "# Leetcode all are non-negative edges\n",
    "x = float('inf')\n",
    "M = [\n",
    "    [ 0,  x,  x,  x,  x,  x,  x,  x],\n",
    "    [ 3,  0,  x,  x,  x,  x,  x,  x],\n",
    "    [10,  8,  0,  x,  x,  x,  x,  x],\n",
    "    [ x,  x, 12,  0,  x,  x,  x,  x],\n",
    "    [ x,  x,  x, 15,  0,  3,  x,  x],\n",
    "    [ x,  x,  x, 10,  x,  0,  9, 14],\n",
    "    [ x,  x,  x,  x,  x,  x,  0, 10],\n",
    "    [17,  x,  x,  x,  x,  x,  x,  0],\n",
    "]\n",
    "\n",
    "def Dijkstra(M, start):\n",
    "    dist  = M[start][:]\n",
    "    visit = {start}\n",
    "    for i in range(1,len(M)):\n",
    "        # nextIndex: the unvisited smallest neighbor of i\n",
    "        distTemp = [ float('inf') if j in visit else dist[j] for j in range(len(M)) ]\n",
    "        nextIdx = distTemp.index( min(distTemp) )\n",
    "        visit.add(nextIdx)\n",
    "        for j in range(len(M)): # update all the neighbors of the nextIdx\n",
    "            dist[j] = min(dist[j], dist[nextIdx]+M[nextIdx][j])\n",
    "    return dist\n",
    "\n",
    "print(Dijkstra(M,4)) # [34, 33, 25, 13, 0, 3, 12, 17]"
   ]
  },
  {
   "cell_type": "code",
   "execution_count": 3,
   "id": "3e1b515c",
   "metadata": {},
   "outputs": [
    {
     "name": "stdout",
     "output_type": "stream",
     "text": [
      "[34, 33, 25, 13, 0, 3, 12, 17]\n",
      "{4: [4], 5: [4, 5], 6: [4, 5, 6], 3: [4, 5, 3], 7: [4, 5, 7], 2: [4, 5, 3, 2], 1: [4, 5, 3, 2, 1], 0: [4, 5, 7, 0]}\n"
     ]
    }
   ],
   "source": [
    "def DijkstraSpanning(M, start):\n",
    "    dist  = M[start][:]\n",
    "    visit = {start:[start]} # shortest path to each nodes\n",
    "    for i in range(1,len(M)):\n",
    "        # nextIndex: the unvisited smallest neighbor of i\n",
    "        distTemp = [ float('inf') if j in visit else dist[j] for j in range(len(M)) ]\n",
    "        nextIdx = distTemp.index( min(distTemp) )\n",
    "        # parentIndex: minimum index of (current shortest path + each node to nextIdx) among all nodes except for itself  \n",
    "        best2nextIdx = [ dist[j]+M[j][nextIdx] if j!=nextIdx else float('inf') for j in range(len(M)) ]\n",
    "        parentIdx  = best2nextIdx.index( min(best2nextIdx) )\n",
    "        visit[nextIdx] = visit[parentIdx]+[nextIdx]\n",
    "        for j in range(len(M)): # update all the neighbors of the nextIdx\n",
    "            dist[j] = min(dist[j], dist[nextIdx]+M[nextIdx][j])\n",
    "    return dist, visit\n",
    "\n",
    "dist, visit = DijkstraSpanning(M,4) \n",
    "print(dist) # [34, 33, 25, 13, 0, 3, 12, 17]\n",
    "print(visit) # {4: [4], 5: [4, 5], 6: [4, 5, 6], 3: [4, 5, 3], 7: [4, 5, 7], 2: [4, 5, 3, 2], 1: [4, 5, 3, 2, 1], 0: [4, 5, 7, 0]}"
   ]
  },
  {
   "cell_type": "code",
   "execution_count": null,
   "id": "40f01557",
   "metadata": {},
   "outputs": [],
   "source": []
  }
 ],
 "metadata": {
  "kernelspec": {
   "display_name": "Python 3 (ipykernel)",
   "language": "python",
   "name": "python3"
  },
  "language_info": {
   "codemirror_mode": {
    "name": "ipython",
    "version": 3
   },
   "file_extension": ".py",
   "mimetype": "text/x-python",
   "name": "python",
   "nbconvert_exporter": "python",
   "pygments_lexer": "ipython3",
   "version": "3.8.10"
  }
 },
 "nbformat": 4,
 "nbformat_minor": 5
}
