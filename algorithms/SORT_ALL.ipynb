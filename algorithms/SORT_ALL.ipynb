{
 "cells": [
  {
   "cell_type": "code",
   "execution_count": 120,
   "id": "e355f5bd",
   "metadata": {},
   "outputs": [
    {
     "name": "stdout",
     "output_type": "stream",
     "text": [
      "0 0\n",
      "1 0\n",
      "2 0\n",
      "3 1\n",
      "4 1\n",
      "5 2\n",
      "6 2\n",
      "7 3\n",
      "8 3\n",
      "9 4\n"
     ]
    }
   ],
   "source": [
    "A = [2,4,6,8]\n",
    "\n",
    "def binarySearchInsert(A,target):\n",
    "    l, r = 0, len(A)-1\n",
    "    while l<=r:\n",
    "        m = (l+r)//2\n",
    "        if A[m]>target:\n",
    "            r = m-1\n",
    "        elif A[m]==target:\n",
    "            l, r = m, m-1\n",
    "        else:\n",
    "            l = m+1\n",
    "    return l\n",
    "\n",
    "for i in range(0,10):\n",
    "    print(i, binarySearchInsert(A,i))"
   ]
  },
  {
   "cell_type": "code",
   "execution_count": 44,
   "id": "7d1fbd5c",
   "metadata": {},
   "outputs": [
    {
     "name": "stdout",
     "output_type": "stream",
     "text": [
      "[50, 18, 8, 31, 31, 80, 74, 42, 30, 60]\n",
      "[8, 18, 30, 31, 31, 42, 50, 74, 60, 80]\n"
     ]
    }
   ],
   "source": [
    "import random\n",
    "L = [ random.Random(i).randint(1,99) for i in range(10) ]\n",
    "print(L)\n",
    "\n",
    "def quickSort(L):\n",
    "    def sort(l=0,r=len(L)-1):\n",
    "        if l<r: # not equal since sort (i,r) cause infinite loop\n",
    "            pivot, i, j = L[l], l+1, r\n",
    "            while i<j:\n",
    "                while L[i]<=pivot and i<j: # not equal to prevent list index out of range\n",
    "                    i+=1\n",
    "                while L[j]>=pivot and i<j:\n",
    "                    j-=1\n",
    "                L[i], L[j] = L[j], L[i]\n",
    "            # from now on, i==j and L[idx<i] <= pivot and L[idx>i] >= pivot \n",
    "            L[l], L[i] = min(L[l], L[i]), max(L[l], L[i]) # unsure pivot or L[i] which is larger\n",
    "            sort(l,i-1)\n",
    "            sort(i+1,r)\n",
    "    sort()\n",
    "    return L\n",
    "\n",
    "print( quickSort(L) )"
   ]
  },
  {
   "cell_type": "code",
   "execution_count": 78,
   "id": "ecc3ab01",
   "metadata": {},
   "outputs": [
    {
     "name": "stdout",
     "output_type": "stream",
     "text": [
      "[50, 18, 8, 31, 31, 80, 74, 42, 30, 60]\n",
      "1\n",
      "1\n",
      "31\n"
     ]
    }
   ],
   "source": [
    "L = [ random.Random(i).randint(1,99) for i in range(10) ]\n",
    "print(L)\n",
    "\n",
    "def findIthSmallest(ith,L): # O(n)\n",
    "    ith-=1\n",
    "    def find(l=0,r=len(L)-1):\n",
    "        if l<r:\n",
    "            pivot, i, j = L[l], l+1, r\n",
    "            while i<j:\n",
    "                while L[i]<=pivot and i<j:\n",
    "                    i+=1\n",
    "                while L[j]>=pivot and i<j:\n",
    "                    j-=1\n",
    "                L[i], L[j] = L[j], L[i]\n",
    "            # from now on, i==j and L[idx<i] <= pivot and L[idx>i] >= pivot\n",
    "            L[l], L[i] = min(L[l], L[i]), max(L[l], L[i])\n",
    "            if i==ith:\n",
    "                return L[i]\n",
    "            elif i>ith:\n",
    "                return find(l,i-1)\n",
    "            else:\n",
    "                return find(i+1,r)\n",
    "        else: # answer is repeat element -> cause infinite loop e.g, findIthSmallest(0,[1,1]), l=r=0\n",
    "            return L[l]\n",
    "    return find()\n",
    "\n",
    "print( findIthSmallest(0,[1,1]) )\n",
    "print( findIthSmallest(0,[1,2]) )\n",
    "print( findIthSmallest(5,L) )"
   ]
  },
  {
   "cell_type": "code",
   "execution_count": 109,
   "id": "6d4befab",
   "metadata": {},
   "outputs": [
    {
     "name": "stdout",
     "output_type": "stream",
     "text": [
      "[50, 18, 8, 31, 31, 80, 74, 42, 30, 60]\n",
      "[8, 18, 30, 31, 31, 42, 50, 60, 74, 80]\n"
     ]
    }
   ],
   "source": [
    "L = [ random.Random(i).randint(1,99) for i in range(10) ]\n",
    "print(L)\n",
    "\n",
    "def mergeSort(L):\n",
    "    if len(L)<2:\n",
    "        return L\n",
    "    else:\n",
    "        leftSorted = mergeSort(L[:len(L)//2])\n",
    "        rightSorted = mergeSort(L[len(L)//2:])\n",
    "        merge = []\n",
    "        l, r = 0, 0 \n",
    "        while True:\n",
    "            if l==len(leftSorted):\n",
    "                merge+=rightSorted[r:]\n",
    "                break\n",
    "            elif r==len(rightSorted):\n",
    "                merge+=leftSorted[l:]\n",
    "                break\n",
    "            else:\n",
    "                if leftSorted[l]<=rightSorted[r]:\n",
    "                    merge.append( leftSorted[l] )\n",
    "                    l+=1\n",
    "                else:\n",
    "                    merge.append( rightSorted[r] )\n",
    "                    r+=1\n",
    "        return merge\n",
    "    \n",
    "print( mergeSort(L) )"
   ]
  },
  {
   "cell_type": "code",
   "execution_count": 119,
   "id": "e983b396",
   "metadata": {},
   "outputs": [
    {
     "name": "stdout",
     "output_type": "stream",
     "text": [
      "[50, 18, 8, 31, 31, 80, 74, 42, 30, 60]\n",
      "[8, 18, 30, 31, 31, 42, 50, 60, 74, 80]\n"
     ]
    }
   ],
   "source": [
    "L = [ random.Random(i).randint(1,99) for i in range(10) ]\n",
    "print(L)\n",
    "\n",
    "def heapSort(L):\n",
    "    import heapq # heapq.heapify(L) # heapq.heappush(L,ele) # heapq.heappop(L)\n",
    "    heapq.heapify(L)\n",
    "    return [ heapq.heappop(L) for i in range(len(L)) ]\n",
    "    \n",
    "print( heapSort(L) )"
   ]
  },
  {
   "cell_type": "code",
   "execution_count": null,
   "id": "0403d90f",
   "metadata": {},
   "outputs": [],
   "source": []
  },
  {
   "cell_type": "code",
   "execution_count": null,
   "id": "d1781a0c",
   "metadata": {},
   "outputs": [],
   "source": []
  }
 ],
 "metadata": {
  "kernelspec": {
   "display_name": "Python 3",
   "language": "python",
   "name": "python3"
  },
  "language_info": {
   "codemirror_mode": {
    "name": "ipython",
    "version": 3
   },
   "file_extension": ".py",
   "mimetype": "text/x-python",
   "name": "python",
   "nbconvert_exporter": "python",
   "pygments_lexer": "ipython3",
   "version": "3.6.13"
  }
 },
 "nbformat": 4,
 "nbformat_minor": 5
}
