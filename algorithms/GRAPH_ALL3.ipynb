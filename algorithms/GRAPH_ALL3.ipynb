{
 "cells": [
  {
   "cell_type": "markdown",
   "id": "d676674c",
   "metadata": {},
   "source": [
    "### Version3:\n",
    "1. Graph data structure:\n",
    "    |        | space  | traversal | recommended | restriction |\n",
    "    | -      |   -    |  -        | - | - |\n",
    "    | Matrix | O(v^2) | O(v^2)    |   |   |\n",
    "    | Dict   | O(v\\*H)| O(v)      | v | compute getEdge(a,b), parents_dict in advance for some situations |\n",
    "    | Node   | O(v+e) | O(v)      |   | complex and rarely seen in disconnected graph |\n",
    "\n",
    "2. General graph traversal:\n",
    "    + Graph (cyclic) vs binary tree (directed acyclic): acyclic doesn't need to record \"visit\"\n",
    "    + Basic paremeters: DFS recursion is the best (more precise) in most cases\n",
    "        |   | DFS | BFS |\n",
    "        | - | - | - |\n",
    "        | recursion input | f(i) | f(i), iterate twice |\n",
    "        | iteration condition | len(stack) | len(queue) |\n",
    "    \n",
    "    + Strategy:\n",
    "        | | connected (Given 1 node only) | disconnected (Given all nodes, while unvisit at out loop) |\n",
    "        | - | - | - |\n",
    "        | undirected | recursion: f(i,visit) <br> iteration: while stack/queue | recursion: while unvisit + f(i) <br> iteration: while unvisit while stack/queue |\n",
    "        | directed   | --- | recursion: while unvisit + f(i) <br> iteration: while unvisit while stack/queue |\n",
    "\n",
    "    + Examples:\n",
    "        + connected undirected: Maze, Word Search, Clone Graph, Minimum of Tree Heights\n",
    "        + connected directed: most of the tree problems.\n",
    "        + disconnected undirected: Surrounded Regions, Number of Islands\n",
    "        + disconnected directed: Course Schedule\n",
    "        \n",
    "    + Traversal not consider unweighted/weighted\n",
    "\n",
    "3. Cycle determination:\n",
    "    + undirected: must add parent (int) argument to f. Has node if a node visit twice excludes parent.\n",
    "    + directed: must add parents (list) argument to f. Has node if visiting a node is already in parents.\n",
    "    + directed(best): **topological sort - Kahn's algorithm (Iteration)** - remove in degree==0 nodes gradually\n",
    "\n",
    "4. Repeat path problem for recursion: **delete i from visit/parent/parents at the end of the function !!!**\n",
    "    + e.g. Course schedule (directed cycle check) e.g. [[0,1],[0,2],[1,2]] will has cycle if forget to delete\n",
    "    + e.g. Word Search"
   ]
  },
  {
   "cell_type": "code",
   "execution_count": 52,
   "id": "8c2a9bf4",
   "metadata": {},
   "outputs": [
    {
     "name": "stdout",
     "output_type": "stream",
     "text": [
      "[0, 1, 2, 3] [0, 1, 2, 3]\n",
      "[0, 1, 3, 2] [0, 1, 3, 2]\n",
      "[0, 3, 1, 2] [0, 3, 1, 2]\n",
      "[0, 1, 3, 2] [0, 1, 3, 2]\n"
     ]
    }
   ],
   "source": [
    "# G1 connected undirected, G2 connected directed\n",
    "\"\"\"\n",
    "G1:      G2:\n",
    "0 — 1    0 —> 1\n",
    "|   |    ↓  ↖ ↓\n",
    "3   2    3    2\n",
    "\"\"\"\n",
    "D1 = {0:{1,3}, 1:{0,2}, 2:{0,1}, 3:{0}}\n",
    "D2 = {0:{1,3}, 1:{2}, 2:{0}, 3:{}}\n",
    "def recursionDFS(D,i):\n",
    "    def f(i,visit):\n",
    "        visit.add(i)\n",
    "        ans.append(i)\n",
    "        for neighbor in filter(lambda n: n not in visit, D[i]):\n",
    "            f(neighbor,visit)\n",
    "    ans = []\n",
    "    f(i,set())\n",
    "    return ans\n",
    "print(recursionDFS(D1,0), recursionDFS(D2,0))\n",
    "\n",
    "def recursionBFS(D,i):\n",
    "    def f(i,visit):\n",
    "        visit.add(i)\n",
    "        for neighbor in list(filter(lambda n: n not in visit, D[i])):\n",
    "            ans.append(neighbor)\n",
    "        for neighbor in list(filter(lambda n: n not in visit, D[i])):\n",
    "            f(neighbor,visit)\n",
    "    ans = [i]\n",
    "    f(i,{i})\n",
    "    return ans\n",
    "print(recursionBFS(D1,0), recursionBFS(D2,0))\n",
    "\n",
    "def iterationDFS(D,i):\n",
    "    visit, ans, stack = set(), [], [i]\n",
    "    while stack:\n",
    "        i = stack.pop()\n",
    "        visit.add(i)\n",
    "        ans.append(i)\n",
    "        for neighbor in filter(lambda n: n not in visit, D[i]):\n",
    "            stack.append(neighbor)\n",
    "    return ans\n",
    "print(iterationDFS(D1,0), iterationDFS(D2,0))\n",
    "\n",
    "def iterationBFS(D,i):\n",
    "    from collections import deque\n",
    "    visit, ans, queue = set(), [], deque([i])\n",
    "    while queue:\n",
    "        i = queue.popleft()\n",
    "        visit.add(i)\n",
    "        ans.append(i)\n",
    "        for neighbor in filter(lambda n: n not in visit, D[i]):\n",
    "            queue.append(neighbor)\n",
    "    return ans\n",
    "print(iterationBFS(D1,0), iterationBFS(D2,0))"
   ]
  },
  {
   "cell_type": "code",
   "execution_count": 53,
   "id": "49ec80de",
   "metadata": {},
   "outputs": [
    {
     "name": "stdout",
     "output_type": "stream",
     "text": [
      "[0, 1, 2, 3, 4, 5] [0, 1, 2, 3, 4, 5]\n",
      "[0, 1, 3, 2, 4, 5] [0, 1, 3, 2, 4, 5]\n",
      "[0, 1, 2, 3, 4, 5] [0, 1, 2, 3, 4, 5]\n",
      "[0, 1, 3, 2, 4, 5] [0, 1, 3, 2, 4, 5]\n"
     ]
    }
   ],
   "source": [
    "# G1 disconnected undirected, G2 disconnected directed\n",
    "\"\"\"\n",
    "G1:             G2:\n",
    "0 — 1  4 - 5    0 —> 1  4 <-> 5\n",
    "|   |           ↓    ↓\n",
    "3   2           3    2\n",
    "\"\"\"\n",
    "D1 = {0:{1,3}, 1:{0,2}, 2:{0,1}, 3:{0}, 4:{5}, 5:{4}}\n",
    "D2 = {0:{1,3}, 1:{2}, 2:{}, 3:{}, 4:{5}, 5:{4}}\n",
    "def recursionDFS(D):\n",
    "    def f(i):\n",
    "        ans.append(i)\n",
    "        unVisit.remove(i)\n",
    "        for neighbor in filter(lambda n:n in unVisit, D[i]):\n",
    "            f(neighbor)\n",
    "    unVisit, ans = set(D.keys()), []\n",
    "    while unVisit:\n",
    "        f( next(iter(unVisit)) )\n",
    "    return ans\n",
    "print( recursionDFS(D1), recursionDFS(D2) )\n",
    "\n",
    "def recursionBFS(D):\n",
    "    def f(i):\n",
    "        unVisit.remove(i)\n",
    "        for neighbor in filter(lambda n:n in unVisit, D[i]):\n",
    "            ans.append(neighbor)\n",
    "        for neighbor in filter(lambda n:n in unVisit, D[i]):\n",
    "            f(neighbor)\n",
    "    unVisit, ans = set(D.keys()), []\n",
    "    while unVisit:\n",
    "        ans.append( next(iter(unVisit)) )\n",
    "        f( next(iter(unVisit)) )\n",
    "    return ans\n",
    "print( recursionBFS(D1), recursionBFS(D2) )\n",
    "                               \n",
    "def iterationDFS(D):\n",
    "    unVisit, ans = set(D.keys()), []\n",
    "    while unVisit:\n",
    "        stack = [ next(iter(unVisit)) ]\n",
    "        while stack:\n",
    "            i = stack.pop()\n",
    "            unVisit.remove(i)\n",
    "            ans.append(i)\n",
    "            for neighbor in filter(lambda n:n in unVisit, D[i]):\n",
    "                stack.append(neighbor)\n",
    "    return ans\n",
    "print( recursionDFS(D1), recursionDFS(D2) )\n",
    "\n",
    "def iterationBFS(D):\n",
    "    from collections import deque\n",
    "    unVisit, ans = set(D.keys()), []\n",
    "    while unVisit:\n",
    "        queue = deque([next(iter(unVisit))])\n",
    "        while queue:\n",
    "            i = queue.popleft()\n",
    "            unVisit.remove(i)\n",
    "            ans.append(i)\n",
    "            for neighbor in filter(lambda n:n in unVisit, D[i]):\n",
    "                queue.append(neighbor)\n",
    "    return ans\n",
    "print( recursionBFS(D1), recursionBFS(D2) )"
   ]
  },
  {
   "cell_type": "markdown",
   "id": "0d9644dd",
   "metadata": {},
   "source": [
    "# INCOMPLETED"
   ]
  },
  {
   "cell_type": "code",
   "execution_count": 24,
   "id": "cdf79420",
   "metadata": {},
   "outputs": [
    {
     "name": "stdout",
     "output_type": "stream",
     "text": [
      "0 [<__main__.Node object at 0x7fbfeb696070>, <__main__.Node object at 0x7fbfeb6960a0>] [1, 3]\n"
     ]
    }
   ],
   "source": [
    "class Node(object):\n",
    "    def __init__(self, val = 0, neighbors = None):\n",
    "        self.val = val\n",
    "        self.neighbors = neighbors if neighbors is not None else []\n",
    "\n",
    "def matrix2Graph(M): # directed or undirected\n",
    "    nodeList = [ Node(i) for i in range(len(M)) ]\n",
    "    for i in range(len(M)):\n",
    "        for j in range(len(M[0])):\n",
    "            if M[i][j]:\n",
    "                nodeList[i].neighbors.append( nodeList[j] )\n",
    "    return nodeList[0]\n",
    "    \n",
    "G = matrix2Graph(M)\n",
    "print(G.val, G.neighbors, [node.val for node in G.neighbors] )"
   ]
  },
  {
   "cell_type": "code",
   "execution_count": 15,
   "id": "5669c634",
   "metadata": {},
   "outputs": [
    {
     "name": "stdout",
     "output_type": "stream",
     "text": [
      "[0, 1, 2, 3]\n"
     ]
    }
   ],
   "source": [
    "G = matrix2Graph(M)\n",
    "def dfs(G):\n",
    "    ans = []\n",
    "    def search(node, visit):\n",
    "        nonlocal ans\n",
    "        if node:\n",
    "            ans.append( node.val )\n",
    "            visit.add( id(node) )\n",
    "            for neighbor in filter(lambda N:id(N) not in visit, node.neighbors):\n",
    "                search( neighbor, visit )\n",
    "    search(G, set())\n",
    "    return ans\n",
    "\n",
    "print( dfs(G) )"
   ]
  },
  {
   "cell_type": "code",
   "execution_count": 6,
   "id": "62deff80",
   "metadata": {},
   "outputs": [
    {
     "name": "stdout",
     "output_type": "stream",
     "text": [
      "[0, 1, 3, 2]\n"
     ]
    }
   ],
   "source": [
    "from collections import deque\n",
    "def bfs(G):\n",
    "    ans, queue, visit = [], deque([G]), {id(G)}\n",
    "    def search():\n",
    "        nonlocal ans, queue, visit\n",
    "        if queue:\n",
    "            node = queue.popleft()\n",
    "            ans.append( node.val )\n",
    "            for neighbor in filter(lambda N:id(N) not in visit, node.neighbors):\n",
    "                visit.add( id(neighbor) )\n",
    "                queue.append( neighbor )\n",
    "            search() # can not be placed in the for loop\n",
    "    search()\n",
    "    return ans\n",
    "\n",
    "print( bfs(G) )"
   ]
  },
  {
   "cell_type": "code",
   "execution_count": 18,
   "id": "3fb87cf7",
   "metadata": {},
   "outputs": [
    {
     "name": "stdout",
     "output_type": "stream",
     "text": [
      "[0, 1, 2, 4, 3] [0, 1, 3, 2, 4]\n",
      "True False\n"
     ]
    }
   ],
   "source": [
    "\"\"\"\n",
    "G:\n",
    "0 — 1\n",
    "|   |\n",
    "3   2\n",
    "G.neighbors = [ node1, node3 ]\n",
    "G2: 4 - 1\n",
    "G3: 5\n",
    "\"\"\"\n",
    "G = matrix2Graph(M)\n",
    "G2 = Node(4, [G.neighbors[0]] )\n",
    "G3 = Node(5, [])\n",
    "G.neighbors[0].neighbors.append(G2)\n",
    "print(dfs(G), bfs(G))\n",
    "\n",
    "def isConnect(G1, G2):\n",
    "    connect = False\n",
    "    def dfs(node,visit):\n",
    "        nonlocal connect\n",
    "        if node:\n",
    "            visit.add( id(node) )\n",
    "            for neighbor in filter(lambda N:id(N) not in visit, node.neighbors):\n",
    "                if id(neighbor)==id(G2):\n",
    "                    connect = True\n",
    "                    return\n",
    "                else:\n",
    "                    dfs(neighbor,visit)\n",
    "    dfs(G1,set())\n",
    "    return connect\n",
    "print( isConnect(G,G2), isConnect(G,G3) )"
   ]
  },
  {
   "cell_type": "code",
   "execution_count": 20,
   "id": "5919e9ed",
   "metadata": {},
   "outputs": [
    {
     "name": "stdout",
     "output_type": "stream",
     "text": [
      "[0, 1, 2, 3] [0, 1, 3, 2]\n",
      "False True\n"
     ]
    }
   ],
   "source": [
    "\"\"\"\n",
    "G       E\n",
    "0 — 1   0 — 1\n",
    "|   |   |   |\n",
    "3   2   3 — 2\n",
    "\"\"\"\n",
    "G = matrix2Graph(M)\n",
    "E = matrix2Graph(M)\n",
    "E.neighbors[0].neighbors[1].neighbors.append( E.neighbors[1] )  # 2->3\n",
    "E.neighbors[1].neighbors.append( E.neighbors[0].neighbors[1] ) # 3->2\n",
    "print( dfs(E), bfs(E) )\n",
    "\n",
    "def hasCycle(G):\n",
    "    cycle = False\n",
    "    def dfs(node, visit, lastID=None):\n",
    "        nonlocal cycle\n",
    "        if not cycle and node:\n",
    "            visit.add( id(node) )\n",
    "            for neighbor in node.neighbors:\n",
    "                if id(neighbor)==lastID: # exclude trace parent node\n",
    "                    continue\n",
    "                elif id(neighbor) in visit: # don't use visit filter because cycle should be set as True\n",
    "                    cycle = True\n",
    "                    return\n",
    "                else:\n",
    "                    dfs( neighbor, visit, lastID=id(node) ) # dfs must implement directly due to unovewritable lastID\n",
    "    dfs(G, set())\n",
    "    return cycle\n",
    "print(hasCycle(G), hasCycle(E))"
   ]
  },
  {
   "cell_type": "code",
   "execution_count": 22,
   "id": "021dfa4c",
   "metadata": {},
   "outputs": [
    {
     "name": "stdout",
     "output_type": "stream",
     "text": [
      "[0, 1, 0, 1]\n",
      "[1, 0, 1, 0]\n",
      "[0, 1, 0, 0]\n",
      "[1, 0, 0, 0]\n"
     ]
    }
   ],
   "source": [
    "G = matrix2Graph(M)\n",
    "def graph2Matrix(G,n):\n",
    "    M = [ [0]*n for i in range(n) ]\n",
    "    def dfs(node,visit):\n",
    "        nonlocal M\n",
    "        if node:\n",
    "            visit.add( id(node) )\n",
    "            for neighbor in filter(lambda N:id(N) not in visit, node.neighbors):\n",
    "                M[node.val][neighbor.val], M[neighbor.val][node.val] = 1, 1\n",
    "                dfs(neighbor, visit)\n",
    "    dfs(G,set())\n",
    "    return M\n",
    "\n",
    "for row in graph2Matrix(G,4):\n",
    "    print(row)"
   ]
  },
  {
   "cell_type": "code",
   "execution_count": 24,
   "id": "755f1936",
   "metadata": {},
   "outputs": [
    {
     "name": "stdout",
     "output_type": "stream",
     "text": [
      "[0, 1, 0, 1]\n",
      "[1, 0, 1, 0]\n",
      "[0, 1, 0, 0]\n",
      "[1, 0, 0, 0]\n"
     ]
    }
   ],
   "source": [
    "\"\"\"\n",
    "G       spanningTree\n",
    "0 — 1   0 — 1\n",
    "| \\ |   |   |\n",
    "3   2   3   2\n",
    "# v nodes -> spanning tree has v-1 edges\n",
    "\"\"\"\n",
    "G = matrix2Graph(M)\n",
    "G.neighbors.append( G.neighbors[0].neighbors[1] ) # 0->2\n",
    "G.neighbors[0].neighbors[1].neighbors.append( G ) # 2->0\n",
    "\n",
    "def spanningTree(G):\n",
    "    if not G:\n",
    "        return None\n",
    "    else:\n",
    "        T = Node(G.val,[])\n",
    "        p = T\n",
    "    def dfs(node,visit,p):\n",
    "        if node:\n",
    "            visit.add( id(node) )\n",
    "            for neighbor in filter(lambda N:id(N) not in visit, node.neighbors):\n",
    "                p.neighbors.append( Node(neighbor.val,[p]) )\n",
    "                dfs(neighbor, visit, p.neighbors[-1])\n",
    "    dfs(G,set(),p)\n",
    "    return T\n",
    "\n",
    "T = spanningTree(G)\n",
    "for row in graph2Matrix(T,4):\n",
    "    print(row)"
   ]
  },
  {
   "cell_type": "code",
   "execution_count": 36,
   "id": "3d60f59e",
   "metadata": {},
   "outputs": [
    {
     "name": "stdout",
     "output_type": "stream",
     "text": [
      "{0: {(1, 16)}, 1: {(2, 5), (5, 11), (0, 16), (3, 6)}, 2: {(1, 5)}, 3: {(1, 6), (4, 18)}, 4: {(3, 18)}, 5: {(1, 11)}}\n"
     ]
    }
   ],
   "source": [
    "# Minimum spanning tree: Leetcode medium 1/3k and matrix\n",
    "\"\"\"\n",
    "1. Kruskal algorithm: Easy to understand but hard to implement because of the weighted adjacent list + heap. O(elog(e))\n",
    "    descending sort weights\n",
    "    while edges<nodes:\n",
    "        pop shortest weight\n",
    "        if add the edge contains cycle:\n",
    "            edges+=1\n",
    "2. Prim algorithm: Easy to understand and implement. Matrix. O(v**2)\n",
    "e.g. M                 min spannning tree\n",
    "0 — (16) —  1          0 — (16) —  1\n",
    "| \\       / | \\                  / | \\\n",
    "|  (21)(11) |  (5)            (11) |  (5)\n",
    "|    \\ /    |    \\             /   |    \\\n",
    "(19)  5     (6)   2           5    (6)   2\n",
    "|    /  \\   |    /                 |   \n",
    "|  (33)(14) |  (10)                | \n",
    "| /       \\ | /                    |\n",
    "4 — (18) —  3          4 — (18) —  3\n",
    "\"\"\"\n",
    "x = float('inf')\n",
    "D = {0:{(1,16), (4,19), (5,21)}, 1:{(0,16),(2,5),(3,6)}, 2:{(1,5),(3,10)}, 3:{(1,6),(2,10),(4,18)}, \\\n",
    "     4:{(0,19), (3,18), (5,33)}, 5:{(0,21), (1,11), (3,14), (4,33)}}\n",
    "\n",
    "def prim(D):\n",
    "    E = { node:set() for node in D }\n",
    "    for node in D:\n",
    "        minIdx, minEdge = min(D[node], key=lambda tup:tup[1])\n",
    "        E[node].add( (minIdx,minEdge) )\n",
    "        E[minIdx].add( (node,minEdge) )\n",
    "    return E\n",
    "print( prim(D) )"
   ]
  },
  {
   "cell_type": "code",
   "execution_count": 1,
   "id": "de6e829a",
   "metadata": {},
   "outputs": [
    {
     "name": "stdout",
     "output_type": "stream",
     "text": [
      "[34, 33, 25, 13, 0, 3, 12, 17]\n"
     ]
    }
   ],
   "source": [
    "# Shortest path algorithm\n",
    "# 1. Dijkstra: Greedy and non-negative edges only. O(v**2)\n",
    "# Leetcode all are non-negative edges\n",
    "D = {0:{}, 1:{(0,3)}, 2:{(0,10),(1,8)}, 3:{(2,12)}, 4:{(3,15),(5,3)}, 5:{(3,10),(6,9),(7,14)}, 6:{(7,10)}, 7:{(0,17)}}\n",
    "getEdge = lambda a,b: list(filter(lambda tup:tup[0]==b,D[a]))[0][1]\n",
    "parents = { key:set() for key in D }\n",
    "for src in D:\n",
    "    for dest,edge in D[src]:\n",
    "        parents[dest].add(src)\n",
    "\n",
    "def Dijkstra(D,start):\n",
    "    # initialize shortest path to each nodes\n",
    "    dist = [ 0 if i==start else (getEdge(start,i) if start in parents[i] else float('inf')) for i in range(len(D)) ]\n",
    "    \n",
    "    visit = {start}\n",
    "    for i in range(1,len(D)):\n",
    "        distTemp = [ float('inf') if j in visit else dist[j] for j in range(len(dist)) ]\n",
    "        minIdx   = distTemp.index( min(distTemp) )\n",
    "        visit.add( minIdx )\n",
    "        for idx,edge in D[minIdx]:\n",
    "            dist[idx] = min(dist[idx], dist[minIdx]+getEdge(minIdx,idx))\n",
    "    return dist\n",
    "\n",
    "print( Dijkstra(D,4) ) # [34, 33, 25, 13, 0, 3, 12, 17]"
   ]
  },
  {
   "cell_type": "code",
   "execution_count": 2,
   "id": "9779a956",
   "metadata": {},
   "outputs": [
    {
     "name": "stdout",
     "output_type": "stream",
     "text": [
      "[34, 33, 25, 13, 0, 3, 12, 17]\n",
      "{4: [4], 5: [4, 5], 6: [4, 5, 6], 3: [4, 5, 3], 7: [4, 5, 7], 2: [4, 5, 3, 2], 1: [4, 5, 3, 2, 1], 0: [4, 5, 7, 0]}\n"
     ]
    }
   ],
   "source": [
    "D = {0:{}, 1:{(0,3)}, 2:{(0,10),(1,8)}, 3:{(2,12)}, 4:{(3,15),(5,3)}, 5:{(3,10),(6,9),(7,14)}, 6:{(7,10)}, 7:{(0,17)}}\n",
    "getEdge = lambda a,b: list(filter(lambda tup:tup[0]==b,D[a]))[0][1]\n",
    "parents = { key:set() for key in D }\n",
    "for src in D:\n",
    "    for dest,edge in D[src]:\n",
    "        parents[dest].add(src)\n",
    "\n",
    "def DijkstraSpanning(D,start):\n",
    "    # initialize shortest path to each nodes\n",
    "    dist = [ 0 if i==start else (getEdge(start,i) if start in parents[i] else float('inf')) for i in range(len(D)) ]\n",
    "    \n",
    "    visit = {start:[start]}\n",
    "    for i in range(1,len(D)):\n",
    "        distTemp = [ float('inf') if j in visit else dist[j] for j in range(len(dist)) ]\n",
    "        minIdx   = distTemp.index( min(distTemp) )\n",
    "        minParentIdx = min([ (parentIdx,dist[parentIdx]+getEdge(parentIdx,minIdx)) for parentIdx in parents[minIdx] ], key=lambda tup:tup[1])[0]\n",
    "        visit[minIdx] = visit[minParentIdx] + [ minIdx ]\n",
    "        for idx,edge in D[minIdx]:\n",
    "            dist[idx] = min(dist[idx], dist[minIdx]+getEdge(minIdx,idx))\n",
    "    return dist, visit\n",
    "\n",
    "dist, visit = DijkstraSpanning(D,4)\n",
    "print(dist)  # [34, 33, 25, 13, 0, 3, 12, 17]\n",
    "print(visit) # {4: [4], 5: [4, 5], 6: [4, 5, 6], 3: [4, 5, 3], 7: [4, 5, 7], 2: [4, 5, 3, 2], 1: [4, 5, 3, 2, 1], 0: [4, 5, 7, 0]}"
   ]
  },
  {
   "cell_type": "code",
   "execution_count": 8,
   "id": "0ae016d7",
   "metadata": {},
   "outputs": [
    {
     "name": "stdout",
     "output_type": "stream",
     "text": [
      "(5, 1)\n",
      "['up', 'up', 'up', 'up', 'right', 'right', 'down']\n"
     ]
    }
   ],
   "source": [
    "# Maze\n",
    "M = [\n",
    "    [\"X\", \"X\", \"X\", \"X\", \"X\"],\n",
    "    [\"X\", \".\", \".\", \".\", \"X\"],\n",
    "    [\"X\", \".\", \"X\", \"T\", \"X\"],\n",
    "    [\"X\", \".\", \"X\", \"X\", \"X\"],\n",
    "    [\"X\", \".\", \".\", \".\", \"X\"],\n",
    "    [\"X\", \".\", \"X\", \"X\", \"X\"],\n",
    "    ]\n",
    "entrance = (-1,-1)\n",
    "\n",
    "def maze(M):\n",
    "    global entrance\n",
    "    entrance = findEntrance(M)\n",
    "    f(entrance[0], entrance[1], [])\n",
    "    \n",
    "def findEntrance(M):\n",
    "    for i in range(len(M)):\n",
    "        if M[i][0]=='.':\n",
    "            return i, 0\n",
    "        elif M[i][-1]=='.':\n",
    "            return i, len(M[0])-1\n",
    "    for j in range(len(M[0])):\n",
    "        if M[0][j]=='.':\n",
    "            return 0, j\n",
    "        elif M[-1][j]=='.':\n",
    "            return len(M)-1, j\n",
    "            \n",
    "def f(i, j, path):\n",
    "    global M, ans\n",
    "    M[i][j] = 'B' # modify given matrix directly\n",
    "    if j>0:\n",
    "        if M[i][j-1]=='.':\n",
    "            f(i,j-1,path+['left'])\n",
    "        elif M[i][j-1]=='T':\n",
    "            ans = path+['left']\n",
    "    if j<len(M)-1:\n",
    "        if M[i][j+1]=='.':\n",
    "            f(i,j+1,path+['right'])\n",
    "        elif M[i][j+1]=='T':\n",
    "            ans = path+['right']\n",
    "    if i>0:\n",
    "        if M[i-1][j]=='.':\n",
    "            f(i-1,j,path+['up'])\n",
    "        elif M[i-1][j]=='T':\n",
    "            ans = path+['up']\n",
    "    if i<len(M)-1:\n",
    "        if M[i+1][j]=='.':\n",
    "            f(i+1,j,path+['down'])\n",
    "        elif M[i+1][j]=='T':\n",
    "            ans = path+['down']\n",
    "\n",
    "maze(M)\n",
    "print(entrance)\n",
    "print(ans)"
   ]
  },
  {
   "cell_type": "code",
   "execution_count": 9,
   "id": "7123ce03",
   "metadata": {},
   "outputs": [
    {
     "data": {
      "text/plain": [
       "False"
      ]
     },
     "execution_count": 9,
     "metadata": {},
     "output_type": "execute_result"
    }
   ],
   "source": [
    "# Word search\n",
    "class Solution(object):\n",
    "    def exist(self, board, word):\n",
    "        \"\"\"\n",
    "        :type board: List[List[str]]\n",
    "        :type word: str\n",
    "        :rtype: bool\n",
    "        \"\"\"\n",
    "        self.board, self.word, self.ans = board, word, False\n",
    "        startL = [ (i,j) if board[i][j]==word[0] else tuple() for j in range(len(board[0])) for i in range(len(board)) ]\n",
    "        for i,j in filter(len, startL):\n",
    "            if self.ans:\n",
    "                return True\n",
    "            else:   \n",
    "                self.dfs(i, j ,set(), 0)\n",
    "        return self.ans\n",
    "    \n",
    "    def dfs(self,i,j,visit,scan):\n",
    "        if self.board[i][j] == self.word[scan]:\n",
    "            scan+=1\n",
    "            if scan==len(self.word):\n",
    "                self.ans = True\n",
    "            else:\n",
    "                visit.add( (i,j) )\n",
    "                if i>0 and (i-1,j) not in visit:\n",
    "                    self.dfs(i-1, j, visit, scan)\n",
    "                if i<len(self.board)-1 and (i+1,j) not in visit:\n",
    "                    self.dfs(i+1, j, visit, scan)\n",
    "                if j>0 and (i,j-1) not in visit:\n",
    "                    self.dfs(i, j-1, visit, scan)\n",
    "                if j<len(self.board[0])-1 and (i,j+1) not in visit:\n",
    "                    self.dfs(i, j+1, visit, scan)\n",
    "                visit.remove( (i,j) ) # remember to remove !!!\n",
    "\n",
    "board = [[\"A\",\"A\",\"A\",\"A\",\"A\",\"A\"],[\"A\",\"A\",\"A\",\"A\",\"A\",\"A\"],[\"A\",\"A\",\"A\",\"A\",\"A\",\"A\"],\n",
    "         [\"A\",\"A\",\"A\",\"A\",\"A\",\"A\"],[\"A\",\"A\",\"A\",\"A\",\"A\",\"A\"],[\"A\",\"A\",\"A\",\"A\",\"A\",\"A\"]]\n",
    "word = \"AAAAAAAAAAAAAAB\"\n",
    "Solution().exist(board,word)"
   ]
  },
  {
   "cell_type": "code",
   "execution_count": null,
   "id": "238ee115",
   "metadata": {},
   "outputs": [],
   "source": []
  }
 ],
 "metadata": {
  "kernelspec": {
   "display_name": "Python 3 (ipykernel)",
   "language": "python",
   "name": "python3"
  },
  "language_info": {
   "codemirror_mode": {
    "name": "ipython",
    "version": 3
   },
   "file_extension": ".py",
   "mimetype": "text/x-python",
   "name": "python",
   "nbconvert_exporter": "python",
   "pygments_lexer": "ipython3",
   "version": "3.8.10"
  }
 },
 "nbformat": 4,
 "nbformat_minor": 5
}
