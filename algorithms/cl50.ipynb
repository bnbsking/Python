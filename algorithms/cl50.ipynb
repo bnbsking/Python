{
 "cells": [
  {
   "cell_type": "code",
   "execution_count": 71,
   "id": "serious-prefix",
   "metadata": {},
   "outputs": [],
   "source": [
    "# 2 Add Two Numbers\n",
    "# Definition for singly-linked list.\n",
    "# class ListNode(object):\n",
    "#     def __init__(self, val=0, next=None):\n",
    "#         self.val = val\n",
    "#         self.next = next\n",
    "class Solution(object):\n",
    "    def addTwoNumbers(self, l1, l2):\n",
    "        \"\"\"\n",
    "        :type l1: ListNode\n",
    "        :type l2: ListNode\n",
    "        :rtype: ListNode\n",
    "        \"\"\"\n",
    "        l = ListNode(0)\n",
    "        p = l\n",
    "        carry = 0\n",
    "        while l1 or l2:\n",
    "            if l1:\n",
    "                n1 = l1.val\n",
    "                l1 = l1.next\n",
    "            else:\n",
    "                n1 = 0\n",
    "            if l2:\n",
    "                n2 = l2.val\n",
    "                l2 = l2.next\n",
    "            else:\n",
    "                n2 = 0\n",
    "            n = n1+n2+carry\n",
    "            carry = n>=10\n",
    "            p.next = ListNode(n%10)\n",
    "            p = p.next\n",
    "        if carry:\n",
    "            p.next = ListNode(1)\n",
    "        return l.next"
   ]
  },
  {
   "cell_type": "code",
   "execution_count": 74,
   "id": "august-vault",
   "metadata": {},
   "outputs": [],
   "source": [
    "# 3 Longest Substring Without Repeating Characters\n",
    "class Solution(object):\n",
    "    def lengthOfLongestSubstring(self, s):\n",
    "        \"\"\"\n",
    "        :type s: str\n",
    "        :rtype: int\n",
    "        \"\"\"\n",
    "        i, ans, start, D = 0, 0, 0, {}\n",
    "        for i in range(len(s)):\n",
    "            # update start pointer # use () as start pointer # case1-self pointer (a)*a: start=D[s[i]]+1 # case2-other pointer a*(b)*a: start=start\n",
    "            if s[i] in D:\n",
    "                start = max(start,D[s[i]]+1)\n",
    "            # update hashmap\n",
    "            D[s[i]] = i\n",
    "            # update answer (after update start is because to ensure no conflict) e.g. update answer first a(b)ca -> 3-1=2, update start first a(b)ca -> 3-1+1=3\n",
    "            ans = max(ans,i-start+1)\n",
    "        return ans"
   ]
  },
  {
   "cell_type": "code",
   "execution_count": 75,
   "id": "filled-estimate",
   "metadata": {},
   "outputs": [],
   "source": [
    "# 5. Longest Palindromic Substring\n",
    "class Solution(object):\n",
    "    def longestPalindrome(self, s):\n",
    "        \"\"\"\n",
    "        :type s: str\n",
    "        :rtype: str\n",
    "        \"\"\"\n",
    "        ans = \"\"\n",
    "        \n",
    "        # check odd palindromic\n",
    "        for i in range(len(s)):\n",
    "            extend = 0\n",
    "            for j in range( 1,1+min(i,len(s)-i-1) ): # leftCheck=i, rightCheck=len(s)-i-1 # (a)bc 3-0-1 # a(b)c 3-1-1\n",
    "                if s[i-j]==s[i+j]:\n",
    "                    extend+=1\n",
    "                else:\n",
    "                    break\n",
    "            if 1+extend*2>=len(ans):\n",
    "                ans = s[i-extend:i+extend+1]\n",
    "            \n",
    "        # check even palindromic\n",
    "        for i in range(len(s)-1):\n",
    "            if s[i]!=s[i+1]:\n",
    "                continue\n",
    "            extend = 0\n",
    "            for j in range( 1,1+min(i,len(s)-i-2) ): # j left center # (aa)bc 4-0-2 # a(bb)c 4-1-2\n",
    "                if s[i-j]==s[i+1+j]:\n",
    "                    extend+=1\n",
    "                else:\n",
    "                    break\n",
    "            if 2+extend*2>=len(ans):\n",
    "                ans = s[i-extend:i+1+extend+1]\n",
    "                \n",
    "        return ans"
   ]
  },
  {
   "cell_type": "code",
   "execution_count": 77,
   "id": "handy-voltage",
   "metadata": {},
   "outputs": [
    {
     "data": {
      "text/plain": [
       "49"
      ]
     },
     "execution_count": 77,
     "metadata": {},
     "output_type": "execute_result"
    }
   ],
   "source": [
    "# 11. Container With Most Water\n",
    "class Solution(object):\n",
    "    def maxArea(self, height):\n",
    "        \"\"\"\n",
    "        :type height: List[int]\n",
    "        :rtype: int\n",
    "        \"\"\"\n",
    "        l, r = 0, len(height)-1\n",
    "        ans = (r-l)*min(height[l],height[r])\n",
    "        \n",
    "        while l<r:\n",
    "            if height[l]<=height[r]:\n",
    "                l+=1\n",
    "            else:\n",
    "                r-=1\n",
    "            ans = max(ans,  (r-l)*min(height[l],height[r]) )\n",
    "        \n",
    "        return ans\n",
    "    \n",
    "Solution().maxArea([1,8,6,2,5,4,8,3,7])"
   ]
  },
  {
   "cell_type": "code",
   "execution_count": 80,
   "id": "clinical-money",
   "metadata": {},
   "outputs": [
    {
     "data": {
      "text/plain": [
       "[[-1, 0, 1], [-1, -1, 2]]"
      ]
     },
     "execution_count": 80,
     "metadata": {},
     "output_type": "execute_result"
    }
   ],
   "source": [
    "# 15. 3Sum\n",
    "class Solution(object):\n",
    "    def threeSum(self, nums):\n",
    "        \"\"\"\n",
    "        :type nums: List[int]\n",
    "        :rtype: List[List[int]]\n",
    "        \"\"\"\n",
    "        nums = sorted(nums)\n",
    "        ansS = set()\n",
    "        for i in range(len(nums)-2):\n",
    "            l, r = i+1, len(nums)-1\n",
    "            while l<r:\n",
    "                if nums[i]+nums[l]+nums[r]>0:\n",
    "                    r-=1\n",
    "                elif nums[i]+nums[l]+nums[r]==0:\n",
    "                    ansS.add( (nums[i],nums[l],nums[r]) )\n",
    "                    l+=1\n",
    "                else:\n",
    "                    l+=1\n",
    "        return [list(tup) for tup in ansS]\n",
    "    \n",
    "Solution().threeSum([-1,0,1,2,-1,-4])"
   ]
  },
  {
   "cell_type": "code",
   "execution_count": 89,
   "id": "pacific-vision",
   "metadata": {},
   "outputs": [
    {
     "data": {
      "text/plain": [
       "2"
      ]
     },
     "execution_count": 89,
     "metadata": {},
     "output_type": "execute_result"
    }
   ],
   "source": [
    "# 16. 3Sum Closest\n",
    "class Solution(object):\n",
    "    def threeSumClosest(self, nums, target):\n",
    "        \"\"\"\n",
    "        :type nums: List[int]\n",
    "        :type target: int\n",
    "        :rtype: int\n",
    "        \"\"\"\n",
    "        nums = sorted(nums)\n",
    "        best3sum = float('inf')\n",
    "        bestDist = float('inf')\n",
    "        for i in range(len(nums)-2):\n",
    "            l, r = i+1, len(nums)-1\n",
    "            while l<r:\n",
    "                sum3 = nums[i]+nums[l]+nums[r]\n",
    "                if sum3>target:\n",
    "                    r-=1\n",
    "                elif sum3==target:\n",
    "                    return target\n",
    "                else:\n",
    "                    l+=1\n",
    "                if abs(sum3-target)<bestDist:                \n",
    "                    bestDist = abs(sum3-target)\n",
    "                    best3sum = sum3\n",
    "        return best3sum\n",
    "    \n",
    "Solution().threeSumClosest([0,1,1,1], target = -100)"
   ]
  },
  {
   "cell_type": "code",
   "execution_count": 101,
   "id": "judicial-mirror",
   "metadata": {},
   "outputs": [
    {
     "data": {
      "text/plain": [
       "['ad', 'ae', 'af', 'bd', 'be', 'bf', 'cd', 'ce', 'cf']"
      ]
     },
     "execution_count": 101,
     "metadata": {},
     "output_type": "execute_result"
    }
   ],
   "source": [
    "# 17. Letter Combinations of a Phone Number\n",
    "class Solution(object):\n",
    "    D = {\"2\":[\"a\",\"b\",\"c\"], \"3\":[\"d\",\"e\",\"f\"], \"4\":[\"g\",\"h\",\"i\"], \"5\":[\"j\",\"k\",\"l\"], \"6\":[\"m\",\"o\",\"n\"], \\\n",
    "             \"7\":[\"p\",\"q\",\"r\",\"s\"], \"8\":[\"t\",\"u\",\"v\"], \"9\":[\"w\",\"x\",\"y\",\"z\"]}\n",
    "    def letterCombinations(self, digits):\n",
    "        \"\"\"\n",
    "        :type digits: str\n",
    "        :rtype: List[str]\n",
    "        \"\"\"\n",
    "        ans = [\"\"]\n",
    "        for d in digits:\n",
    "            newAns = []\n",
    "            for s in ans:\n",
    "                for char in Solution().D[d]:\n",
    "                    newAns.append( s+char )\n",
    "            ans = newAns\n",
    "        return ans if len(ans)>1 else []\n",
    "    \n",
    "Solution().letterCombinations(\"23\")"
   ]
  },
  {
   "cell_type": "code",
   "execution_count": 104,
   "id": "human-improvement",
   "metadata": {},
   "outputs": [
    {
     "data": {
      "text/plain": [
       "[[-2, -1, 1, 2], [-1, 0, 0, 1], [-2, 0, 0, 2]]"
      ]
     },
     "execution_count": 104,
     "metadata": {},
     "output_type": "execute_result"
    }
   ],
   "source": [
    "# 18. 4Sum\n",
    "class Solution(object):\n",
    "    def fourSum(self, nums, target):\n",
    "        \"\"\"\n",
    "        :type nums: List[int]\n",
    "        :rtype: List[List[int]]\n",
    "        \"\"\"\n",
    "        nums = sorted(nums)\n",
    "        ansS = set()\n",
    "        for i in range(len(nums)-3):\n",
    "            for j in range(i+1,len(nums)-2):\n",
    "                l, r = j+1, len(nums)-1\n",
    "                while l<r:\n",
    "                    sum4 = nums[i]+nums[j]+nums[l]+nums[r]\n",
    "                    if sum4>target:\n",
    "                        r-=1\n",
    "                    elif sum4==target:\n",
    "                        ansS.add( (nums[i],nums[j],nums[l],nums[r]) )\n",
    "                        l+=1\n",
    "                    else:\n",
    "                        l+=1                       \n",
    "        return [ list(tup) for tup in ansS ]\n",
    "\n",
    "Solution().fourSum([1,0,-1,0,-2,2], target = 0)"
   ]
  },
  {
   "cell_type": "code",
   "execution_count": 105,
   "id": "driving-stuff",
   "metadata": {},
   "outputs": [],
   "source": [
    "# 19. Remove Nth Node From End of List\n",
    "# Definition for singly-linked list.\n",
    "# class ListNode(object):\n",
    "#     def __init__(self, val=0, next=None):\n",
    "#         self.val = val\n",
    "#         self.next = next\n",
    "class Solution(object):\n",
    "    def removeNthFromEnd(self, head, n):\n",
    "        \"\"\"\n",
    "        :type head: ListNode\n",
    "        :type n: int\n",
    "        :rtype: ListNode\n",
    "        \"\"\"\n",
    "        # get length # remove last n^th, p1 move (length-n-1) times # p2 move (length-n+1) times\n",
    "        length, p = 0, head\n",
    "        while p:\n",
    "            length+=1\n",
    "            p = p.next\n",
    "                       \n",
    "        if n==length:\n",
    "            return head.next\n",
    "        p1 = head\n",
    "        for i in range(length-n-1):\n",
    "            p1 = p1.next\n",
    "        p1.next = p1.next.next\n",
    "        return head\n",
    "    \n",
    "# [1,3,4,5]"
   ]
  },
  {
   "cell_type": "code",
   "execution_count": 111,
   "id": "adaptive-sword",
   "metadata": {},
   "outputs": [
    {
     "data": {
      "text/plain": [
       "['((()))', '(()())', '(())()', '()(())', '()()()']"
      ]
     },
     "execution_count": 111,
     "metadata": {},
     "output_type": "execute_result"
    }
   ],
   "source": [
    "# 22. Generate Parentheses\n",
    "class Solution(object):\n",
    "    def generateParenthesis(self, n):\n",
    "        \"\"\"\n",
    "        :type n: int\n",
    "        :rtype: List[str]\n",
    "        \"\"\"\n",
    "        return self.f([\"\"],n,n)\n",
    "        \n",
    "    # given L[str], and remaining l,r -> all the result\n",
    "    # l must <=r\n",
    "    def f(self,L,l,r):\n",
    "        if l==0: # end\n",
    "            return [ ele+\")\"*r for ele in L]\n",
    "        if l==r: # left first only\n",
    "            return self.f( [ele+\"(\" for ele in L], l-1, r )\n",
    "        return self.f( [ele+\"(\" for ele in L], l-1, r ) + self.f( [ele+\")\" for ele in L], l, r-1 )\n",
    "        \n",
    "Solution().generateParenthesis(3)"
   ]
  },
  {
   "cell_type": "code",
   "execution_count": 124,
   "id": "racial-commission",
   "metadata": {},
   "outputs": [
    {
     "name": "stdout",
     "output_type": "stream",
     "text": [
      "2 1 4 3 "
     ]
    }
   ],
   "source": [
    "# 24. Swap Nodes in Pairs\n",
    "# Definition for singly-linked list.\n",
    "class ListNode(object):\n",
    "    def __init__(self, val=0, next=None):\n",
    "        self.val = val\n",
    "        self.next = next\n",
    "class Solution(object):\n",
    "    def swapPairs(self, head):\n",
    "        \"\"\"\n",
    "        :type head: ListNode\n",
    "        :rtype: ListNode\n",
    "        \"\"\"\n",
    "        if not head or not head.next: # end if len<=1\n",
    "            return head\n",
    "        \n",
    "        newHead = ListNode(0)\n",
    "        newHead.next = head\n",
    "        p, l, r = newHead, newHead.next, newHead.next.next\n",
    "        while r:\n",
    "            p.next = r\n",
    "            l.next = r.next\n",
    "            r.next = l\n",
    "\n",
    "            p = p.next.next\n",
    "            if p.next and p.next.next:\n",
    "                l = p.next\n",
    "                r = p.next.next\n",
    "            else:\n",
    "                break\n",
    "        \n",
    "        return newHead.next\n",
    "    \n",
    "def f(head):\n",
    "    p = head\n",
    "    while p:\n",
    "        print(p.val, end=\" \")\n",
    "        p = p.next\n",
    "    \n",
    "head = ListNode(1)\n",
    "head.next = ListNode(2)\n",
    "head.next.next = ListNode(3)\n",
    "head.next.next.next = ListNode(4)\n",
    "f( Solution().swapPairs(head) )"
   ]
  },
  {
   "cell_type": "code",
   "execution_count": 145,
   "id": "continuing-worcester",
   "metadata": {},
   "outputs": [],
   "source": [
    "# 31. Next permutations\n",
    "# 1,2,3 -> 1,3,2 -> 2,1,3 -> 2,3,1 -> 3,1,2 -> 3,2,1 -> 1,2,3\n",
    "# 3 1 7 2 (6) 5\n",
    "class Solution(object):\n",
    "    def nextPermutation(self, nums):\n",
    "        if len(nums)<2:\n",
    "            return\n",
    "        i, j = len(nums)-1, len(nums)-1 # i at peak idx # j is idx that has least larger than nums[i-1] \n",
    "        while i>=0 and nums[i-1]>=nums[i]:\n",
    "            i-=1\n",
    "        while j>=0 and nums[j]<=nums[i-1]:\n",
    "            j-=1\n",
    "        \n",
    "        if i!=0: # i==0 means ascending number # dont need to swap\n",
    "            nums[i-1], nums[j] = nums[j], nums[i-1]\n",
    "\n",
    "        for k in range( len(nums[i:])//2 ): # reverse the order after i^th (includes i)\n",
    "            nums[i+k], nums[-1-k] = nums[-1-k], nums[i+k]"
   ]
  },
  {
   "cell_type": "code",
   "execution_count": 147,
   "id": "scheduled-composition",
   "metadata": {},
   "outputs": [
    {
     "data": {
      "text/plain": [
       "1"
      ]
     },
     "execution_count": 147,
     "metadata": {},
     "output_type": "execute_result"
    }
   ],
   "source": [
    "# 33. Search in Rotated Sorted Array\n",
    "class Solution(object):\n",
    "    def search(self, nums, target):\n",
    "        \"\"\"\n",
    "        :type nums: List[int]\n",
    "        :type target: int\n",
    "        :rtype: int\n",
    "        \"\"\"\n",
    "        l, r = 0, len(nums)-1\n",
    "        while l<=r:\n",
    "            m = (l+r)//2\n",
    "            if nums[m]==target:\n",
    "                return m\n",
    "            elif nums[l]<=nums[m]: # left is normal\n",
    "                if nums[l]<=target<nums[m]:\n",
    "                    r = m-1\n",
    "                else:\n",
    "                    l = m+1\n",
    "            else: # right is normal\n",
    "                if nums[m]<target<=nums[r]:\n",
    "                    l = m+1\n",
    "                else:\n",
    "                    r = m-1\n",
    "        return -1\n",
    "\n",
    "Solution().search(nums = [3,1], target = 1) # 1,2,(3),4,5 # 2,3,(4),5,1 # 4,5,(1),2,3 # 5,1,(2),3,4"
   ]
  },
  {
   "cell_type": "code",
   "execution_count": 149,
   "id": "damaged-explorer",
   "metadata": {},
   "outputs": [
    {
     "data": {
      "text/plain": [
       "[3, 4]"
      ]
     },
     "execution_count": 149,
     "metadata": {},
     "output_type": "execute_result"
    }
   ],
   "source": [
    "# 34. Find First and Last Position of Element in Sorted Array\n",
    "class Solution(object):\n",
    "    def searchRange(self, nums, target):\n",
    "        \"\"\"\n",
    "        :type nums: List[int]\n",
    "        :type target: int\n",
    "        :rtype: List[int]\n",
    "        \"\"\"\n",
    "        l, r, find = 0, len(nums)-1, -1\n",
    "        while l<=r:\n",
    "            m = (l+r)//2\n",
    "            if nums[m]==target:\n",
    "                find = m\n",
    "                break\n",
    "            elif nums[m]<target:\n",
    "                l = m+1\n",
    "            else:\n",
    "                r = m-1\n",
    "        \n",
    "        if find==-1:\n",
    "            return [-1,-1]\n",
    "        else:\n",
    "            lBound, rBound = find, find\n",
    "            while lBound>=0 and nums[lBound]==target:\n",
    "                lBound -= 1\n",
    "            while rBound<=len(nums)-1 and nums[rBound]==target:\n",
    "                rBound += 1\n",
    "            return [lBound+1, rBound-1]\n",
    "        \n",
    "Solution().searchRange([5,7,7,8,8,10],8)"
   ]
  },
  {
   "cell_type": "code",
   "execution_count": 196,
   "id": "centered-murray",
   "metadata": {},
   "outputs": [
    {
     "data": {
      "text/plain": [
       "[[2, 3, 3], [3, 5], [2, 2, 2, 2]]"
      ]
     },
     "execution_count": 196,
     "metadata": {},
     "output_type": "execute_result"
    }
   ],
   "source": [
    "# 38. Combination sum\n",
    "class Solution(object):\n",
    "    def combinationSum(self, candidates, target):\n",
    "        \"\"\"\n",
    "        :type candidates: List[int]\n",
    "        :type target: int\n",
    "        :rtype: List[List[int]]\n",
    "        \"\"\"\n",
    "        # ax+by+cz=target -> find (a,b,c)\n",
    "        # L[i] means target==i # L[i][j] means when target=i jTH combination # L[i][j] means when target=i jTH combination kTH variable\n",
    "        L = [ {(0,)*len(candidates)} ]\n",
    "        for i in range(1,target+1):\n",
    "            sumIS = set()\n",
    "            for k in range(len(candidates)):\n",
    "                if i-candidates[k]>=0:\n",
    "                    for combination in L[i-candidates[k]]:\n",
    "                        newCombination = list(combination)\n",
    "                        newCombination[k]+=1\n",
    "                        sumIS.add( tuple(newCombination) )\n",
    "            L.append( sumIS )\n",
    "              \n",
    "        ans = []\n",
    "        for combination in sumIS:\n",
    "            expandC = []\n",
    "            for k in range(len(candidates)):\n",
    "                for i in range(combination[k]):\n",
    "                    expandC.append( candidates[k] )\n",
    "            ans.append( expandC )\n",
    "        return ans\n",
    "\n",
    "Solution().combinationSum(candidates = [2,3,5], target = 8)"
   ]
  },
  {
   "cell_type": "code",
   "execution_count": null,
   "id": "everyday-happiness",
   "metadata": {},
   "outputs": [],
   "source": [
    "40. Combination Sum II\n",
    "Given a collection of candidate numbers (candidates) and a target number (target), find all unique combinations in candidates where the candidate numbers sum to target.\n",
    "Each number in candidates may only be used once in the combination.\n",
    "Note: The solution set must not contain duplicate combinations.\n",
    "\n",
    "Example 1:\n",
    "Input: candidates = [10,1,2,7,6,1,5], target = 8\n",
    "Output: \n",
    "[\n",
    "[1,1,6],\n",
    "[1,2,5],\n",
    "[1,7],\n",
    "[2,6]\n",
    "]\n",
    "Example 2:\n",
    "\n",
    "Input: candidates = [2,5,2,1,2], target = 5\n",
    "Output: \n",
    "[\n",
    "[1,2,2],\n",
    "[5]\n",
    "]"
   ]
  },
  {
   "cell_type": "code",
   "execution_count": 195,
   "id": "foster-tutorial",
   "metadata": {},
   "outputs": [
    {
     "data": {
      "text/plain": [
       "[[5], [1, 2, 2]]"
      ]
     },
     "execution_count": 195,
     "metadata": {},
     "output_type": "execute_result"
    }
   ],
   "source": [
    "# 40. Combination Sum II\n",
    "class Solution(object):\n",
    "    def combinationSum2(self, candidates, target):\n",
    "        \"\"\"\n",
    "        :type candidates: List[int]\n",
    "        :type target: int\n",
    "        :rtype: List[List[int]]\n",
    "        \"\"\"\n",
    "        # obtain remaining times of each number\n",
    "        canD = {} # candidate number -> times of the candidate number in candidates\n",
    "        for c in candidates:\n",
    "            canD[c] = canD[c]+1 if c in canD else 1 # e.g. canD={1:1, 2:3, 5:1}\n",
    "        canL = sorted(list(canD.keys())) # e.g. canL=[1,2,5]\n",
    "\n",
    "        # L[i] means when target=i all the combinations set\n",
    "        L = [ { (0,)*len(canL) } ]\n",
    "        for i in range(1,target+1):\n",
    "            sumIS = set()\n",
    "            for k in range(len(canL)): # iterate over all candidates number when target=i\n",
    "                if i-canL[k]>=0:\n",
    "                    for combination in L[i-canL[k]]: # iterate all combinations when target=i and candidate-number=canL[k]\n",
    "                        if combination[k] < canD[canL[k]]: # not reach maxmimum usage\n",
    "                            newCombination = list(combination)\n",
    "                            newCombination[k]+=1\n",
    "                            sumIS.add( tuple(newCombination) )\n",
    "            L.append( sumIS )\n",
    "        \n",
    "        ans = []\n",
    "        for tup in sumIS:\n",
    "            localL = []\n",
    "            for i in range(len(tup)):\n",
    "                localL += [canL[i]]*tup[i]\n",
    "            ans.append( localL )\n",
    "        return ans\n",
    "    \n",
    "Solution().combinationSum2(candidates = [2,5,2,1,2], target = 5)"
   ]
  },
  {
   "cell_type": "code",
   "execution_count": 271,
   "id": "later-trailer",
   "metadata": {},
   "outputs": [
    {
     "name": "stdout",
     "output_type": "stream",
     "text": [
      "0 1 | 1 2 | 2 3 | \n",
      "------------------------------\n",
      "2 3 | 1 2 | 0 1 | \n",
      "------------------------------\n",
      "<class 'list_reverseiterator'>, iter:True, getitem:False, next:True\n",
      "3 | 2 | 1 | "
     ]
    },
    {
     "data": {
      "text/plain": [
       "('0', 'A', 'a', 48, 65, 97)"
      ]
     },
     "execution_count": 271,
     "metadata": {},
     "output_type": "execute_result"
    }
   ],
   "source": [
    "L = [1,2,3]\n",
    "for i in range(0,len(L),1): # i=0; i<len(L); i++\n",
    "    print(i, L[i], end=\" | \")\n",
    "print('\\n'+'-'*30)\n",
    "\n",
    "for i in range(len(L)-1,-1,-1): # i=len(L)-1; i>-1; i--\n",
    "    print(i, L[i], end=\" | \")\n",
    "print('\\n'+'-'*30)\n",
    "\n",
    "R = reversed(L)\n",
    "print(type(R),f\"iter:{'__iter__' in dir(R)}\",f\"getitem:{'__getitem__' in dir(R)}\",f\"next:{'__next__' in dir(R)}\",sep=\", \") # similar as other iterators e.g. zip, etc.\n",
    "for i in reversed(L):\n",
    "    print(i, end=\" | \")\n",
    "\n",
    "chr(48), chr(65), chr(97), ord('0'), ord('A'), ord('a') # name is target: chr:->ch, ord:->decimal"
   ]
  },
  {
   "cell_type": "code",
   "execution_count": null,
   "id": "formal-status",
   "metadata": {},
   "outputs": [],
   "source": []
  }
 ],
 "metadata": {
  "kernelspec": {
   "display_name": "Python 3",
   "language": "python",
   "name": "python3"
  },
  "language_info": {
   "codemirror_mode": {
    "name": "ipython",
    "version": 3
   },
   "file_extension": ".py",
   "mimetype": "text/x-python",
   "name": "python",
   "nbconvert_exporter": "python",
   "pygments_lexer": "ipython3",
   "version": "3.8.5"
  }
 },
 "nbformat": 4,
 "nbformat_minor": 5
}
