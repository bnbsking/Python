{
 "cells": [
  {
   "cell_type": "markdown",
   "id": "46f315d7",
   "metadata": {},
   "source": [
    "### Version2:\n",
    "+ stack and visit were share parameters in DFS -> move to the function argument\n",
    "+ Adjacent matrix -> {val:{(neighbor,edge), ...}, ...}\n",
    "+ Remember to remove ele from visit at the end of DFS for \"word search problem\", \"maze problem\"",
   ]
  },
  {
   "cell_type": "code",
   "execution_count": 1,
   "id": "b080984f",
   "metadata": {},
   "outputs": [
    {
     "name": "stdout",
     "output_type": "stream",
     "text": [
      "0 [<__main__.Node object at 0x7f72000777c0>, <__main__.Node object at 0x7f72000778b0>] [1, 3]\n"
     ]
    }
   ],
   "source": [
    "M = [\n",
    "    #0  #1 #2 #3\n",
    "    [0, 1, 0, 1], # 0\n",
    "    [1, 0, 1, 0], # 1\n",
    "    [0, 1, 0, 0], # 2\n",
    "    [1, 0, 0, 0], # 3\n",
    "]\n",
    "\"\"\"\n",
    "0 — 1\n",
    "|   |\n",
    "3   2\n",
    "\"\"\"\n",
    "\n",
    "class Node(object):\n",
    "    def __init__(self, val = 0, neighbors = None):\n",
    "        self.val = val\n",
    "        self.neighbors = neighbors if neighbors is not None else []\n",
    "\n",
    "def matrix2Graph(M): # directed or undirected\n",
    "    nodeList = [ Node(i) for i in range(len(M)) ]\n",
    "    for i in range(len(M)):\n",
    "        for j in range(len(M[0])):\n",
    "            if M[i][j]:\n",
    "                nodeList[i].neighbors.append( nodeList[j] )\n",
    "    return nodeList[0]\n",
    "    \n",
    "G = matrix2Graph(M)\n",
    "print(G.val, G.neighbors, [node.val for node in G.neighbors] )"
   ]
  },
  {
   "cell_type": "code",
   "execution_count": 15,
   "id": "5669c634",
   "metadata": {},
   "outputs": [
    {
     "name": "stdout",
     "output_type": "stream",
     "text": [
      "[0, 1, 2, 3]\n"
     ]
    }
   ],
   "source": [
    "G = matrix2Graph(M)\n",
    "def dfs(G):\n",
    "    ans = []\n",
    "    def search(node, visit):\n",
    "        nonlocal ans\n",
    "        if node:\n",
    "            ans.append( node.val )\n",
    "            visit.add( id(node) )\n",
    "            for neighbor in filter(lambda N:id(N) not in visit, node.neighbors):\n",
    "                search( neighbor, visit )\n",
    "    search(G, set())\n",
    "    return ans\n",
    "\n",
    "print( dfs(G) )"
   ]
  },
  {
   "cell_type": "code",
   "execution_count": 6,
   "id": "62deff80",
   "metadata": {},
   "outputs": [
    {
     "name": "stdout",
     "output_type": "stream",
     "text": [
      "[0, 1, 3, 2]\n"
     ]
    }
   ],
   "source": [
    "from collections import deque\n",
    "def bfs(G):\n",
    "    ans, queue, visit = [], deque([G]), {id(G)}\n",
    "    def search():\n",
    "        nonlocal ans, queue, visit\n",
    "        if queue:\n",
    "            node = queue.popleft()\n",
    "            ans.append( node.val )\n",
    "            for neighbor in filter(lambda N:id(N) not in visit, node.neighbors):\n",
    "                visit.add( id(neighbor) )\n",
    "                queue.append( neighbor )\n",
    "            search() # can not be placed in the for loop\n",
    "    search()\n",
    "    return ans\n",
    "\n",
    "print( bfs(G) )"
   ]
  },
  {
   "cell_type": "code",
   "execution_count": 18,
   "id": "3fb87cf7",
   "metadata": {},
   "outputs": [
    {
     "name": "stdout",
     "output_type": "stream",
     "text": [
      "[0, 1, 2, 4, 3] [0, 1, 3, 2, 4]\n",
      "True False\n"
     ]
    }
   ],
   "source": [
    "\"\"\"\n",
    "G:\n",
    "0 — 1\n",
    "|   |\n",
    "3   2\n",
    "G.neighbors = [ node1, node3 ]\n",
    "G2: 4 - 1\n",
    "G3: 5\n",
    "\"\"\"\n",
    "G = matrix2Graph(M)\n",
    "G2 = Node(4, [G.neighbors[0]] )\n",
    "G3 = Node(5, [])\n",
    "G.neighbors[0].neighbors.append(G2)\n",
    "print(dfs(G), bfs(G))\n",
    "\n",
    "def isConnect(G1, G2):\n",
    "    connect = False\n",
    "    def dfs(node,visit):\n",
    "        nonlocal connect\n",
    "        if node:\n",
    "            visit.add( id(node) )\n",
    "            for neighbor in filter(lambda N:id(N) not in visit, node.neighbors):\n",
    "                if id(neighbor)==id(G2):\n",
    "                    connect = True\n",
    "                    return\n",
    "                else:\n",
    "                    dfs(neighbor,visit)\n",
    "    dfs(G1,set())\n",
    "    return connect\n",
    "print( isConnect(G,G2), isConnect(G,G3) )"
   ]
  },
  {
   "cell_type": "code",
   "execution_count": 20,
   "id": "5919e9ed",
   "metadata": {},
   "outputs": [
    {
     "name": "stdout",
     "output_type": "stream",
     "text": [
      "[0, 1, 2, 3] [0, 1, 3, 2]\n",
      "False True\n"
     ]
    }
   ],
   "source": [
    "\"\"\"\n",
    "G       E\n",
    "0 — 1   0 — 1\n",
    "|   |   |   |\n",
    "3   2   3 — 2\n",
    "\"\"\"\n",
    "G = matrix2Graph(M)\n",
    "E = matrix2Graph(M)\n",
    "E.neighbors[0].neighbors[1].neighbors.append( E.neighbors[1] )  # 2->3\n",
    "E.neighbors[1].neighbors.append( E.neighbors[0].neighbors[1] ) # 3->2\n",
    "print( dfs(E), bfs(E) )\n",
    "\n",
    "def hasCycle(G):\n",
    "    cycle = False\n",
    "    def dfs(node, visit, lastID=None):\n",
    "        nonlocal cycle\n",
    "        if not cycle and node:\n",
    "            visit.add( id(node) )\n",
    "            for neighbor in node.neighbors:\n",
    "                if id(neighbor)==lastID: # exclude trace parent node\n",
    "                    continue\n",
    "                elif id(neighbor) in visit: # don't use visit filter because cycle should be set as True\n",
    "                    cycle = True\n",
    "                    return\n",
    "                else:\n",
    "                    dfs( neighbor, visit, lastID=id(node) ) # dfs must implement directly due to unovewritable lastID\n",
    "    dfs(G, set())\n",
    "    return cycle\n",
    "print(hasCycle(G), hasCycle(E))"
   ]
  },
  {
   "cell_type": "code",
   "execution_count": 22,
   "id": "021dfa4c",
   "metadata": {},
   "outputs": [
    {
     "name": "stdout",
     "output_type": "stream",
     "text": [
      "[0, 1, 0, 1]\n",
      "[1, 0, 1, 0]\n",
      "[0, 1, 0, 0]\n",
      "[1, 0, 0, 0]\n"
     ]
    }
   ],
   "source": [
    "G = matrix2Graph(M)\n",
    "def graph2Matrix(G,n):\n",
    "    M = [ [0]*n for i in range(n) ]\n",
    "    def dfs(node,visit):\n",
    "        nonlocal M\n",
    "        if node:\n",
    "            visit.add( id(node) )\n",
    "            for neighbor in filter(lambda N:id(N) not in visit, node.neighbors):\n",
    "                M[node.val][neighbor.val], M[neighbor.val][node.val] = 1, 1\n",
    "                dfs(neighbor, visit)\n",
    "    dfs(G,set())\n",
    "    return M\n",
    "\n",
    "for row in graph2Matrix(G,4):\n",
    "    print(row)"
   ]
  },
  {
   "cell_type": "code",
   "execution_count": 24,
   "id": "755f1936",
   "metadata": {},
   "outputs": [
    {
     "name": "stdout",
     "output_type": "stream",
     "text": [
      "[0, 1, 0, 1]\n",
      "[1, 0, 1, 0]\n",
      "[0, 1, 0, 0]\n",
      "[1, 0, 0, 0]\n"
     ]
    }
   ],
   "source": [
    "\"\"\"\n",
    "G       spanningTree\n",
    "0 — 1   0 — 1\n",
    "| \\ |   |   |\n",
    "3   2   3   2\n",
    "# v nodes -> spanning tree has v-1 edges\n",
    "\"\"\"\n",
    "G = matrix2Graph(M)\n",
    "G.neighbors.append( G.neighbors[0].neighbors[1] ) # 0->2\n",
    "G.neighbors[0].neighbors[1].neighbors.append( G ) # 2->0\n",
    "\n",
    "def spanningTree(G):\n",
    "    if not G:\n",
    "        return None\n",
    "    else:\n",
    "        T = Node(G.val,[])\n",
    "        p = T\n",
    "    def dfs(node,visit,p):\n",
    "        if node:\n",
    "            visit.add( id(node) )\n",
    "            for neighbor in filter(lambda N:id(N) not in visit, node.neighbors):\n",
    "                p.neighbors.append( Node(neighbor.val,[p]) )\n",
    "                dfs(neighbor, visit, p.neighbors[-1])\n",
    "    dfs(G,set(),p)\n",
    "    return T\n",
    "\n",
    "T = spanningTree(G)\n",
    "for row in graph2Matrix(T,4):\n",
    "    print(row)"
   ]
  },
  {
   "cell_type": "code",
   "execution_count": 36,
   "id": "3d60f59e",
   "metadata": {},
   "outputs": [
    {
     "name": "stdout",
     "output_type": "stream",
     "text": [
      "{0: {(1, 16)}, 1: {(2, 5), (5, 11), (0, 16), (3, 6)}, 2: {(1, 5)}, 3: {(1, 6), (4, 18)}, 4: {(3, 18)}, 5: {(1, 11)}}\n"
     ]
    }
   ],
   "source": [
    "# Minimum spanning tree: Leetcode medium 1/3k and matrix\n",
    "\"\"\"\n",
    "1. Kruskal algorithm: Easy to understand but hard to implement because of the weighted adjacent list + heap. O(elog(e))\n",
    "    descending sort weights\n",
    "    while edges<nodes:\n",
    "        pop shortest weight\n",
    "        if add the edge contains cycle:\n",
    "            edges+=1\n",
    "2. Prim algorithm: Easy to understand and implement. Matrix. O(v**2)\n",
    "e.g. M                 min spannning tree\n",
    "0 — (16) —  1          0 — (16) —  1\n",
    "| \\       / | \\                  / | \\\n",
    "|  (21)(11) |  (5)            (11) |  (5)\n",
    "|    \\ /    |    \\             /   |    \\\n",
    "(19)  5     (6)   2           5    (6)   2\n",
    "|    /  \\   |    /                 |   \n",
    "|  (33)(14) |  (10)                | \n",
    "| /       \\ | /                    |\n",
    "4 — (18) —  3          4 — (18) —  3\n",
    "\"\"\"\n",
    "x = float('inf')\n",
    "D = {0:{(1,16), (4,19), (5,21)}, 1:{(0,16),(2,5),(3,6)}, 2:{(1,5),(3,10)}, 3:{(1,6),(2,10),(4,18)}, \\\n",
    "     4:{(0,19), (3,18), (5,33)}, 5:{(0,21), (1,11), (3,14), (4,33)}}\n",
    "\n",
    "def prim(D):\n",
    "    E = { node:set() for node in D }\n",
    "    for node in D:\n",
    "        minIdx, minEdge = min(D[node], key=lambda tup:tup[1])\n",
    "        E[node].add( (minIdx,minEdge) )\n",
    "        E[minIdx].add( (node,minEdge) )\n",
    "    return E\n",
    "print( prim(D) )"
   ]
  },
  {
   "cell_type": "code",
   "execution_count": 59,
   "id": "de6e829a",
   "metadata": {},
   "outputs": [
    {
     "name": "stdout",
     "output_type": "stream",
     "text": [
      "[34, 33, 25, 13, 0, 3, 12, 17]\n"
     ]
    }
   ],
   "source": [
    "# Shortest path algorithm\n",
    "# 1. Dijkstra: Greedy and non-negative edges only. O(v**2)\n",
    "# Leetcode all are non-negative edges\n",
    "D = {0:{}, 1:{(0,3)}, 2:{(0,10),(1,8)}, 3:{(2,12)}, 4:{(3,15),(5,3)}, 5:{(3,10),(6,9),(7,14)}, 6:{(7,10)}, 7:{(0,17)}}\n",
    "\n",
    "def Dijkstra(D,start):\n",
    "    # initialize shortest path to each nodes\n",
    "    dist = [ 0 if i==start else float('inf') for i in range(len(D)) ]\n",
    "    for node,edge in D[start]:\n",
    "        dist[node] = edge\n",
    "    \n",
    "    visit = {start}\n",
    "    for i in range(1,len(D)):\n",
    "        distTemp = [ float('inf') if j in visit else dist[j] for j in range(len(dist)) ]\n",
    "        minIdx   = distTemp.index( min(distTemp) )\n",
    "        visit.add( minIdx )\n",
    "        for idx,edge in D[minIdx]:\n",
    "            minIdx2idx = list(filter(lambda tup:tup[0]==idx,D[minIdx]))[0][1]\n",
    "            dist[idx] = min(dist[idx], dist[minIdx]+minIdx2idx )\n",
    "    return dist\n",
    "\n",
    "print( Dijkstra(D,4) ) # [34, 33, 25, 13, 0, 3, 12, 17]"
   ]
  },
  {
   "cell_type": "code",
   "execution_count": null,
   "id": "5c6cdf3e",
   "metadata": {},
   "outputs": [],
   "source": []
  },
  {
   "cell_type": "code",
   "execution_count": 11,
   "id": "3e1b515c",
   "metadata": {},
   "outputs": [
    {
     "name": "stdout",
     "output_type": "stream",
     "text": [
      "[34, 33, 25, 13, 0, 3, 12, 17]\n",
      "{4: [4], 5: [4, 5], 6: [4, 5, 6], 3: [4, 5, 3], 7: [4, 5, 7], 2: [4, 5, 3, 2], 1: [4, 5, 3, 2, 1], 0: [4, 5, 7, 0]}\n"
     ]
    }
   ],
   "source": [
    "def DijkstraSpanning(M, start):\n",
    "    dist  = M[start][:]\n",
    "    visit = {start:[start]} # shortest path to each nodes\n",
    "    for i in range(1,len(M)):\n",
    "        # nextIndex: the unvisited smallest neighbor of i\n",
    "        distTemp = [ float('inf') if j in visit else dist[j] for j in range(len(M)) ]\n",
    "        nextIdx = distTemp.index( min(distTemp) )\n",
    "        # parentIndex: minimum index of (current shortest path + each node to nextIdx) among all nodes except for itself  \n",
    "        best2nextIdx = [ dist[j]+M[j][nextIdx] if j!=nextIdx else float('inf') for j in range(len(M)) ]\n",
    "        parentIdx  = best2nextIdx.index( min(best2nextIdx) )\n",
    "        visit[nextIdx] = visit[parentIdx]+[nextIdx]\n",
    "        for j in range(len(M)): # update all the neighbors of the nextIdx\n",
    "            dist[j] = min(dist[j], dist[nextIdx]+M[nextIdx][j])\n",
    "    return dist, visit\n",
    "\n",
    "dist, visit = DijkstraSpanning(M,4) \n",
    "print(dist) # [34, 33, 25, 13, 0, 3, 12, 17]\n",
    "print(visit) # {4: [4], 5: [4, 5], 6: [4, 5, 6], 3: [4, 5, 3], 7: [4, 5, 7], 2: [4, 5, 3, 2], 1: [4, 5, 3, 2, 1], 0: [4, 5, 7, 0]}"
   ]
  },
  {
   "cell_type": "code",
   "execution_count": 25,
   "id": "40f01557",
   "metadata": {},
   "outputs": [
    {
     "name": "stdout",
     "output_type": "stream",
     "text": [
      "[0, 1, 2, 3, 4, 5]\n",
      "[0, 1, 2, 3, 4, 5]\n"
     ]
    }
   ],
   "source": [
    "# Topological sort: AOV (simple more in Leetcode), AOE (less hard in Leetcode)\n",
    "# answer not unique \n",
    "\"\"\"\n",
    "G1      4    G2  1 → 4 ←\n",
    "      ↗ ↓      ↗   X    ↑\n",
    "0 → 3 → 5    0 → 2 → 5  ↑  \n",
    "↓              ↘   ↗    ↑\n",
    "1 → 2            3 →→→→→→  (X=↗+↘)\n",
    "\"\"\"\n",
    "M1 = [\n",
    "    [0,1,0,1,0,0],\n",
    "    [0,0,1,0,0,0],\n",
    "    [0,0,0,0,0,0],\n",
    "    [0,0,0,0,1,1],\n",
    "    [0,0,0,0,0,1],\n",
    "    [0,0,0,0,0,0],\n",
    "]\n",
    "M2 = [\n",
    "    [0,1,1,1,0,0],\n",
    "    [0,0,0,0,1,1],\n",
    "    [0,0,0,0,1,1],\n",
    "    [0,0,0,0,1,1],\n",
    "    [0,0,0,0,0,0],\n",
    "    [0,0,0,0,0,0],\n",
    "]\n",
    "def aov(M, start):\n",
    "    stack, visit, ans = [start], {start}, []\n",
    "    def dfs():\n",
    "        nonlocal stack, visit, ans\n",
    "        if stack:filter(lambda i: self.M[idx][i], range(len(self.M)))\n",
    "            idx = stack.pop()\n",
    "            for i in filter(lambda i: i not in visit and M[idx][i]==1, range(len(M)-1,-1,-1)):\n",
    "                visit.add( i )\n",
    "                stack.append( i )\n",
    "                dfs()         # Must in the for loop\n",
    "            ans.append( idx ) # Before for loop !!! Because append it when finished\n",
    "    dfs()\n",
    "    return ans[::-1]\n",
    "\n",
    "print( aov(M1,0) )\n",
    "print( aov(M2,0) )"
   ]
  },
  {
   "cell_type": "code",
   "execution_count": null,
   "id": "0ae016d7",
   "metadata": {},
   "outputs": [],
   "source": []
  }
 ],
 "metadata": {
  "kernelspec": {
   "display_name": "Python 3 (ipykernel)",
   "language": "python",
   "name": "python3"
  },
  "language_info": {
   "codemirror_mode": {
    "name": "ipython",
    "version": 3
   },
   "file_extension": ".py",
   "mimetype": "text/x-python",
   "name": "python",
   "nbconvert_exporter": "python",
   "pygments_lexer": "ipython3",
   "version": "3.8.10"
  }
 },
 "nbformat": 4,
 "nbformat_minor": 5
}
