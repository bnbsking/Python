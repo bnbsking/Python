{
 "cells": [
  {
   "cell_type": "code",
   "execution_count": 77,
   "id": "169898b8",
   "metadata": {},
   "outputs": [
    {
     "data": {
      "text/plain": [
       "0"
      ]
     },
     "execution_count": 77,
     "metadata": {},
     "output_type": "execute_result"
    }
   ],
   "source": [
    "\"\"\"\n",
    "proper prefix/suffix: not empty and not equal to total string\n",
    "\n",
    "e.g. kmp(ABABX, ABX); kmp(ABABY, ABABX)\n",
    "\n",
    "s     a b c a b c f\n",
    "lcps  0 0 0 1 2 3 0\n",
    "\n",
    "[x]aababcxabcaabcabxabcabcx\n",
    "[a]bcabcf -> match=0, lcps=0 -> starti+=1, startj=0\n",
    "\n",
    "xa[a]babcxabcaabcabxabcabcx\n",
    " a[b]cabcf -> match=1, lcps=0 -> starti+=1, startj=0\n",
    "\n",
    "xaab[a]bcxabcaabcabxabcabcx\n",
    "  ab[c]abcf -> match=2, lcps=0 -> starti+=2, startj=0\n",
    "\n",
    "xaababc[x]abcaabcabxabcabcx\n",
    "    abc[a]bcf -> match=3, lcps=0 -> starti+=3, startj=0\n",
    "    \n",
    "xaababc[x]abcaabcabxabcabcx\n",
    "       [a]bcabcf -> match=0, lcps=0 -> starti+=1, startj=0\n",
    "    \n",
    "xaababcxabca[a]bcabxabcabcx\n",
    "        abca[b]cf -> match=4, lcps=1 -> starti+=3, startj=1\n",
    "    \n",
    "xaababcxabca[a]bcabxabcabcx\n",
    "           a[b]cabcf -> match=1, lcps=0 -> starti+=1, startj=0\n",
    "    \n",
    "xaababcxabcaabcab[x]abcabcx\n",
    "            abcab[c]f -> match=5, lcps=2 -> starti+=3, startj=2\n",
    "    \n",
    "xaababcxabcaabcab[x]abcabcx\n",
    "               ab[c]abcf -> match=2, lcps=0 -> starti+=2, startj=0\n",
    "    \n",
    "xaababcxabcaabcab[x]abcabcx\n",
    "                 [a]bcabcf -> match=0, lcps=0 -> starti+=1, startj=0\n",
    "    \n",
    "xaababcxabcaabcabxabcabc[x]\n",
    "                  abcabc[f] -> match=6, lcps=3 -> starti+=3, startj=3\n",
    "    \n",
    "xaababcxabcaabcabxabcabc[x]\n",
    "                     abc[a]bcf -> match=3, lcps=0 -> starti+=3, startj=0\n",
    "    \n",
    "xaababcxabcaabcabxabcabc[x]\n",
    "                        [a]bcabcf -> match=0, lcps=0 -> starti+=1, startj=0\n",
    "\"\"\"\n",
    "# match means pattern not article # exclude last non-matched character\n",
    "# starti = transition of pattern\n",
    "# startj = pattern matching start index"
   ]
  },
  {
   "cell_type": "code",
   "execution_count": 104,
   "id": "5e7c3e15",
   "metadata": {},
   "outputs": [],
   "source": [
    "def get_lcpsLx(s): # brute force # O(m^3)\n",
    "    L = []\n",
    "    for i in range(len(s)):\n",
    "        v = 0\n",
    "        for j in range(i):\n",
    "            if s[:j+1]==s[i-j:i+1]:\n",
    "                v = j+1\n",
    "        L.append(v)\n",
    "    return L\n",
    "\n",
    "# https://www.codingninjas.com/codestudio/library/kmp-string-matching-algorithm\n",
    "def get_lcpsL(s): # O(m^2) # e.g. aabaaac\n",
    "    L    = [0]\n",
    "    prev = 0 # prev is the length of last longest proper prefix which is also a suffix # prev can be increase, remains, decrease\n",
    "    i    = 1 # i evolves increasingly or constantly\n",
    "    while i<len(s): # why not for? prev might turn back\n",
    "        #print(\"i=\", i, \"prev=\", prev, \"s[:i]=\", s[:i+1], \"L=\", L, end=\" | \")\n",
    "        if s[i]==s[prev]: # matched\n",
    "            #print(\"match\")\n",
    "            prev+=1\n",
    "            L.append(prev)\n",
    "            i+=1\n",
    "        elif prev==0: # not matched and no accumulation\n",
    "            #print(\"un1\")\n",
    "            L.append(0)\n",
    "            i+=1\n",
    "        else: # not matched and has accumulation\n",
    "            #print(\"un2\")\n",
    "            prev = L[prev-1] # SPECIAL: prev turn back \n",
    "    return L\n",
    "\n",
    "#print( get_lcpsL(\"aabaaac\") ) # [0, 1, 0, 1, 2, 2, 0]\n",
    "\"\"\"\n",
    "# turn on the print comments to view more details\n",
    "i= 1 prev= 0 s[:i]= aa L= [0] | match\n",
    "i= 2 prev= 1 s[:i]= aab L= [0, 1] | un2\n",
    "i= 2 prev= 0 s[:i]= aab L= [0, 1] | un1\n",
    "i= 3 prev= 0 s[:i]= aaba L= [0, 1, 0] | match\n",
    "i= 4 prev= 1 s[:i]= aabaa L= [0, 1, 0, 1] | match\n",
    "i= 5 prev= 2 s[:i]= aabaaa L= [0, 1, 0, 1, 2] | un2 # aa[b]aa[a] not matched -> check a[a]baa[a], so turn back to L[2-1]=L[1]=1\n",
    "i= 5 prev= 1 s[:i]= aabaaa L= [0, 1, 0, 1, 2] | match\n",
    "i= 6 prev= 2 s[:i]= aabaaac L= [0, 1, 0, 1, 2, 2] | un2 # aa[b]aaa[c] not matched -> check a[a]baaa[c], so turn back to L[2-1]=L[1]=1\n",
    "i= 6 prev= 1 s[:i]= aabaaac L= [0, 1, 0, 1, 2, 2] | un2 # a[a]baaa[c] not matched -> check [a]abaaa[c], so turn back to L[1-1]=L[0]=0\n",
    "i= 6 prev= 0 s[:i]= aabaaac L= [0, 1, 0, 1, 2, 2] | un1\n",
    "\"\"\"\n",
    "#raise\n",
    "#print( get_lcpsL(\"abcabcf\"), get_lcpsL(\"ababcaabc\"), get_lcpsL(\"ll\"), get_lcpsL(\"a\") )\n",
    "\n",
    "def kmp(haystack, needle): # O(mn) # m>=1 and n>=1\n",
    "    lcpsL, i, j = get_lcpsL(needle), 0, 0\n",
    "    # print(lcpsL)\n",
    "    while i+len(needle)<=len(haystack): # not i+j<len(haystack) since len(needle) may >= len(haystack)\n",
    "        #print(\"i=\", i, \"j=\", j, end=\" \")\n",
    "        while j<len(needle) and haystack[i+j]==needle[j]:\n",
    "            j+=1\n",
    "        match, lcps = j, (0 if j==0 else lcpsL[j-1]) # j==0 is SPECIAL, prevention-1: to prevent lcpsL[-1]\n",
    "        #print(\"match=\", match, \"lcps=\", lcps)\n",
    "        if match==len(needle):\n",
    "            return i\n",
    "        else:\n",
    "            i, j = i + (1 if j==0 else match-lcps), lcps # prevention-2: to prevent (i,j)=(i,0) infinite loop\n",
    "    return -1\n",
    "\n",
    "for haystack, needle, ans in [(\"xaababcxabcaabcabxabcabcf\",\"abcabcf\",18), (\"ababcaababcaabc\",\"ababcaabc\",6), (\"hello\",\"ll\",2), (\"a\",\"a\",0)]:    \n",
    "    pd = kmp(haystack,needle)\n",
    "    if pd!=ans:\n",
    "        print( pd, ans )"
   ]
  },
  {
   "cell_type": "code",
   "execution_count": 75,
   "id": "962b67d3",
   "metadata": {},
   "outputs": [
    {
     "data": {
      "text/plain": [
       "0"
      ]
     },
     "execution_count": 75,
     "metadata": {},
     "output_type": "execute_result"
    }
   ],
   "source": [
    "\"\"\"\n",
    "This is not related to suffix array and LCP array\n",
    "# https://www.codingninjas.com/codestudio/library/longest-common-prefix-from-suffix-array\n",
    "\"\"\"\n",
    "0"
   ]
  },
  {
   "cell_type": "code",
   "execution_count": null,
   "id": "adbfb1d1",
   "metadata": {},
   "outputs": [],
   "source": []
  }
 ],
 "metadata": {
  "kernelspec": {
   "display_name": "Python 3 (ipykernel)",
   "language": "python",
   "name": "python3"
  },
  "language_info": {
   "codemirror_mode": {
    "name": "ipython",
    "version": 3
   },
   "file_extension": ".py",
   "mimetype": "text/x-python",
   "name": "python",
   "nbconvert_exporter": "python",
   "pygments_lexer": "ipython3",
   "version": "3.9.12"
  }
 },
 "nbformat": 4,
 "nbformat_minor": 5
}
