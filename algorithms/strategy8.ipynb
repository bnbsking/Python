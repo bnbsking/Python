{
 "cells": [
  {
   "cell_type": "markdown",
   "id": "6e8aff3c",
   "metadata": {},
   "source": [
    "### Iteration\n",
    "\n",
    "### Dynamic programming\n",
    "+ forward bottom-up: easier | e.g. word break\n",
    "+ backward bottom-up: complex  | e.g. combination sum, coin change, decode ways\n",
    "    + finite state machine | e.g. best time to sell stocks\n",
    "\n",
    "### Recursion\n",
    "+ top-down args-based | e.g. DLR/LDR/LRD traversal\n",
    "+ top-down share-based | e.g. level order traversal\n",
    "+ bottom-up args-based | e.g. generate parentheses, word search\n",
    "+ bottom-up share-based | e.g. DFS traversal\n",
    "\n",
    "### Mixture\n",
    "+ e.g. palindrome partitioning (recursion bottom-up share-based)\n",
    "+ e.g. Longest Common Subsequence (recursion bottom-up args-based)\n",
    "\n",
    "1. Iteration or Dynamic Programming or Recursion:\n",
    "    + DP and R are for strong/complex correlations\n",
    "    + R is the most concise but the hardest for debugging\n",
    "2. Recursion: bottom-up or top-down \n",
    "    + Depends on mathematical relation\n",
    "3. Recursion: args-based or share-based\n",
    "    + Output order is regular w.r.t. the recursive order\n",
    "    + Output order is irregular w.r.t. the recursive order\n",
    "4. Dynamic programming: bottom-up forward or bottom-up backward (Very similar)\n",
    "    + Depends on mathematical relation"
   ]
  },
  {
   "cell_type": "code",
   "execution_count": 1,
   "id": "e221b886",
   "metadata": {},
   "outputs": [
    {
     "name": "stdout",
     "output_type": "stream",
     "text": [
      "[0, 1, 1, 2, 3, 5, 8]\n",
      "[0, 1, 1, 2, 3, 5, 8]\n",
      "[0, 1, 1, 2, 3, 5, 8]\n",
      "[0, 1, 1, 2, 3, 5, 8]\n",
      "[0, 1, 1, 2, 3, 5, 8]\n",
      "[0, 1, 1, 2, 3, 5, 8]\n"
     ]
    }
   ],
   "source": [
    "def iterative_fib(n): # O(n) # 0, 1, 1, 2, 3, 5, ...\n",
    "    if n<2:\n",
    "        return n\n",
    "    else:\n",
    "        a, b = 0, 1\n",
    "        for i in range(n-1):\n",
    "            t = a+b\n",
    "            a = b\n",
    "            b = t\n",
    "        return b\n",
    "    \n",
    "def dp_fib(n): # O(n)\n",
    "    L = [0,1]\n",
    "    for i in range(n-1):\n",
    "        L.append( L[-1]+L[-2] )\n",
    "    return L[0] if n==0 else L[-1]\n",
    "\n",
    "def recursiveTD_fib(n): # O(2**n)\n",
    "    if n<2:\n",
    "        return n\n",
    "    else:\n",
    "        return recursiveTD_fib(n-1) + recursiveTD_fib(n-2)\n",
    "    \n",
    "def mix_fib(n): # O(n)\n",
    "    L = [0,1]\n",
    "    def f(n):\n",
    "        if n<len(L):\n",
    "            return L[n]\n",
    "        else:\n",
    "            return f(n-1)+f(n-2)\n",
    "    return f(n)\n",
    "    \n",
    "def recursiveBU_fib(n): # O(n)\n",
    "    def f(i=1, a=0, b=1):\n",
    "        if i==n:\n",
    "            return b\n",
    "        else:\n",
    "            return f(i+1, b, a+b)\n",
    "    return 0 if n==0 else f()\n",
    "\n",
    "def recursiveBU2_fib(n): # O(n)\n",
    "    a, b = 0, 1\n",
    "    def f(i=1):\n",
    "        nonlocal a, b\n",
    "        if i<n:\n",
    "            t = a+b\n",
    "            a = b\n",
    "            b = t\n",
    "            f(i+1)\n",
    "    f()\n",
    "    return 0 if n==0 else b\n",
    "\n",
    "print( [ iterative_fib(i) for i in range(7) ] )\n",
    "print( [ dp_fib(i) for i in range(7) ] )\n",
    "print( [ recursiveTD_fib(i) for i in range(7) ] )\n",
    "print( [ mix_fib(i) for i in range(7) ] )\n",
    "print( [ recursiveBU_fib(i) for i in range(7) ] )\n",
    "print( [ recursiveBU2_fib(i) for i in range(7) ] )"
   ]
  },
  {
   "cell_type": "code",
   "execution_count": null,
   "id": "634994a8",
   "metadata": {},
   "outputs": [],
   "source": []
  }
 ],
 "metadata": {
  "kernelspec": {
   "display_name": "Python 3 (ipykernel)",
   "language": "python",
   "name": "python3"
  },
  "language_info": {
   "codemirror_mode": {
    "name": "ipython",
    "version": 3
   },
   "file_extension": ".py",
   "mimetype": "text/x-python",
   "name": "python",
   "nbconvert_exporter": "python",
   "pygments_lexer": "ipython3",
   "version": "3.9.12"
  }
 },
 "nbformat": 4,
 "nbformat_minor": 5
}
