{
 "cells": [
  {
   "cell_type": "markdown",
   "id": "aaa785b9",
   "metadata": {},
   "source": [
    "### Symmetric encryption\n",
    "+ Alice and Bob own same key (private)\n",
    "+ Encrypt and decrypt by same key"
   ]
  },
  {
   "cell_type": "code",
   "execution_count": 9,
   "id": "826f9b36",
   "metadata": {},
   "outputs": [
    {
     "name": "stdout",
     "output_type": "stream",
     "text": [
      "678\n",
      "123\n"
     ]
    }
   ],
   "source": [
    "# Alice encryption\n",
    "plaintext = 123\n",
    "key = 555\n",
    "ciphertext = plaintext+key\n",
    "# send\n",
    "print(ciphertext)\n",
    "# Bob decryption\n",
    "print(ciphertext-key)"
   ]
  },
  {
   "cell_type": "markdown",
   "id": "f23ef8c7",
   "metadata": {},
   "source": [
    "### Asymmetric encrytion\n",
    "+ Bob generate key pair. Own private key and publish public key.\n",
    "+ Encrypt by public key, and decrypt by private key"
   ]
  },
  {
   "cell_type": "code",
   "execution_count": 10,
   "id": "318903d8",
   "metadata": {},
   "outputs": [
    {
     "name": "stdout",
     "output_type": "stream",
     "text": [
      "11193\n",
      "123\n"
     ]
    }
   ],
   "source": [
    "def keyPairGenerator():\n",
    "    # return private key and public key where (i) both of them are prime (ii) product of them are x00..01\n",
    "    return 91,11 # 91*11=1001\n",
    "\n",
    "# Bob preparation\n",
    "publicKey, privateKey = keyPairGenerator()\n",
    "# Alice encryption\n",
    "plaintext = 123\n",
    "ciphertext = 123*publicKey\n",
    "# send\n",
    "print(ciphertext)\n",
    "# Bob decryption\n",
    "print( ciphertext*privateKey%1000 )"
   ]
  },
  {
   "cell_type": "markdown",
   "id": "114f63b3",
   "metadata": {},
   "source": [
    "### Digital Signature\n",
    "+ Alice generate key pair. Own private key and publish public key.\n",
    "+ Encrypt by private key, and decrypt by public key"
   ]
  },
  {
   "cell_type": "code",
   "execution_count": 30,
   "id": "1abbde17",
   "metadata": {},
   "outputs": [
    {
     "name": "stdout",
     "output_type": "stream",
     "text": [
      "123\n",
      "20826723661571520847\n",
      "77\n",
      "77\n"
     ]
    }
   ],
   "source": [
    "# Alice preparation\n",
    "publicKey, privateKey = keyPairGenerator()\n",
    "# Alice sign\n",
    "plaintext = 123\n",
    "signature = hash(str(plaintext))*privateKey\n",
    "# send\n",
    "print(plaintext)\n",
    "print(signature)\n",
    "# Bob check\n",
    "print( signature*publicKey%1000 )\n",
    "print( hash(str(plaintext))%1000 )"
   ]
  },
  {
   "cell_type": "code",
   "execution_count": null,
   "id": "aa5f0f0d",
   "metadata": {},
   "outputs": [],
   "source": []
  },
  {
   "cell_type": "markdown",
   "id": "efadc3d4",
   "metadata": {},
   "source": [
    "### API previleges\n",
    "+ Authentication saving spaces:\n",
    "    + Session: save at server\n",
    "    + Cookie: save at client\n",
    "+ Credential:\n",
    "    + Session ID: Save in Session and maybe in Cookie\n",
    "    + Token, Json web token (JWT): Header.Payload.Signature\n",
    "+ More reference:\n",
    "    + [Detail comparison](https://www.geeksforgeeks.org/session-vs-token-based-authentication/#:~:text=The%20main%20difference%20is%20session,one%20the%20client%20stores%20them)\n",
    "    + [Security comparison](https://stackoverflow.com/questions/38896003/is-session-authentication-more-secure-than-token-based-authentication)"
   ]
  },
  {
   "cell_type": "markdown",
   "id": "00dbc719",
   "metadata": {},
   "source": [
    "### Attack\n",
    "+ Cross Site Request Forgery(CSRF): attack session-based credential. steal cookie\n",
    "    + check source website\n",
    "    + CAPTCHA\n",
    "    + more token\n",
    "+ "
   ]
  },
  {
   "cell_type": "code",
   "execution_count": null,
   "id": "8cb33c0b",
   "metadata": {},
   "outputs": [],
   "source": []
  }
 ],
 "metadata": {
  "kernelspec": {
   "display_name": "Python 3 (ipykernel)",
   "language": "python",
   "name": "python3"
  },
  "language_info": {
   "codemirror_mode": {
    "name": "ipython",
    "version": 3
   },
   "file_extension": ".py",
   "mimetype": "text/x-python",
   "name": "python",
   "nbconvert_exporter": "python",
   "pygments_lexer": "ipython3",
   "version": "3.8.10"
  }
 },
 "nbformat": 4,
 "nbformat_minor": 5
}
