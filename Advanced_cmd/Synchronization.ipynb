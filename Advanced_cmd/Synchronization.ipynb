{
 "cells": [
  {
   "cell_type": "code",
   "execution_count": 39,
   "id": "canadian-resolution",
   "metadata": {},
   "outputs": [],
   "source": [
    "import threading, time\n",
    "\n",
    "def job(t, msg):\n",
    "    for i in range(5):\n",
    "        print(msg, end=\" \")\n",
    "        time.sleep(t)\n",
    "\n",
    "ta = threading.Thread(target=job, args=(0.01,\"a\"))\n",
    "tb = threading.Thread(target=job, args=(0.02,\"b\"))"
   ]
  },
  {
   "cell_type": "code",
   "execution_count": 40,
   "id": "armed-campus",
   "metadata": {},
   "outputs": [
    {
     "name": "stdout",
     "output_type": "stream",
     "text": [
      "a b a a b a ab  b b Done\n"
     ]
    }
   ],
   "source": [
    "ta.start()\n",
    "tb.start()\n",
    "\n",
    "tb.join()\n",
    "print(\"Done\")"
   ]
  },
  {
   "cell_type": "code",
   "execution_count": 41,
   "id": "absolute-specific",
   "metadata": {},
   "outputs": [],
   "source": [
    "lock = threading.Lock()\n",
    "def job(t, msg):\n",
    "    for i in range(5):\n",
    "        lock.acquire()\n",
    "        print(msg, end=\" \")\n",
    "        lock.release()\n",
    "        time.sleep(t)\n",
    "\n",
    "ta = threading.Thread(target=job, args=(0.01,\"a\"))\n",
    "tb = threading.Thread(target=job, args=(0.02,\"b\"))"
   ]
  },
  {
   "cell_type": "code",
   "execution_count": 42,
   "id": "tight-modification",
   "metadata": {},
   "outputs": [
    {
     "name": "stdout",
     "output_type": "stream",
     "text": [
      "a b a a b a a b b b Done\n"
     ]
    }
   ],
   "source": [
    "ta.start()\n",
    "tb.start()\n",
    "\n",
    "tb.join()\n",
    "print(\"Done\")"
   ]
  },
  {
   "cell_type": "code",
   "execution_count": null,
   "id": "earlier-medium",
   "metadata": {},
   "outputs": [],
   "source": [
    "# lock: owner thread cannot acquire again -> recursion not suitable \n",
    "# rlock: owner thread can acquire again -> recursion suitable"
   ]
  },
  {
   "cell_type": "code",
   "execution_count": 44,
   "id": "young-glucose",
   "metadata": {},
   "outputs": [],
   "source": [
    "semaphore = threading.Semaphore(2)\n",
    "lock = threading.Lock()\n",
    "def job(t, msg):\n",
    "    semaphore.acquire()\n",
    "    for i in range(5):\n",
    "        lock.acquire()\n",
    "        print(msg, end=\" \")\n",
    "        lock.release()\n",
    "        time.sleep(t)\n",
    "    semaphore.release()"
   ]
  },
  {
   "cell_type": "code",
   "execution_count": 45,
   "id": "intellectual-heart",
   "metadata": {},
   "outputs": [
    {
     "name": "stdout",
     "output_type": "stream",
     "text": [
      "a b a b a a a b c b c c c b c d d d d d "
     ]
    }
   ],
   "source": [
    "ta = threading.Thread(target=job, args=(0.01,\"a\"))\n",
    "tb = threading.Thread(target=job, args=(0.02,\"b\"))\n",
    "tc = threading.Thread(target=job, args=(0.01,\"c\"))\n",
    "td = threading.Thread(target=job, args=(0.02,\"d\"))\n",
    "ta.start()\n",
    "tb.start()\n",
    "tc.start()\n",
    "td.start()"
   ]
  },
  {
   "cell_type": "code",
   "execution_count": null,
   "id": "editorial-remove",
   "metadata": {},
   "outputs": [],
   "source": []
  }
 ],
 "metadata": {
  "kernelspec": {
   "display_name": "Python 3",
   "language": "python",
   "name": "python3"
  },
  "language_info": {
   "codemirror_mode": {
    "name": "ipython",
    "version": 3
   },
   "file_extension": ".py",
   "mimetype": "text/x-python",
   "name": "python",
   "nbconvert_exporter": "python",
   "pygments_lexer": "ipython3",
   "version": "3.6.12"
  }
 },
 "nbformat": 4,
 "nbformat_minor": 5
}
