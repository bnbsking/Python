{
 "cells": [
  {
   "cell_type": "markdown",
   "id": "dbbc8e4e",
   "metadata": {},
   "source": [
    "### Closure\n",
    "+ Thread(target=f)\n",
    "+ model.compile(loss=f)\n",
    "+ QPushButton(connect=f)"
   ]
  },
  {
   "cell_type": "code",
   "execution_count": 24,
   "id": "a15dc05b",
   "metadata": {},
   "outputs": [
    {
     "name": "stdout",
     "output_type": "stream",
     "text": [
      "hello\n",
      "hello James\n",
      "hello James\n"
     ]
    }
   ],
   "source": [
    "from threading import Thread\n",
    "\n",
    "# no args\n",
    "def hello():\n",
    "    print(\"hello\")\n",
    "t = Thread(target=hello)\n",
    "t.start()\n",
    "t.join()\n",
    "\n",
    "# args: way 1\n",
    "def wrap(name):\n",
    "    def hello2():\n",
    "        print(f\"hello {name}\")\n",
    "    return hello2\n",
    "t = Thread(target=wrap(\"James\"))\n",
    "t.start()\n",
    "t.join()\n",
    "\n",
    "# args: way 2\n",
    "def hello2(name):\n",
    "    print(f\"hello {name}\")\n",
    "t = Thread(target=lambda :hello2(\"James\"))\n",
    "t.start()\n",
    "t.join()"
   ]
  },
  {
   "cell_type": "markdown",
   "id": "082b7646",
   "metadata": {},
   "source": [
    "### Decorator: add syntax without modify function and calling code\n",
    "+ It's not important that whether the raw function has input args or not since we won't modify calling code\n",
    "1. Do something before function\n",
    "    + e.g. logging"
   ]
  },
  {
   "cell_type": "code",
   "execution_count": 14,
   "id": "bcb60f4c",
   "metadata": {},
   "outputs": [
    {
     "name": "stdout",
     "output_type": "stream",
     "text": [
      "3\n",
      "9\n"
     ]
    }
   ],
   "source": [
    "def printx1(x):\n",
    "    print(x)\n",
    "    \n",
    "def printx2(x):\n",
    "    print(x**2)\n",
    "    \n",
    "printx1(3)\n",
    "printx2(3)"
   ]
  },
  {
   "cell_type": "code",
   "execution_count": 21,
   "id": "89628788",
   "metadata": {},
   "outputs": [
    {
     "name": "stderr",
     "output_type": "stream",
     "text": [
      "WARNING:root:printx1 is running\n",
      "WARNING:root:printx2 is running\n"
     ]
    },
    {
     "name": "stdout",
     "output_type": "stream",
     "text": [
      "3\n",
      "9\n"
     ]
    }
   ],
   "source": [
    "import logging\n",
    "\n",
    "# way0: must modify calling code so not good\n",
    "def wrap(f):\n",
    "    logging.warning(f\"{f.__name__} is running\")\n",
    "    return f\n",
    "\n",
    "def printx1(x):\n",
    "    print(x)\n",
    "    \n",
    "def printx2(x):\n",
    "    print(x**2)\n",
    "    \n",
    "wrap(printx1)(3)\n",
    "wrap(printx2)(3)"
   ]
  },
  {
   "cell_type": "code",
   "execution_count": 22,
   "id": "264cdefb",
   "metadata": {},
   "outputs": [
    {
     "name": "stderr",
     "output_type": "stream",
     "text": [
      "WARNING:root:printx1 is running\n",
      "WARNING:root:printx2 is running\n"
     ]
    },
    {
     "name": "stdout",
     "output_type": "stream",
     "text": [
      "3\n",
      "9\n"
     ]
    }
   ],
   "source": [
    "# way1: wrap is a \"function in function out\" function and can be decorator syntax\n",
    "def wrap(f):\n",
    "    logging.warning(f\"{f.__name__} is running\")\n",
    "    return f\n",
    "\n",
    "@wrap\n",
    "def printx1(x):\n",
    "    print(x)\n",
    "    \n",
    "@wrap\n",
    "def printx2(x):\n",
    "    print(x**2)\n",
    "    \n",
    "printx1(3)\n",
    "printx2(3)"
   ]
  },
  {
   "cell_type": "markdown",
   "id": "8defba4c",
   "metadata": {},
   "source": [
    "2. do something before and after function\n",
    "    + e.g. timer"
   ]
  },
  {
   "cell_type": "code",
   "execution_count": 29,
   "id": "dbbd30f5",
   "metadata": {},
   "outputs": [
    {
     "name": "stdout",
     "output_type": "stream",
     "text": [
      "James\n",
      "0.0004119873046875\n"
     ]
    }
   ],
   "source": [
    "import time\n",
    "\n",
    "def wrap(f):\n",
    "    def execute(name):\n",
    "        s = time.time()\n",
    "        f(name)\n",
    "        print(time.time()-s) \n",
    "    return execute\n",
    "\n",
    "@wrap\n",
    "def hello(name):\n",
    "    print(name)\n",
    "    \n",
    "hello(\"James\")"
   ]
  },
  {
   "cell_type": "markdown",
   "id": "ca2b50fc",
   "metadata": {},
   "source": [
    "3. do something general\n",
    "    + Closure on decorator\n",
    "    + Remember we always use \"def wrap(f) -> f\" for decorators\n",
    "    + e.g. Repeat n times"
   ]
  },
  {
   "cell_type": "code",
   "execution_count": 37,
   "id": "7b6684a8",
   "metadata": {},
   "outputs": [
    {
     "name": "stdout",
     "output_type": "stream",
     "text": [
      "James\n",
      "0.000308990478515625\n",
      "James\n",
      "5.245208740234375e-06\n",
      "James\n",
      "1.9073486328125e-06\n"
     ]
    }
   ],
   "source": [
    "def repeat(n):\n",
    "    def wrap(f):\n",
    "        def execute(name):\n",
    "            for i in range(n):\n",
    "                s = time.time()\n",
    "                f(name)\n",
    "                print(time.time()-s)\n",
    "        return execute\n",
    "    return wrap\n",
    "\n",
    "@repeat(3)\n",
    "def hello(name):\n",
    "    print(name)\n",
    "    \n",
    "hello(\"James\")"
   ]
  },
  {
   "cell_type": "markdown",
   "id": "46bb6ceb",
   "metadata": {},
   "source": [
    "### Example practice: Cache"
   ]
  },
  {
   "cell_type": "code",
   "execution_count": 54,
   "id": "46f3d62b",
   "metadata": {},
   "outputs": [
    {
     "name": "stdout",
     "output_type": "stream",
     "text": [
      "time=0.07469391822814941\n",
      "time=9.5367431640625e-07\n",
      "time=0.0\n",
      "time=0.0\n",
      "time=9.5367431640625e-07\n",
      "500000500000\n"
     ]
    }
   ],
   "source": [
    "D = {}\n",
    "def repeat(n):\n",
    "    def wrap(f):\n",
    "        def execute(x):\n",
    "            for i in range(n):\n",
    "                s = time.time()\n",
    "                if x in D:\n",
    "                    result = D[x]\n",
    "                else:\n",
    "                    result = f(x)\n",
    "                    D[x] = result\n",
    "                print(f\"time={time.time()-s}\")\n",
    "            return result\n",
    "        return execute\n",
    "    return wrap\n",
    "\n",
    "@repeat(5)\n",
    "def accum(n):\n",
    "    return sum( i for i in range(int(n+1)) ) \n",
    "\n",
    "print( accum(1e6) )"
   ]
  },
  {
   "cell_type": "code",
   "execution_count": null,
   "id": "829be8b7",
   "metadata": {},
   "outputs": [],
   "source": []
  }
 ],
 "metadata": {
  "kernelspec": {
   "display_name": "Python 3 (ipykernel)",
   "language": "python",
   "name": "python3"
  },
  "language_info": {
   "codemirror_mode": {
    "name": "ipython",
    "version": 3
   },
   "file_extension": ".py",
   "mimetype": "text/x-python",
   "name": "python",
   "nbconvert_exporter": "python",
   "pygments_lexer": "ipython3",
   "version": "3.8.16"
  }
 },
 "nbformat": 4,
 "nbformat_minor": 5
}
