{
 "cells": [
  {
   "cell_type": "code",
   "execution_count": 1,
   "metadata": {},
   "outputs": [],
   "source": [
    "import re\n",
    "# re.search(pattern, target).group() # return one match string from first character\n",
    "# re.search(pattern, target).span()  # return one match index(tuple) from first character\n",
    "# re.match(pattern, target).group()  # return one match string\n",
    "# re.match(pattern, target).span()   # return one match index(tuple)\n",
    "# re.findall(pattern, target)        # return all match string in list\n",
    "# re.finditer(pattern, target)       # return all match in generator G, G[i].start() -> idx, G[i].end() -> idx\n",
    "\n",
    "# or pattern = re.compile(pattern); pattern.findall(target) # verbose \n",
    "# pattern: *:0~n times, +:1~n times, .:1 time, {n,m}:n~m times, [a-z]:a~z permutations"
   ]
  },
  {
   "cell_type": "code",
   "execution_count": 2,
   "metadata": {
    "scrolled": true
   },
   "outputs": [
    {
     "name": "stdout",
     "output_type": "stream",
     "text": [
      "['aabb', '']\n",
      "['bab']\n",
      "['3', '2', '9', '3', '1']\n"
     ]
    }
   ],
   "source": [
    "print(re.findall('a*b*', 'aabb'))\n",
    "print(re.findall('b.*', 'abab'))\n",
    "print(re.findall('[0-9]', 'afj3i293ubr1kjn'))"
   ]
  },
  {
   "cell_type": "code",
   "execution_count": 3,
   "metadata": {},
   "outputs": [
    {
     "data": {
      "text/plain": [
       "(['yahoo.com'], ['yahoo'])"
      ]
     },
     "execution_count": 3,
     "metadata": {},
     "output_type": "execute_result"
    }
   ],
   "source": [
    "re.findall(\"\\w*@(.+)\\.\", \"hello@yahoo.com.tw\"), re.findall(\"\\w*@(.+?)\\.\", \"hello@yahoo.com.tw\")"
   ]
  },
  {
   "cell_type": "code",
   "execution_count": 9,
   "metadata": {},
   "outputs": [],
   "source": [
    "# . any character except for linebreak\n",
    "# ^abc article head match (must return 0 or 1 item)\n",
    "# abc$ article tail match (must return 0 or 1 item)\n",
    "# [^abc] any character exclude a,b,c\n",
    "# [^][^] exclude string\n",
    "# (?) least matching # default max matching\n",
    "# \\w = [a-zA-Z0-9_]\n",
    "# \\d = [0-9]\n",
    "# \\s = [ \\t\\n]"
   ]
  },
  {
   "cell_type": "code",
   "execution_count": null,
   "metadata": {},
   "outputs": [],
   "source": []
  }
 ],
 "metadata": {
  "kernelspec": {
   "display_name": "Python 3",
   "language": "python",
   "name": "python3"
  },
  "language_info": {
   "codemirror_mode": {
    "name": "ipython",
    "version": 3
   },
   "file_extension": ".py",
   "mimetype": "text/x-python",
   "name": "python",
   "nbconvert_exporter": "python",
   "pygments_lexer": "ipython3",
   "version": "3.7.7"
  }
 },
 "nbformat": 4,
 "nbformat_minor": 4
}
