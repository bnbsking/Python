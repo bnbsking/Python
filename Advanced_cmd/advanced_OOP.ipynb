{
 "cells": [
  {
   "cell_type": "code",
   "execution_count": 110,
   "metadata": {},
   "outputs": [
    {
     "name": "stdout",
     "output_type": "stream",
     "text": [
      "The function name is print_normal\n",
      "normal hello world\n",
      "\n",
      "The function name is print_decorator\n",
      "decorator hello world\n"
     ]
    }
   ],
   "source": [
    "# decorator(1/3): a function that modify other functions\n",
    "def mydec(f):\n",
    "    def wrap():\n",
    "        print('The function name is {}'.format(f.__name__))\n",
    "        f()\n",
    "    return wrap\n",
    "\n",
    "def print_normal():\n",
    "    print('normal hello world\\n')\n",
    "\n",
    "@mydec\n",
    "def print_decorator():\n",
    "    print('decorator hello world')\n",
    "    \n",
    "mydec(print_normal)()\n",
    "print_decorator()"
   ]
  },
  {
   "cell_type": "code",
   "execution_count": 111,
   "metadata": {},
   "outputs": [
    {
     "name": "stdout",
     "output_type": "stream",
     "text": [
      "The function name is print_decorator\n",
      "decorator hello world 777\n"
     ]
    }
   ],
   "source": [
    "# decorator(2/3):\n",
    "# decorator with parameters needs three-level-def and two-level-return\n",
    "# argument: first_parameters, second_functions, third_None; return same vertical definition \n",
    "def mydec_param(x):\n",
    "    def mydec(f):\n",
    "        def wrap():\n",
    "            print('The function name is {}'.format(f.__name__))\n",
    "            f(x)\n",
    "        return wrap\n",
    "    return mydec\n",
    "\n",
    "@mydec_param(x=777)\n",
    "def print_decorator(x):\n",
    "    print('decorator hello world', x)\n",
    "\n",
    "print_decorator()"
   ]
  },
  {
   "cell_type": "code",
   "execution_count": 7,
   "metadata": {},
   "outputs": [
    {
     "name": "stdout",
     "output_type": "stream",
     "text": [
      "woof\n"
     ]
    }
   ],
   "source": [
    "# decorator(3/3): it can also be class\n",
    "class Animal:\n",
    "    def __init__(self, func):\n",
    "        self.talent = func\n",
    "\n",
    "@Animal\n",
    "def dog_bark():\n",
    "    print(\"woof\")\n",
    "\n",
    "obj = dog_bark\n",
    "obj.talent ()"
   ]
  },
  {
   "cell_type": "code",
   "execution_count": 112,
   "metadata": {},
   "outputs": [
    {
     "name": "stdout",
     "output_type": "stream",
     "text": [
      "16\n",
      "{'__module__': '__main__', 'get_perimeter': <function rectangle1.get_perimeter at 0x0000025FCA4CBE18>, '__dict__': <attribute '__dict__' of 'rectangle1' objects>, '__weakref__': <attribute '__weakref__' of 'rectangle1' objects>, '__doc__': None} <slot wrapper '__init__' of 'object' objects>\n",
      "16\n",
      "{'__module__': '__main__', 'get_perimeter': <function rectangle2.get_perimeter at 0x0000025FCA4CB840>, '__dict__': <attribute '__dict__' of 'rectangle2' objects>, '__weakref__': <attribute '__weakref__' of 'rectangle2' objects>, '__doc__': None} <slot wrapper '__init__' of 'object' objects>\n",
      "16\n",
      "{} <method-wrapper '__init__' of rectangle3 object at 0x0000025FC98F73C8>\n",
      "3\n",
      "None\n",
      "{'__module__': '__main__', 'f': <function rectangle4.f at 0x0000025FCA23FEA0>, '__init__': <function rectangle4.__init__ at 0x0000025FCA4CBF28>, '__dict__': <attribute '__dict__' of 'rectangle4' objects>, '__weakref__': <attribute '__weakref__' of 'rectangle4' objects>, '__doc__': None} <function rectangle4.__init__ at 0x0000025FCA4CBF28>\n"
     ]
    }
   ],
   "source": [
    "# 1. class 和 class() 皆為無繼承 沒差, attribute 和 method 順序沒差\n",
    "# 2. 若無self出現過, 創造object不可有(); 若有self出現過, 創造object要()否則無法使用'含self之method'\n",
    "# 3. __init__ (instance method) 一定要有self參數\n",
    "class rectangle1:\n",
    "    def get_perimeter(a,b):\n",
    "        return (a+b)*2\n",
    "R = rectangle1\n",
    "print(R.get_perimeter(3,5))\n",
    "print(R.__dict__, R.__init__)\n",
    "\n",
    "class rectangle2():\n",
    "    def get_perimeter(a,b):\n",
    "        return (a+b)*2\n",
    "R = rectangle2\n",
    "print(R.get_perimeter(3,5))\n",
    "print(R.__dict__, R.__init__)\n",
    "\n",
    "class rectangle3:\n",
    "    def get_perimeter(self, a, b):\n",
    "        return (a+b)*2\n",
    "R = rectangle3()\n",
    "print(R.get_perimeter(3,5))\n",
    "print(R.__dict__, R.__init__)\n",
    "R = rectangle3\n",
    "\n",
    "class rectangle4:\n",
    "    def f(x):\n",
    "        print(x)\n",
    "    def __init__(self, width, length):\n",
    "        self.width = width\n",
    "        self.length = length\n",
    "R = rectangle4\n",
    "print(R.f(3))\n",
    "print(R.__dict__, R.__init__)"
   ]
  },
  {
   "cell_type": "code",
   "execution_count": 14,
   "metadata": {},
   "outputs": [
    {
     "name": "stdout",
     "output_type": "stream",
     "text": [
      "bobo\n",
      "red\n",
      "purr\n",
      "scratch\n",
      "None\n"
     ]
    }
   ],
   "source": [
    "# inheritance(1/3): create object and method includes self parameter. Same rule as above\n",
    "class Animal:\n",
    "    def __init__(self, name, color):\n",
    "        self.name = name\n",
    "        self.color = color\n",
    "\n",
    "class Cat(Animal):\n",
    "    def purr(self):\n",
    "        print('purr')\n",
    "    def scratch():\n",
    "        print('scratch')\n",
    "\n",
    "obj = Cat('bobo', 'red')\n",
    "print(obj.name)\n",
    "print(obj.color)\n",
    "obj.purr()\n",
    "\n",
    "obj2 = Cat\n",
    "print(Cat.scratch())"
   ]
  },
  {
   "cell_type": "code",
   "execution_count": 9,
   "metadata": {},
   "outputs": [
    {
     "name": "stdout",
     "output_type": "stream",
     "text": [
      "5\n",
      "hello\n",
      "5\n",
      "woof\n",
      "5 bobo white 3 {'name': 'bobo', 'color': 'white', 'memory': 3}\n",
      "5 bobo rainbow cute {'name': 'bobo', 'color': 'rainbow', 'cute': 'cute'}\n"
     ]
    }
   ],
   "source": [
    "# inheritance(2/3):\n",
    "# the parameters filling when creating an object:\n",
    "#     1. child class has no init -> it refers to parent class\n",
    "#     2. child class has init    -> it refers to itself\n",
    "#     3. child class has init+super -> it refers both paraent class and itself (must inherit all)\n",
    "#     4. child class has init+parent -> it refers both paraent class and itself (must inherit all)\n",
    "class Animal:\n",
    "    x = 5\n",
    "    def __init__(self, name, color):\n",
    "        self.name = name\n",
    "        self.color = color\n",
    "    def hello(self):\n",
    "        print('hello')\n",
    "\n",
    "class Cat(Animal):\n",
    "    def __init__(self, height):\n",
    "        self.height = height\n",
    "\n",
    "class Dog(Animal):\n",
    "    def woof(self):\n",
    "        print('woof')\n",
    "\n",
    "class Fish(Animal):\n",
    "    def __init__(self, name, color, memory):\n",
    "        super().__init__(name, color)\n",
    "        self.memory = memory\n",
    "        \n",
    "class Groundhog(Animal):\n",
    "    def __init__(self, name, color, cute):\n",
    "        Animal.__init__(self, name, color)\n",
    "        self.cute = cute\n",
    "    \n",
    "obj = Cat(2)\n",
    "print(obj.x)\n",
    "obj.hello()\n",
    "\n",
    "obj = Dog('bobo', 'red')\n",
    "print(obj.x)\n",
    "obj.woof()\n",
    "\n",
    "obj = Fish('bobo', 'white', 3)\n",
    "print(obj.x, obj.name, obj.color, obj.memory, obj.__dict__)\n",
    "\n",
    "obj = Groundhog('bobo', 'rainbow', 'cute')\n",
    "print(obj.x, obj.name, obj.color, obj.cute, obj.__dict__)"
   ]
  },
  {
   "cell_type": "code",
   "execution_count": 128,
   "metadata": {},
   "outputs": [
    {
     "name": "stdout",
     "output_type": "stream",
     "text": [
      "0x71b580b0 0x71b580d0 0x71b580d0\n",
      "0x71b580b0 0x71b58110 0x71b58110\n",
      "0\n"
     ]
    }
   ],
   "source": [
    "# inheritance(3/3): override. 單純繼承不改變id 但改掉子class後子class id亦更改\n",
    "# instance attribute 優先於 class attribute\n",
    "class A:\n",
    "    x = 3\n",
    "    \n",
    "class B(A):\n",
    "    x = 4\n",
    "    pass\n",
    "\n",
    "class C(B):\n",
    "    z = 5\n",
    "    def __init__(self, z):\n",
    "        self.z = z\n",
    "\n",
    "print(hex(id(A.x)), hex(id(B.x)), hex(id(C.x)))\n",
    "B.x = 6\n",
    "print(hex(id(A.x)), hex(id(B.x)), hex(id(C.x)))\n",
    "\n",
    "obj = C(0)\n",
    "print(obj.z)"
   ]
  },
  {
   "cell_type": "code",
   "execution_count": 120,
   "metadata": {},
   "outputs": [
    {
     "name": "stdout",
     "output_type": "stream",
     "text": [
      "0 1\n",
      "Cannot access private member\n",
      "\n",
      "This is a private method\n",
      "\n",
      "Brute force access private member\n",
      "2\n",
      "0 1\n",
      "2\n"
     ]
    }
   ],
   "source": [
    "# Encapsulation\n",
    "# _foo, foo_: no meaning\n",
    "# __foo: private\n",
    "# __foo__: built-in do not use\n",
    "class Animal:\n",
    "    att = 0\n",
    "    _att = 1\n",
    "    __att = 2\n",
    "    def __init__(self, x, y, z):\n",
    "        self.x = x\n",
    "        self._y = y\n",
    "        self.__z = z\n",
    "    def __f():\n",
    "        print('This is a private method\\n')\n",
    "    def g():\n",
    "        Animal.__f()\n",
    "    \n",
    "obj = Animal\n",
    "print(obj.att, obj._att)\n",
    "try:\n",
    "    print(obj.__att)\n",
    "except:\n",
    "    print('Cannot access private member\\n')\n",
    "obj.g()\n",
    "\n",
    "print('Brute force access private member')\n",
    "print(obj._Animal__att)\n",
    "\n",
    "obj = Animal(0,1,2)\n",
    "print(obj.x, obj._y)\n",
    "print(obj._Animal__z)"
   ]
  },
  {
   "cell_type": "code",
   "execution_count": 130,
   "metadata": {},
   "outputs": [
    {
     "name": "stdout",
     "output_type": "stream",
     "text": [
      "Meow\n",
      "Woof\n"
     ]
    },
    {
     "data": {
      "text/plain": [
       "(None, None)"
      ]
     },
     "execution_count": 130,
     "metadata": {},
     "output_type": "execute_result"
    }
   ],
   "source": [
    "# polymorphism: two children inherit from same parent and override parent's method\n",
    "class Animal:\n",
    "    def __init__(self, name):\n",
    "        self.name = name\n",
    "    def shout(self):\n",
    "        print('shout')\n",
    "        \n",
    "class Cat(Animal):\n",
    "    def shout(self):\n",
    "        print('Meow')\n",
    "\n",
    "class Dog(Animal):\n",
    "    def shout(self):\n",
    "        print('Woof')\n",
    "\n",
    "obj1, obj2 = Cat('bobo'), Dog('james')\n",
    "obj1.shout(), obj2.shout()"
   ]
  },
  {
   "cell_type": "code",
   "execution_count": 137,
   "metadata": {},
   "outputs": [
    {
     "name": "stdout",
     "output_type": "stream",
     "text": [
      "eating\n",
      "walking\n"
     ]
    }
   ],
   "source": [
    "# abstract: list NotImplemented methods for overriding\n",
    "import abc\n",
    "\n",
    "class Animal(metaclass=abc.ABCMeta):\n",
    "    @abc.abstractmethod\n",
    "    def eat(self):\n",
    "        return NotImplemented\n",
    "    @abc.abstractmethod\n",
    "    def walk(self):\n",
    "        return NotImplemented\n",
    "\n",
    "class Dog(Animal):\n",
    "    def eat(self):\n",
    "        print('eating')\n",
    "    def walk(self):\n",
    "        print('walking')\n",
    "\n",
    "Dog().eat(); Dog().walk()"
   ]
  },
  {
   "cell_type": "code",
   "execution_count": 3,
   "metadata": {},
   "outputs": [
    {
     "name": "stdout",
     "output_type": "stream",
     "text": [
      "0x29bd883cea0\n",
      "0x29bd883cd08\n"
     ]
    }
   ],
   "source": [
    "# overloading\n",
    "def add(x,y):\n",
    "    return x+y\n",
    "print( hex(id(add)) )\n",
    "\n",
    "def add(x,y,z):\n",
    "    return x+y+z\n",
    "print( hex(id(add)) )"
   ]
  },
  {
   "cell_type": "code",
   "execution_count": 26,
   "metadata": {},
   "outputs": [
    {
     "name": "stdout",
     "output_type": "stream",
     "text": [
      "I'm a dog and my height is 40.\n",
      "40\n"
     ]
    }
   ],
   "source": [
    "# closure(1/3): creating function object just as creating class object\n",
    "# bring capture variable after function life cycle ends.\n",
    "# height: capture variable\n",
    "# dog(): capture function (closure)\n",
    "def dog():\n",
    "    height = 40\n",
    "    def profile():\n",
    "        print(\"I'm a dog and my height is {}.\".format(height))\n",
    "        return height\n",
    "    return profile\n",
    "\n",
    "dog_profile = dog()\n",
    "print(dog_profile())"
   ]
  },
  {
   "cell_type": "code",
   "execution_count": 28,
   "metadata": {},
   "outputs": [
    {
     "name": "stdout",
     "output_type": "stream",
     "text": [
      "41\n",
      "44\n"
     ]
    }
   ],
   "source": [
    "# closure(2/3)\n",
    "# 1 heigth = 40, it is captured variable not local!\n",
    "# 2 height = height+1, right height is local variable\n",
    "# 3 capture variables are independent from different function objects\n",
    "def dog():\n",
    "    height = 40\n",
    "    def grow_up():\n",
    "        nonlocal height\n",
    "        height = height + 1\n",
    "        return height\n",
    "    return grow_up\n",
    "\n",
    "dog_grow_up = dog()\n",
    "print(dog_grow_up())\n",
    "\n",
    "dog_grow_up2 = dog()\n",
    "dog_grow_up2()\n",
    "dog_grow_up2()\n",
    "dog_grow_up2()\n",
    "print(dog_grow_up2())"
   ]
  },
  {
   "cell_type": "code",
   "execution_count": 2,
   "metadata": {},
   "outputs": [
    {
     "name": "stdout",
     "output_type": "stream",
     "text": [
      "4\n",
      "6\n",
      "8\n",
      "[('water', 30), ('ice cream', 80), ('bike', 20000)]\n"
     ]
    }
   ],
   "source": [
    "# closure(3/3): lambda\n",
    "print((lambda x: x+1)(3))\n",
    "\n",
    "add = lambda x: x + 1\n",
    "print(add(5))\n",
    "\n",
    "add = lambda x: (lambda y: x + y)\n",
    "print(add(3)(5))\n",
    "\n",
    "prices = [(\"ice cream\", 80), (\"bike\", 20000), (\"water\", 30)]\n",
    "sorted_by_price = sorted(prices, key=lambda x: x[1])\n",
    "print(sorted_by_price)"
   ]
  },
  {
   "cell_type": "code",
   "execution_count": null,
   "metadata": {},
   "outputs": [],
   "source": []
  },
  {
   "cell_type": "code",
   "execution_count": null,
   "metadata": {},
   "outputs": [],
   "source": []
  }
 ],
 "metadata": {
  "kernelspec": {
   "display_name": "Python 3",
   "language": "python",
   "name": "python3"
  },
  "language_info": {
   "codemirror_mode": {
    "name": "ipython",
    "version": 3
   },
   "file_extension": ".py",
   "mimetype": "text/x-python",
   "name": "python",
   "nbconvert_exporter": "python",
   "pygments_lexer": "ipython3",
   "version": "3.7.4"
  }
 },
 "nbformat": 4,
 "nbformat_minor": 2
}
