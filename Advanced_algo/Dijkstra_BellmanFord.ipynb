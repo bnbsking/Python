{
 "cells": [
  {
   "cell_type": "code",
   "execution_count": 77,
   "id": "b9be33e5",
   "metadata": {},
   "outputs": [],
   "source": [
    "times = [[10,3,41],[13,4,66],[15,13,41],[2,9,84],[15,2,57],[10,7,76],[4,3,90],[1,14,35],[7,3,54],[14,4,36],[7,13,63],[14,6,91],[11,2,37],[4,1,3],[12,10,63],[11,1,28],[6,4,62],[14,11,45],[1,9,14],[5,8,18],[9,15,22],[12,9,37],[7,1,65],[12,5,78],[15,14,15],[4,13,97],[1,15,35],[10,9,82],[15,8,1],[15,7,75],[3,7,64],[10,14,81],[13,3,59],[5,7,49],[2,4,90],[10,13,43],[11,13,26],[10,5,27],[1,3,54],[4,9,18],[5,9,70],[5,12,58],[13,5,78],[7,8,68],[1,13,12],[3,10,38],[13,7,17],[5,1,71],[15,10,89],[11,8,40],[7,15,48],[8,2,55],[1,11,25],[3,15,72],[1,7,11],[14,2,25],[9,10,17],[13,10,69],[12,3,6],[6,15,4],[14,13,52],[12,15,48],[14,7,61],[13,14,45],[3,4,91],[11,10,94],[10,4,71],[3,14,0],[3,6,37],[6,11,35],[4,6,25],[6,1,16],[9,2,97],[13,9,78],[8,7,62],[11,3,21],[2,10,30],[2,13,54],[14,8,6],[4,14,7],[2,6,62],[2,15,11],[14,15,41],[7,2,8],[5,14,31],[6,8,13],[2,3,76],[9,14,34],[8,15,6],[7,11,38],[5,4,46],[1,4,10],[14,12,22],[9,13,66],[6,12,74],[6,3,68],[5,6,74],[10,11,18],[3,8,84],[5,13,20],[8,11,41],[2,8,41],[15,4,2],[8,1,82],[9,1,60],[7,14,60],[3,12,32],[11,7,26],[10,2,56],[9,3,69],[15,11,77],[5,2,35],[11,15,34],[8,6,35],[8,12,12],[4,11,94],[4,5,38],[1,10,25],[7,12,34],[12,2,48],[2,7,75],[12,11,93],[15,6,13],[1,8,11],[12,13,51],[13,6,72],[3,11,46],[9,4,15],[10,12,47],[12,7,17],[8,13,62],[11,12,67],[14,3,17],[5,3,11],[14,5,30],[13,8,90],[3,5,42],[3,1,90],[4,12,62],[9,6,78],[9,5,63],[2,5,19],[14,1,42],[1,5,27],[13,12,71],[9,12,86],[4,2,98],[7,5,24],[6,10,47],[10,8,42],[9,11,60],[2,14,72],[7,4,29],[12,4,15],[1,12,57],[15,1,65],[1,6,78],[12,1,7],[2,1,48],[8,5,35],[7,6,73],[8,14,15],[9,8,2],[13,15,56],[15,12,24],[10,6,75],[4,15,40],[7,10,87],[2,12,79],[15,3,65],[3,9,78],[13,2,31],[14,10,72],[11,14,83],[6,5,99],[8,9,55],[8,4,3],[4,8,41],[6,9,97],[10,15,19],[15,5,97],[10,1,36],[5,15,69],[11,4,68],[9,7,0],[12,8,28],[6,13,89],[14,9,37],[11,9,64],[12,6,32],[3,13,8],[7,9,8],[6,7,59],[13,1,13],[12,14,97],[8,10,85],[2,11,82],[3,2,87],[13,11,5],[15,9,27],[4,10,27],[5,11,64],[8,3,59],[6,14,51],[4,7,95],[11,6,54],[6,2,35],[1,2,39],[5,10,89],[11,5,91]]\n",
    "n = 15\n",
    "k = 2\n",
    "ans = 33"
   ]
  },
  {
   "cell_type": "markdown",
   "id": "6069e43d",
   "metadata": {},
   "source": [
    "### Naive: O(V^2)"
   ]
  },
  {
   "cell_type": "code",
   "execution_count": 78,
   "id": "a34b855e",
   "metadata": {},
   "outputs": [
    {
     "data": {
      "text/plain": [
       "33"
      ]
     },
     "execution_count": 78,
     "metadata": {},
     "output_type": "execute_result"
    }
   ],
   "source": [
    "class Solution(object):\n",
    "    def networkDelayTime(self, times, n, k):\n",
    "        \"\"\"\n",
    "        :type times: List[List[int]]\n",
    "        :type n: int\n",
    "        :type k: int\n",
    "        :rtype: int\n",
    "        \"\"\"\n",
    "        G = { i:{} for i in range(1,n+1) }\n",
    "        for l,r,w in times:\n",
    "            G[l][r] = w\n",
    "        \n",
    "        D, visit = { i: 0 if i==k else float('inf') for i in range(1,n+1) }, set()\n",
    "        for i in range(n):\n",
    "            _, mini = min([ (dist,i) for i,dist in D.items() if i not in visit ])\n",
    "            visit.add( mini )\n",
    "            for nb in G[mini]:\n",
    "                D[nb] = min( D[nb], D[mini]+G[mini][nb] )\n",
    "        return -1 if float('inf') in D.values() else max(D.values()) # Final version of Dijkstra\n",
    "\n",
    "Solution().networkDelayTime(times, n, k)"
   ]
  },
  {
   "cell_type": "markdown",
   "id": "aabc4704",
   "metadata": {},
   "source": [
    "### Heap Based: O(ElogV)"
   ]
  },
  {
   "cell_type": "code",
   "execution_count": 19,
   "id": "c4868fd6",
   "metadata": {},
   "outputs": [
    {
     "name": "stdout",
     "output_type": "stream",
     "text": [
      "[0, 1, 2, 3, 3, 4, 7, 7, 7, 9, 15, 23]\n"
     ]
    }
   ],
   "source": [
    "class Heap(list): # Minimal implementation of normal heap\n",
    "    def insert(self,x): # overloading\n",
    "        self.append(x)\n",
    "        i = len(self)-1\n",
    "        while i>0 and self[ (i-1)//2 ] > self[i]:\n",
    "            self[ (i-1)//2 ], self[i] = self[i], self[ (i-1)//2 ]\n",
    "            i = (i-1)//2\n",
    "\n",
    "    def popMin(self):\n",
    "        if len(self)==1:\n",
    "            return self.pop()\n",
    "        target = self[0]\n",
    "        self[0], i = self.pop(), 0\n",
    "        while 2*i+1<len(self): # has (left) child\n",
    "            s, l, r = self[i], self[2*i+1] if 2*i+1<len(self) else float('inf'), self[2*i+2] if 2*i+2<len(self) else float('inf')\n",
    "            if min(s,l,r)==s:\n",
    "                break\n",
    "            elif min(s,l,r)==l:\n",
    "                self[i], self[2*i+1] = self[2*i+1], self[i]\n",
    "                i = 2*i+1\n",
    "            else:\n",
    "                self[i], self[2*i+2] = self[2*i+2], self[i]\n",
    "                i = 2*i+2\n",
    "        return target\n",
    "\n",
    "H = Heap()\n",
    "for ele in [3,1,4,7,23,7,2,15,7,3,0,9]:\n",
    "    H.insert(ele)\n",
    "print( [ H.popMin() for i in range(len(H.copy())) ] ) # Heap sort"
   ]
  },
  {
   "cell_type": "code",
   "execution_count": 87,
   "id": "1bfd0fab",
   "metadata": {},
   "outputs": [
    {
     "name": "stdout",
     "output_type": "stream",
     "text": [
      "[0, 0, 10], [1, 1, 1], [2, 2, 6], [7, 3, 3], [3, 4, 0], [7, 5, 5], [4, 6, 2], [15, 7, 7], [7, 8, 8], [23, 9, 4], [3, 10, 9], [9, 11, 11]\n",
      "[0, 0, 10], [1, 1, 1], [2, 2, 6], [6, 3, 8], [3, 4, 0], [7, 5, 5], [4, 6, 2], [15, 7, 7], [7, 8, 3], [23, 9, 4], [3, 10, 9], [9, 11, 11]\n",
      "['[0, 0, 10]', '[1, 0, 1]', '[2, 0, 6]', '[3, 0, 0]', '[3, 0, 9]', '[4, 0, 2]', '[6, 0, 8]', '[7, 0, 3]', '[7, 0, 5]', '[9, 0, 11]', '[15, 0, 7]', '[23, 0, 4]']\n"
     ]
    }
   ],
   "source": [
    "class Vector:\n",
    "    def __init__(self, weight, indexInHeap, node):\n",
    "        self.w, self.iih, self.node = weight, indexInHeap, node\n",
    "    def __str__(self): # optional\n",
    "        return f\"[{self.w}, {self.iih}, {self.node}]\"\n",
    "\n",
    "class HeapExtra(list): # Heap with \"index in heap\" for \"Vector\"\n",
    "    def insert(self, vec): # overloading # challenge parent iteratively\n",
    "        self.append( vec )\n",
    "        self[-1].iih, i, p = len(self)-1, len(self)-1, (len(self)-2)//2\n",
    "        while i>0 and self[i].w<self[p].w:\n",
    "            self[i], self[p] = self[p], self[i] # swap vector\n",
    "            self[i].iih, self[p].iih = i, p # IMPORTANT\n",
    "            i, p = p, (p-1)//2\n",
    "\n",
    "    def popMin(self):\n",
    "        if len(self)==1:\n",
    "            return self.pop()\n",
    "        target  = self[0]\n",
    "        self[0] = self.pop()\n",
    "        self[0].iih, i, l, r = 0, 0, 1, 2\n",
    "        while l<len(self): # has (left) child # challenge children iteratively\n",
    "            _, m = min( (self[i].w,\"d\"), (self[l].w if l<len(self) else float('inf'),\"l\"), (self[r].w if r<len(self) else float('inf'),\"r\") )\n",
    "            if m==\"d\":\n",
    "                break\n",
    "            elif m==\"l\":\n",
    "                self[i], self[l] = self[l], self[i]\n",
    "                self[i].iih, self[l].iih = i, l\n",
    "                i, l, r = l, 2*l+1, 2*l+2\n",
    "            else:\n",
    "                self[i], self[r] = self[r], self[i]\n",
    "                self[i].iih, self[r].iih = i, r \n",
    "                i, l, r = r, 2*r+1, 2*r+2        \n",
    "        return target\n",
    "    \n",
    "    def show(self): # optional\n",
    "        z = \"\"\n",
    "        for vec in self:\n",
    "            z+=str(vec)+\", \"\n",
    "        print( z[:-2] )\n",
    "        \n",
    "    def update(self, idx, val): # heap index, update value # a.k.a decrease key\n",
    "        self[idx].w, i, p = val, idx, (idx-1)//2\n",
    "        while i>0 and self[i].w<self[p].w:\n",
    "            self[i], self[p] = self[p], self[i] # swap vector\n",
    "            self[i].iih, self[p].iih = i, p # IMPORTANT\n",
    "            i, p = p, (p-1)//2\n",
    "\n",
    "H = HeapExtra()\n",
    "for ele in [[3,-1,0],[1,-1,1], [4,-1,2],[7,-1,3],[23,-1,4],[7,-1,5],[2,-1,6],[15,-1,7],[7,-1,8],[3,-1,9],[0,-1,10],[9,-1,11]]:\n",
    "    H.insert( Vector(*ele) )\n",
    "H.show()\n",
    "H.update(8,6)\n",
    "H.show()\n",
    "print( [ str(H.popMin()) for i in range(len(H.copy())) ] )"
   ]
  },
  {
   "cell_type": "code",
   "execution_count": 97,
   "id": "3b1c8d73",
   "metadata": {},
   "outputs": [
    {
     "data": {
      "text/plain": [
       "33"
      ]
     },
     "execution_count": 97,
     "metadata": {},
     "output_type": "execute_result"
    }
   ],
   "source": [
    "class Solution(object):\n",
    "    def networkDelayTime(self, times, n, k):\n",
    "        \"\"\"\n",
    "        :type times: List[List[int]]\n",
    "        :type n: int\n",
    "        :type k: int\n",
    "        :rtype: int\n",
    "        \"\"\"\n",
    "        G = { i:{} for i in range(1,n+1) }\n",
    "        for l,r,w in times:\n",
    "            G[l][r] = w\n",
    "        \n",
    "        D = { i: Vector(0,0,k) if i==k else Vector(float('inf'),-1,i) for i in range(1,n+1) } # node:[dist, idx in heap, node (const)]\n",
    "        H = HeapExtra([ D[k] ]) # heap # iid=-1 -> not add yet; idd=-2 -> already pop \n",
    "        while H:\n",
    "            x = H.popMin() # x.w, x.iih, x.node\n",
    "            x.iih = -2\n",
    "            for nb in G[x.node]:\n",
    "                D[nb].w = min(D[nb].w, x.w + G[x.node][nb]) # update dist\n",
    "                if D[nb].iih > -1: # in heap\n",
    "                    H.update( D[nb].iih, D[nb].w )\n",
    "                elif D[nb].iih==-1: # not yet add\n",
    "                    H.insert( D[nb] )\n",
    "        ans = max([ vec.w for vec in D.values() ])\n",
    "        return ans if ans!=float('inf') else -1\n",
    "    \n",
    "Solution().networkDelayTime(times, n, k)"
   ]
  },
  {
   "cell_type": "code",
   "execution_count": null,
   "id": "99332cab",
   "metadata": {},
   "outputs": [],
   "source": []
  },
  {
   "cell_type": "markdown",
   "id": "1a4aaa78",
   "metadata": {},
   "source": [
    "### Bellman-Ford: O(ve)\n",
    "+ Negative weights or Step restriction\n",
    "+ Check negative cycle: do 1 more time (v+1-th iteration) to check if stable"
   ]
  },
  {
   "cell_type": "code",
   "execution_count": 2,
   "id": "b5217d91",
   "metadata": {},
   "outputs": [
    {
     "data": {
      "text/plain": [
       "6"
      ]
     },
     "execution_count": 2,
     "metadata": {},
     "output_type": "execute_result"
    }
   ],
   "source": [
    "n = 4\n",
    "flights = [[0,1,1],[0,2,5],[1,2,1],[2,3,1]]\n",
    "src = 0\n",
    "dst = 3\n",
    "k = 1\n",
    "ans = 6\n",
    "\n",
    "class Solution(object):\n",
    "    def findCheapestPrice(self, n, flights, src, dst, k):\n",
    "        \"\"\"\n",
    "        :type n: int\n",
    "        :type flights: List[List[int]]\n",
    "        :type src: int\n",
    "        :type dst: int\n",
    "        :type k: int\n",
    "        :rtype: int\n",
    "        \"\"\"\n",
    "        # Step restriction -> Bellman-Ford # O(ve)\n",
    "        D = { i: 0 if i==src else float('inf') for i in range(n) }\n",
    "        for i in range(k+1): # replace v as k+1\n",
    "            E = D.copy() # Must copy or Every node may reach in an iteration \n",
    "            for l,r,w in flights:\n",
    "                E[r] = min( E[r], D[l]+w ) # Important # left: store update to E # right: from previous\n",
    "            D = E\n",
    "        return -1 if D[dst]==float('inf') else D[dst]\n",
    "    \n",
    "Solution().findCheapestPrice(n, flights, src, dst, k)"
   ]
  },
  {
   "cell_type": "code",
   "execution_count": null,
   "id": "aa36fb10",
   "metadata": {},
   "outputs": [],
   "source": []
  }
 ],
 "metadata": {
  "kernelspec": {
   "display_name": "Python 3 (ipykernel)",
   "language": "python",
   "name": "python3"
  },
  "language_info": {
   "codemirror_mode": {
    "name": "ipython",
    "version": 3
   },
   "file_extension": ".py",
   "mimetype": "text/x-python",
   "name": "python",
   "nbconvert_exporter": "python",
   "pygments_lexer": "ipython3",
   "version": "3.9.12"
  }
 },
 "nbformat": 4,
 "nbformat_minor": 5
}
