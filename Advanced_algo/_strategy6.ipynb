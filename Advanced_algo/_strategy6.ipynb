{
 "cells": [
  {
   "cell_type": "markdown",
   "id": "6e8aff3c",
   "metadata": {},
   "source": [
    "### Iterative\n",
    "### Dynamic programming\n",
    "### Recursion\n",
    "###### Finite state machine",
   ]
  },
  {
   "cell_type": "code",
   "execution_count": 29,
   "id": "e221b886",
   "metadata": {},
   "outputs": [
    {
     "name": "stdout",
     "output_type": "stream",
     "text": [
      "[0, 1, 1, 2, 3, 5, 8]\n",
      "[0, 1, 1, 2, 3, 5, 8]\n",
      "[0, 1, 1, 2, 3, 5, 8]\n",
      "[0, 1, 1, 2, 3, 5, 8]\n",
      "[0, 1, 1, 2, 3, 5, 8]\n",
      "[0, 1, 1, 2, 3, 5, 8]\n"
     ]
    }
   ],
   "source": [
    "def iterative_fib(n): # O(n) # 0, 1, 1, 2, 3, 5, ...\n",
    "    if n<2:\n",
    "        return n\n",
    "    else:\n",
    "        a, b = 0, 1\n",
    "        for i in range(n-1):\n",
    "            t = a+b\n",
    "            a = b\n",
    "            b = t\n",
    "        return b\n",
    "    \n",
    "def dp_fib(n): # O(n)\n",
    "    L = [0,1]\n",
    "    for i in range(n-1):\n",
    "        L.append( L[-1]+L[-2] )\n",
    "    return L[0] if n==0 else L[-1]\n",
    "\n",
    "def recursiveTD_fib(n): # O(2**n)\n",
    "    if n<2:\n",
    "        return n\n",
    "    else:\n",
    "        return recursiveTD_fib(n-1) + recursiveTD_fib(n-2)\n",
    "\n",
    "def mix_fib(n): # O(n)\n",
    "    L = [0,1]\n",
    "    def f(n):\n",
    "        if n<len(L):\n",
    "            return L[n]\n",
    "        else:\n",
    "            return f(n-1)+f(n-2)\n",
    "    return f(n)\n",
    "    \n",
    "def recursiveBU_fib(n): # O(n)\n",
    "    def f(i=1, a=0, b=1):\n",
    "        if i==n:\n",
    "            return b\n",
    "        else:\n",
    "            return f(i+1, b, a+b)\n",
    "    return 0 if n==0 else f()\n",
    "\n",
    "def recursiveBU2_fib(n): # O(n)\n",
    "    a, b = 0, 1\n",
    "    def f(i=1):\n",
    "        nonlocal a, b\n",
    "        if i<n:\n",
    "            t = a+b\n",
    "            a = b\n",
    "            b = t\n",
    "            f(i+1)\n",
    "    f()\n",
    "    return 0 if n==0 else b\n",
    "\n",
    "print( [ iterative_fib(i) for i in range(7) ] )\n",
    "print( [ dp_fib(i) for i in range(7) ] )\n",
    "print( [ recursiveTD_fib(i) for i in range(7) ] )\n",
    "print( [ mix_fib(i) for i in range(7) ] )\n",
    "print( [ recursiveBU_fib(i) for i in range(7) ] )\n",
    "print( [ recursiveBU2_fib(i) for i in range(7) ] )"
   ]
  },
  {
   "cell_type": "code",
   "execution_count": null,
   "id": "634994a8",
   "metadata": {},
   "outputs": [],
   "source": []
  }
 ],
 "metadata": {
  "kernelspec": {
   "display_name": "Python 3 (ipykernel)",
   "language": "python",
   "name": "python3"
  },
  "language_info": {
   "codemirror_mode": {
    "name": "ipython",
    "version": 3
   },
   "file_extension": ".py",
   "mimetype": "text/x-python",
   "name": "python",
   "nbconvert_exporter": "python",
   "pygments_lexer": "ipython3",
   "version": "3.9.12"
  }
 },
 "nbformat": 4,
 "nbformat_minor": 5
}
