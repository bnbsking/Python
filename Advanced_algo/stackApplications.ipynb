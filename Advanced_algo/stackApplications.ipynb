{
 "cells": [
  {
   "cell_type": "markdown",
   "id": "0015790d",
   "metadata": {},
   "source": [
    "### Check valid parentheses\n",
    "+ parentheses only: a stack\n",
    "+ parentheses, square brackets, curly brackets: a stack + matching dict e.g. leetcode 20"
   ]
  },
  {
   "cell_type": "code",
   "execution_count": 39,
   "id": "609856ed",
   "metadata": {},
   "outputs": [
    {
     "name": "stdout",
     "output_type": "stream",
     "text": [
      "True False False\n"
     ]
    }
   ],
   "source": [
    "s1 = \"()[{}]\"\n",
    "s2 = \"([{}]\"\n",
    "s3 = \"([)]\"\n",
    "\n",
    "def f(s):\n",
    "    stack, D = [], {\"(\":\")\", \"[\":\"]\", \"{\":\"}\"}\n",
    "    for c in s:\n",
    "        if c in D:\n",
    "            stack.append(c)\n",
    "        elif stack==[] or D[stack[-1]]!=c:\n",
    "            return False\n",
    "        else:\n",
    "            stack.pop()\n",
    "    return len(stack)==0\n",
    "\n",
    "print( f(s1), f(s2), f(s3) )"
   ]
  },
  {
   "cell_type": "markdown",
   "id": "718c7fb0",
   "metadata": {},
   "source": [
    "### Catalan number: C(n) = (2n  n)/(n+1)\n",
    "+ n-number stack permutation\n",
    "+ n-node binary search trees e.g. leetcode 95, 96\n",
    "\n",
    "C(1)=1, C(2)=2, C(3)=5, C(4)=14"
   ]
  },
  {
   "cell_type": "code",
   "execution_count": 56,
   "id": "2b480232",
   "metadata": {},
   "outputs": [
    {
     "name": "stdout",
     "output_type": "stream",
     "text": [
      "[[1, 2, 3], [2, 1, 3], [2, 3, 1], [3, 1, 2], [3, 2, 1]]\n"
     ]
    }
   ],
   "source": [
    "L = [1,2,3] # 5 answers exclude [1,3,2]\n",
    "\n",
    "ans = []\n",
    "def stackPermutation(L, S=[], out=[]):\n",
    "    if not L and not S:\n",
    "        ans.append(out)\n",
    "    if L:\n",
    "        stackPermutation( L[:-1], S+[L[-1]], out )\n",
    "    if S:\n",
    "        stackPermutation( L, S[:-1], out+[S[-1]] )\n",
    "        \n",
    "stackPermutation(L)\n",
    "print( ans )"
   ]
  },
  {
   "cell_type": "code",
   "execution_count": 65,
   "id": "6a132780",
   "metadata": {},
   "outputs": [
    {
     "name": "stdout",
     "output_type": "stream",
     "text": [
      "[1, 2, 3] [1, 2, 3]\n",
      "[1, 3, 2] [1, 2, 3]\n",
      "[2, 1, 3] [1, 2, 3]\n",
      "[3, 1, 2] [1, 2, 3]\n",
      "[3, 2, 1] [1, 2, 3]\n"
     ]
    }
   ],
   "source": [
    "class TreeNode:\n",
    "    def __init__(self, val, left, right):\n",
    "        self.val, self.left, self.right = val, left, right\n",
    "\n",
    "def genTrees(L):            \n",
    "    if L==[]:\n",
    "        return [None]\n",
    "    else:\n",
    "        forest = []\n",
    "        for i in range(len(L)): # be root alternatively\n",
    "            lForest = genTrees( L[:i] )\n",
    "            rForest = genTrees( L[i+1:] )\n",
    "            for lTree in lForest:\n",
    "                for rTree in rForest:\n",
    "                    forest.append( TreeNode(L[i], lTree, rTree) )\n",
    "        return forest\n",
    "\n",
    "forest = genTrees([1,2,3])\n",
    "dlr    = lambda T: [T.val] + dlr(T.left) + dlr(T.right) if T else []\n",
    "ldr    = lambda T: ldr(T.left) + [T.val] + ldr(T.right) if T else []\n",
    "for T in forest:\n",
    "    print( dlr(T), ldr(T) )"
   ]
  },
  {
   "cell_type": "markdown",
   "id": "e3b76824",
   "metadata": {},
   "source": [
    "### Expressions evaluation\n",
    "+ Split\n",
    "+ Change order:\n",
    "    + infix to prefix: need 2 stacks\n",
    "    + infix to postfix: need 1 stack (BEST)\n",
    "+ Compute"
   ]
  },
  {
   "cell_type": "code",
   "execution_count": 83,
   "id": "f8ac3501",
   "metadata": {},
   "outputs": [
    {
     "name": "stdout",
     "output_type": "stream",
     "text": [
      "0.3333333333333333 8.333333333333334\n"
     ]
    }
   ],
   "source": [
    "s1, s2 = \"1/(2*3-(4+5))*(6-7)\", \"10*(5+28-3)/6^2\"\n",
    "print( eval(s1), eval(s2.replace(\"^\",\"**\")) )"
   ]
  },
  {
   "cell_type": "code",
   "execution_count": 84,
   "id": "cb33e15b",
   "metadata": {},
   "outputs": [
    {
     "name": "stdout",
     "output_type": "stream",
     "text": [
      "['1', '/', '(', '2', '*', '3', '-', '(', '4', '+', '5', ')', ')', '*', '(', '6', '-', '7', ')']\n",
      "['10', '*', '(', '5', '+', '28', '-', '3', ')', '/', '6', '^', '2']\n"
     ]
    }
   ],
   "source": [
    "# stage 1: split\n",
    "def split(s):\n",
    "    infix, operators = [], {\"+\", \"-\", \"*\", \"/\", \"^\", \"(\", \")\"}\n",
    "    for c in s:\n",
    "        if c in operators:\n",
    "            infix.append(c)\n",
    "        elif (not infix) or (infix[-1] in operators):\n",
    "            infix.append(c)\n",
    "        else:\n",
    "            infix[-1]+=c\n",
    "    return infix\n",
    "\n",
    "print( split(s1) )\n",
    "print( split(s2) )"
   ]
  },
  {
   "cell_type": "code",
   "execution_count": 87,
   "id": "55b43161",
   "metadata": {},
   "outputs": [
    {
     "name": "stdout",
     "output_type": "stream",
     "text": [
      "True\n",
      "True\n"
     ]
    }
   ],
   "source": [
    "# stage 2: infix to postfix\n",
    "inf1 = ['1', '/', '(', '2', '*', '3', '-', '(', '4', '+', '5', ')', ')', '*', '(', '6', '-', '7', ')']\n",
    "ans1 = ['1', '2', '3', '*', '4', '5', '+', '-', '/', '6', '7', '-', '*']\n",
    "inf2 = ['10', '*', '(', '5', '+', '28', '-', '3', ')', '/', '6', '^', '2']\n",
    "ans2 = ['10', '5', '28', '+', '3', '-', '*', '6', '2', '^', '/']\n",
    "\n",
    "def infix2postfix(inf): # stack for operator only # ans for all without \"(\" and \")\"\n",
    "    operatorD, stack, ans = {\"+\":1, \"-\":1, \"*\":2, \"/\":2, \"^\":3, \"(\":10, \")\":-10}, [], [] # \"(\" is highest out of stack but lowest in the stack\n",
    "    for c in inf:\n",
    "        if c in operatorD:\n",
    "            while stack and (stack[-1]!=\"(\") and operatorD[c] <= operatorD[stack[-1]]: # no pop if either: empty, top==\"(\", larger priority\n",
    "                ans.append(stack.pop())\n",
    "            if c!=\")\":\n",
    "                stack.append(c)\n",
    "            else:\n",
    "                stack.pop() # pop \"(\"\n",
    "        else: # operand\n",
    "            ans.append(c)\n",
    "    return ans+stack[::-1]\n",
    "\n",
    "print( infix2postfix(inf1) == ans1 )\n",
    "print( infix2postfix(inf2) == ans2 )"
   ]
  },
  {
   "cell_type": "code",
   "execution_count": 111,
   "id": "99c564b5",
   "metadata": {},
   "outputs": [
    {
     "name": "stdout",
     "output_type": "stream",
     "text": [
      "0.3333333333333333 8.333333333333334\n"
     ]
    }
   ],
   "source": [
    "# stage 3: compute\n",
    "post1 = ['1', '2', '3', '*', '4', '5', '+', '-', '/', '6', '7', '-', '*']\n",
    "ans1  = 0.333\n",
    "post2 = ['10', '5', '28', '+', '3', '-', '*', '6', '2', '^', '/']\n",
    "ans2  = 8.333\n",
    "\n",
    "def compute(post): # stack for operand only\n",
    "    stack, ops = [], {\"+\":lambda a,b:a+b, \"-\":lambda a,b:a-b, \"*\":lambda a,b:a*b, \"/\":lambda a,b:a/b, \"^\":lambda a,b:a**b}\n",
    "    for c in post:\n",
    "        if c not in ops:\n",
    "            stack.append( float(c) )\n",
    "        else:\n",
    "            x = stack.pop()\n",
    "            y = stack.pop()\n",
    "            stack.append( ops[c](y,x) ) # because x-y -> xy-\n",
    "    return stack.pop()\n",
    "\n",
    "print( compute(post1), compute(post2) )"
   ]
  },
  {
   "cell_type": "code",
   "execution_count": null,
   "id": "a0d34cea",
   "metadata": {},
   "outputs": [],
   "source": []
  }
 ],
 "metadata": {
  "kernelspec": {
   "display_name": "Python 3 (ipykernel)",
   "language": "python",
   "name": "python3"
  },
  "language_info": {
   "codemirror_mode": {
    "name": "ipython",
    "version": 3
   },
   "file_extension": ".py",
   "mimetype": "text/x-python",
   "name": "python",
   "nbconvert_exporter": "python",
   "pygments_lexer": "ipython3",
   "version": "3.9.12"
  }
 },
 "nbformat": 4,
 "nbformat_minor": 5
}
