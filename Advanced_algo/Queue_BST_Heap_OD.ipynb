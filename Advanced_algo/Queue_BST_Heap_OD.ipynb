{
 "cells": [
  {
   "cell_type": "markdown",
   "id": "1d7b6a8e",
   "metadata": {
    "id": "1d7b6a8e"
   },
   "source": [
    "### Queue"
   ]
  },
  {
   "cell_type": "code",
   "execution_count": 1,
   "id": "871d8601",
   "metadata": {
    "colab": {
     "base_uri": "https://localhost:8080/"
    },
    "executionInfo": {
     "elapsed": 5,
     "status": "ok",
     "timestamp": 1665065012942,
     "user": {
      "displayName": "Bob Chao",
      "userId": "08828877485375293673"
     },
     "user_tz": -480
    },
    "id": "871d8601",
    "outputId": "a84b901b-f047-4def-9bb9-ee7ce22519bd"
   },
   "outputs": [
    {
     "name": "stdout",
     "output_type": "stream",
     "text": [
      "3\n",
      "deque([1, 2, 3, 5])\n",
      "deque([6, 1, 2, 3, 5])\n",
      "5 deque([6, 1, 2, 3])\n",
      "6 deque([1, 2, 3])\n"
     ]
    }
   ],
   "source": [
    "from queue import deque # from collections import deque # both are the same\n",
    "\n",
    "Q = deque([1,2,3])\n",
    "print( len(Q) )\n",
    "\n",
    "Q.append(5)\n",
    "print( Q )\n",
    "\n",
    "Q.appendleft(6) # not used for normal Q\n",
    "print( Q )\n",
    "\n",
    "x = Q.pop() # not used for normal Q\n",
    "print(x, Q)\n",
    "\n",
    "x = Q.popleft()\n",
    "print(x, Q)"
   ]
  },
  {
   "cell_type": "code",
   "execution_count": 2,
   "id": "b1baf54c",
   "metadata": {
    "id": "b1baf54c",
    "outputId": "43f1653e-830d-41bc-ce15-76f16a739b91"
   },
   "outputs": [
    {
     "name": "stdout",
     "output_type": "stream",
     "text": [
      "failed becuase is empty\n",
      "failed because is full\n",
      "failed because is full\n",
      "failed because is full\n",
      "2 10 2\n"
     ]
    }
   ],
   "source": [
    "# Queue: implemented by circular array\n",
    "# tail (append) and head (popleft) are same index initially -> empty: t==h; len=(h-t)%size; full: (h+1)%size==t # head always empty\n",
    "class Queue:\n",
    "    def __init__(self, size=8):\n",
    "        self.L = [0]*size\n",
    "        self.t = 0\n",
    "        self.h = 0\n",
    "    \n",
    "    def __len__(self):\n",
    "        return (self.h-self.t) % len(self.L)\n",
    "    \n",
    "    def append(self, x):\n",
    "        if (self.h+1) % len(self.L) == self.t:\n",
    "            print(\"failed because is full\")\n",
    "        else:\n",
    "            self.L[self.h] = x\n",
    "            self.h = (self.h+1) % len(self.L)\n",
    "    \n",
    "    def popleft(self):\n",
    "        if self.t==self.h:\n",
    "            print(\"failed becuase is empty\")\n",
    "        else:\n",
    "            x = self.L[self.t]\n",
    "            self.t = (self.t+1) % len(self.L)\n",
    "            return x\n",
    "        \n",
    "    def head(self):\n",
    "        return self.L[ (self.h-1) % len(self.L) ]\n",
    "    \n",
    "    def tail(self):\n",
    "        return self.L[self.t]\n",
    "        \n",
    "Q = Queue(4)\n",
    "Q.popleft() # fail\n",
    "Q.append(0)\n",
    "Q.append(1)\n",
    "Q.append(2)\n",
    "Q.append(3) # fail\n",
    "Q.append(4) # fail\n",
    "Q.popleft() # remove 0\n",
    "Q.append(10)\n",
    "Q.append(11) # fail\n",
    "Q.popleft() # remove 1\n",
    "print( len(Q), Q.head(), Q.tail() ) # 2, 10, 2"
   ]
  },
  {
   "cell_type": "markdown",
   "id": "ace3cf7b",
   "metadata": {
    "id": "ace3cf7b"
   },
   "source": [
    "### Tree"
   ]
  },
  {
   "cell_type": "code",
   "execution_count": 3,
   "id": "18a8de74",
   "metadata": {
    "id": "18a8de74",
    "outputId": "01b87e40-f234-4f84-e127-1b331dda9a35"
   },
   "outputs": [
    {
     "name": "stdout",
     "output_type": "stream",
     "text": [
      "3\n",
      "[[0], [1, 2], [3, 4, 5, 6]]\n",
      "[0, 1, 3, 4, 2, 5, 6]\n",
      "[3, 1, 4, 0, 5, 2, 6]\n",
      "[3, 4, 1, 5, 6, 2, 0]\n",
      "----------\n",
      "[[0], [1, 2], [3, 4, 5, 6], [7, 8, 9, 10, 11, 12, 13, 14]]\n"
     ]
    }
   ],
   "source": [
    "class Tree:\n",
    "    def __init__(self, val=0, left=None, right=None):\n",
    "        self.val, self.left, self.right = val, left, right\n",
    "        \n",
    "#     def height(self): # ugly due to the isLeaf-check that prevent from \"none has no attribute height\"\n",
    "#         if self:\n",
    "#             return 1 + max( self.left.height() if self.left else 0, self.right.height() if self.right else 0 )\n",
    "#         else:\n",
    "#             return 0\n",
    "    \n",
    "    def height(self):\n",
    "        def f(T):\n",
    "            return 1 + max( f(T.left), f(T.right) ) if T else 0\n",
    "        return f(self)\n",
    "    \n",
    "    def vis(self):\n",
    "        H = self.height()\n",
    "        L = [ [-1]*2**i for i in range(H) ]\n",
    "        def f(T, level=0, levelIdx=0):\n",
    "            if T:\n",
    "                L[level][levelIdx] = T.val\n",
    "                f(T.left , level+1, 2*levelIdx)\n",
    "                f(T.right, level+1, 2*levelIdx+1)\n",
    "        f(self)\n",
    "        return L\n",
    "    \n",
    "    def dlr(self):\n",
    "        f = lambda T: [T.val] + f(T.left) + f(T.right) if T else []\n",
    "        return f(self)\n",
    "    \n",
    "    def ldr(self):\n",
    "        f = lambda T: f(T.left) + [T.val] + f(T.right) if T else []\n",
    "        return f(self)\n",
    "    \n",
    "    def lrd(self):\n",
    "        f = lambda T: f(T.left) + f(T.right) + [T.val] if T else []\n",
    "        return f(self)\n",
    "        \n",
    "def fullExample(h):\n",
    "    T = Tree(0) if h>0 else None\n",
    "    def f(T, i=0):\n",
    "        if 2*i+1 < 2**h-1:\n",
    "            T.left  = Tree(2*i+1)\n",
    "            f(T.left, 2*i+1)\n",
    "            T.right = Tree(2*i+2)\n",
    "            f(T.right, 2*i+2)\n",
    "    f(T)\n",
    "    return T\n",
    "    \n",
    "T = Tree(0, Tree(1, Tree(3), Tree(4)), Tree(2, Tree(5), Tree(6)))\n",
    "print( T.height() )\n",
    "print( T.vis() )\n",
    "print( T.dlr() )\n",
    "print( T.ldr() )\n",
    "print( T.lrd() )\n",
    "\n",
    "print(\"-\"*10)\n",
    "U0 = fullExample(4)\n",
    "print( U0.vis() )"
   ]
  },
  {
   "cell_type": "markdown",
   "id": "9f7e20c3",
   "metadata": {
    "id": "9f7e20c3"
   },
   "source": [
    "### BST"
   ]
  },
  {
   "cell_type": "code",
   "execution_count": 5,
   "id": "54ddd0dd",
   "metadata": {
    "id": "54ddd0dd",
    "outputId": "2fb39e8c-ec5e-4f0c-b6c3-059f255b880a"
   },
   "outputs": [
    {
     "name": "stdout",
     "output_type": "stream",
     "text": [
      "[[3], [1, 2], [3, 4, 5, 6]]\n",
      "[[7], [3, 11], [1, 5, 9, 13], [0, 2, 4, 6, 8, 10, 12, 14]]\n",
      "True True\n",
      "False False\n"
     ]
    }
   ],
   "source": [
    "class BST(Tree):\n",
    "    def __init__(self, val=0, left=None, right=None):\n",
    "        super().__init__(val, left, right)\n",
    "           \n",
    "    def insert(self, x):\n",
    "        def f(T, x): # return tree that has inserted node\n",
    "            if not T:\n",
    "                T = BST(x)\n",
    "            elif x<=T.val:\n",
    "                T.left  = f(T.left, x)\n",
    "            else:\n",
    "                T.right = f(T.right, x)\n",
    "            return T\n",
    "        f(self, x)\n",
    "    \n",
    "    def delete(self, x):\n",
    "        def f(T, x): # return tree that hasn't deleted node # parent pointer is NOT important\n",
    "            if T:\n",
    "                if x==T.val:\n",
    "                    if not T.left: # leaf or right only\n",
    "                        T = T.right\n",
    "                    elif not T.right: # left only\n",
    "                        T = T.left\n",
    "                    else:\n",
    "                        p = T.left # have both left and right -> find max of left subtree\n",
    "                        while p.right:\n",
    "                            p = p.right\n",
    "                        T.val  = p.val\n",
    "                        T.left = f(T.left, p.val)\n",
    "                elif x<T.val:\n",
    "                    T.left  = f(T.left, x)\n",
    "                else:\n",
    "                    T.right = f(T.right, x)\n",
    "                return T\n",
    "        f(self, x)\n",
    "        \n",
    "def fullBSTExample(h):\n",
    "    T = BST( 2**(h-1)-1 ) if h>0 else None\n",
    "    def f(T, l=0, r=2**h-2):\n",
    "        if l<r:\n",
    "            T.left  = BST( (l+T.val-1)//2 )\n",
    "            f(T.left , l, T.val-1)\n",
    "            T.right = BST( (T.val+1+r)//2 )\n",
    "            f(T.right, T.val+1, r)\n",
    "    f(T)\n",
    "    return T\n",
    "\n",
    "def isBST1(T, minv=-float('inf'), maxv=float('inf')):\n",
    "    return (minv<T.val<maxv) and isBST1(T.left, minv, T.val) and isBST1(T.right, T.val, maxv) if T else True\n",
    "\n",
    "def isBST2(T):\n",
    "    ldr = lambda T: ldr(T.left)+[T.val]+ldr(T.right) if T else []\n",
    "    L   = ldr(T)\n",
    "    return sum([ L[i]<L[i+1] for i in range(len(L)-1) ])==len(L)-1\n",
    "        \n",
    "T = BST(3, BST(1, BST(3), BST(4)), BST(2, BST(5), BST(6)))\n",
    "print( T.vis() )\n",
    "U = fullBSTExample(4)\n",
    "print( U.vis() )\n",
    "print( isBST1(U) , isBST1(U) )\n",
    "print( isBST1(U0), isBST2(U0) )"
   ]
  },
  {
   "cell_type": "code",
   "execution_count": 6,
   "id": "8a3895ca",
   "metadata": {
    "id": "8a3895ca",
    "outputId": "eaa7fb12-ed09-4cca-f27a-4ad9ada936a3"
   },
   "outputs": [
    {
     "name": "stdout",
     "output_type": "stream",
     "text": [
      "[[7], [3, 11], [1, 5, 9, 13], [0, 2, 4, 6, 8, 10, 12, 14], [-1, -1, -1, 2.7, -1, 4.5, -1, -1, -1, -1, -1, -1, -1, -1, -1, -1]]\n",
      "[0, 1, 2, 2.7, 3, 4, 4.5, 5, 6, 7, 8, 9, 10, 11, 12, 13, 14]\n",
      "----------\n",
      "[[7], [3, 11], [1, 5, 9, 13], [0, 2, 4, 6, 8, 10, 12, 14], [-1, -1, -1, 2.7, -1, -1, -1, -1, -1, -1, -1, -1, -1, -1, -1, -1]]\n",
      "[[7], [3, 11], [1, 5, 9, 13], [0, 2, 4, 6, 8, 10, 12, 14]]\n",
      "[[7], [3, 11], [1, 5, 9, 13], [0, 2, 4, 6, 8, 10, -1, 14]]\n",
      "[[7], [2, 11], [1, 5, 9, 13], [0, -1, 4, 6, 8, 10, -1, 14]] [0, 1, 2, 4, 5, 6, 7, 8, 9, 10, 11, 13, 14]\n",
      "[[7], [2, 11], [0, 5, 9, 13], [-1, -1, 4, 6, 8, 10, -1, 14]] [0, 2, 4, 5, 6, 7, 8, 9, 10, 11, 13, 14]\n"
     ]
    }
   ],
   "source": [
    "x = U.insert(4.5)\n",
    "x = U.insert(2.7)\n",
    "print( U.vis() )\n",
    "print( U.ldr() )\n",
    "\n",
    "print(\"-\"*10)\n",
    "\n",
    "U.delete(4.5)\n",
    "print( U.vis() )\n",
    "U.delete(2.7)\n",
    "print( U.vis() )\n",
    "U.delete(12)\n",
    "print( U.vis() )\n",
    "U.delete(3)\n",
    "print( U.vis(), U.ldr() )\n",
    "U.delete(1)\n",
    "print( U.vis(), U.ldr() )"
   ]
  },
  {
   "cell_type": "markdown",
   "id": "6118168b",
   "metadata": {
    "id": "302a65b0"
   },
   "source": [
    "### Heap"
   ]
  },
  {
   "cell_type": "code",
   "execution_count": 7,
   "id": "70e6942f",
   "metadata": {},
   "outputs": [
    {
     "name": "stdout",
     "output_type": "stream",
     "text": [
      "True 4 [[0], [1, 2], [3, 4, 5, 6], [7, 8, 9, -1, -1, -1, -1, -1]]\n",
      "True 3 [[1], [7, 4], [9, 14, 5, 6]]\n",
      "False 4 [[1], [7, 4], [9, 14, 5, 6], [6, -1, -1, -1, -1, -1, -1, -1]]\n"
     ]
    }
   ],
   "source": [
    "from math import log, ceil, floor\n",
    "import random\n",
    "\n",
    "# parent2child i->(2*i+1,2*i+2) | child2parent i->(i-1)//2\n",
    "# l-th level: 2^l level nodes | m level nodes at log(m)-th level \n",
    "# h levels: 2^h -1 total nodes | n total nodes: ceil(log(n+1)) levels\n",
    "# i-th node at floor( log(i+1) ) level; i-(2**level-1)-th level idx | l-level j-level-idx: 2^(l-1)+j -th node\n",
    "\n",
    "class Heap(list):   \n",
    "    def height(self):\n",
    "        return ceil( log(len(self)+1)/log(2) )\n",
    "    \n",
    "    def vis(self):\n",
    "        L = [ [-1]*2**i for i in range(self.height()) ]\n",
    "        for i,x in enumerate(self):\n",
    "            level = floor(log(i+1)/log(2))\n",
    "            L[ level ][ i-(2**level-1) ] = x\n",
    "        return L\n",
    "    \n",
    "    def insert(self,x): # overloading\n",
    "        self.append(x)\n",
    "        i = len(self)-1\n",
    "        while i>0 and self[ (i-1)//2 ] > self[i]:\n",
    "            self[ (i-1)//2 ], self[i] = self[i], self[ (i-1)//2 ]\n",
    "            i = (i-1)//2\n",
    "    \n",
    "    def getMin(self):\n",
    "        return self[0]\n",
    "    \n",
    "    def popMin(self):\n",
    "        if len(self)==1:\n",
    "            return self.pop()\n",
    "        elif len(self)>1:\n",
    "            target  = self[0]\n",
    "            self[0] = self.pop()\n",
    "            i = 0\n",
    "            while True:\n",
    "                compareL = [(self[i],\"d\")] + ([(self[2*i+1],\"l\")] if 2*i+1<len(self) else []) \\\n",
    "                    + ([(self[2*i+2],\"r\")] if 2*i+2<len(self) else [])\n",
    "                _, minNode = min(compareL)\n",
    "                if minNode==\"d\":\n",
    "                    break\n",
    "                if minNode==\"l\":\n",
    "                    self[i], self[2*i+1] = self[2*i+1], self[i]\n",
    "                    i = 2*i+1\n",
    "                else:\n",
    "                    self[i], self[2*i+2] = self[2*i+2], self[i]\n",
    "                    i = 2*i+2\n",
    "            return target\n",
    "            \n",
    "def isHeap(H, i=0):\n",
    "    if not H:\n",
    "        return True\n",
    "    else:\n",
    "        l, r, s = i*2+1, i*2+2, len(H)\n",
    "        if l>=s and r>=s:\n",
    "            return True\n",
    "        elif r>=s:\n",
    "            return H[i]<H[l] and isHeap(H,l)\n",
    "        else:\n",
    "            return H[i]<H[l] and H[i]<H[r] and isHeap(H,l) and isHeap(H,r)\n",
    "        \n",
    "def heapSort(n):\n",
    "    R = list(range(n))\n",
    "    random.shuffle(R)\n",
    "    H = Heap()\n",
    "    for ele in R:\n",
    "        H.insert(ele)\n",
    "    return [ H.popMin() for _ in range(len(R)) ]\n",
    "        \n",
    "H0 = Heap(list(range(10)))\n",
    "H1 = Heap([1,7,4,9,14,5,6])\n",
    "H2 = Heap([1,7,4,9,14,5,6,6])\n",
    "print( isHeap(H0), H0.height(), H0.vis() )\n",
    "print( isHeap(H1), H1.height(), H1.vis() )\n",
    "print( isHeap(H2), H2.height(), H2.vis() )"
   ]
  },
  {
   "cell_type": "code",
   "execution_count": 8,
   "id": "493b3751",
   "metadata": {},
   "outputs": [
    {
     "name": "stdout",
     "output_type": "stream",
     "text": [
      "[[1], [7, 4], [8, 14, 5, 6], [9, -1, -1, -1, -1, -1, -1, -1]]\n",
      "[[4], [7, 5], [8, 14, 9, 6]]\n",
      "[0, 1, 2, 3, 4, 5, 6, 7, 8, 9, 10, 11, 12, 13, 14, 15, 16, 17, 18, 19]\n"
     ]
    }
   ],
   "source": [
    "H1.insert(8)\n",
    "print( H1.vis() )\n",
    "H1.popMin()\n",
    "print( H1.vis() )\n",
    "\n",
    "print( heapSort(20) )"
   ]
  },
  {
   "cell_type": "code",
   "execution_count": 2,
   "id": "9e6a047c",
   "metadata": {},
   "outputs": [
    {
     "name": "stdout",
     "output_type": "stream",
     "text": [
      "[1, 1, 2, 3, 5, 9, 4, 6]\n",
      "1\n",
      "[1, 3, 2, 6, 5, 9, 4]\n",
      "[1, 2, 2, 3, 5, 9, 4, 6]\n"
     ]
    }
   ],
   "source": [
    "import heapq\n",
    "H = [3,1,4,1,5,9,2,6]\n",
    "heapq.heapify(H) # O(n)\n",
    "print(H)\n",
    "print(heapq.heappop(H))\n",
    "print(H)\n",
    "heapq.heappush(H, 2)\n",
    "print(H)"
   ]
  },
  {
   "cell_type": "markdown",
   "id": "35f872a7",
   "metadata": {},
   "source": [
    "### OrderedDict"
   ]
  },
  {
   "cell_type": "code",
   "execution_count": 60,
   "id": "699cb868",
   "metadata": {},
   "outputs": [
    {
     "name": "stdout",
     "output_type": "stream",
     "text": [
      "('c', 3)\n",
      "1\n",
      "{'b': 2}\n",
      "{'b': 10, 'd': 5}\n"
     ]
    }
   ],
   "source": [
    "# Review dict more\n",
    "D = {\"a\":1, \"b\":2, \"c\":3}\n",
    "print( D.popitem() )  # similar to list.pop() and set.pop()\n",
    "print( D.pop(\"a\") ) # similar to list.remove(x) and set.remove(x) and del D[x] (return is trivial) # not recommended due to confusion\n",
    "print( D )\n",
    "D.update({\"d\":5,\"b\":10}) # merge dict # same as D={**D,**E} # similar to set.update(set) and set.union(set) \n",
    "print(D)\n",
    "# D.pop(\"a\", 1) -> pop D['a'] if 'a' in D else 1\n",
    "# D.get(\"a\", 1) -> D['a'] if 'a' in D else 1\n",
    "# Ordered dict is inherit from dict\n",
    "# Ordered dict application: LRU cache\n",
    "# Ordered dict is made by dict and Doubly Linked List"
   ]
  },
  {
   "cell_type": "code",
   "execution_count": 61,
   "id": "1e7cfe0a",
   "metadata": {},
   "outputs": [],
   "source": [
    "from collections import OrderedDict"
   ]
  },
  {
   "cell_type": "code",
   "execution_count": 62,
   "id": "373bf3d2",
   "metadata": {},
   "outputs": [
    {
     "name": "stdout",
     "output_type": "stream",
     "text": [
      "OrderedDict([('apple', 30), ('banana', 10), ('guava', 20)]) 3 odict_keys(['apple', 'banana', 'guava']) odict_values([30, 10, 20]) odict_items([('apple', 30), ('banana', 10), ('guava', 20)])\n",
      "OrderedDict([('apple', 30), ('guava', 20)])\n"
     ]
    }
   ],
   "source": [
    "O = OrderedDict() # same type as dict.items()\n",
    "O['apple']  = 30\n",
    "O['banana'] = 10\n",
    "O['guava'] = 20\n",
    "print(O, len(O), O.keys(), O.values(), O.items())\n",
    "del O['banana']\n",
    "print(O)"
   ]
  },
  {
   "cell_type": "code",
   "execution_count": 63,
   "id": "004c82ee",
   "metadata": {},
   "outputs": [
    {
     "name": "stdout",
     "output_type": "stream",
     "text": [
      "OrderedDict([('a', 1), ('b', 3)])\n",
      "OrderedDict([('b', 3)])\n"
     ]
    }
   ],
   "source": [
    "O = OrderedDict({\"a\":1, \"b\":3, \"c\":2})\n",
    "O.popitem() # pop last\n",
    "print(O)\n",
    "O.popitem(last=False) # pop front\n",
    "print(O)"
   ]
  },
  {
   "cell_type": "code",
   "execution_count": null,
   "id": "02478fa0",
   "metadata": {},
   "outputs": [],
   "source": []
  }
 ],
 "metadata": {
  "colab": {
   "provenance": []
  },
  "kernelspec": {
   "display_name": "Python 3 (ipykernel)",
   "language": "python",
   "name": "python3"
  },
  "language_info": {
   "codemirror_mode": {
    "name": "ipython",
    "version": 3
   },
   "file_extension": ".py",
   "mimetype": "text/x-python",
   "name": "python",
   "nbconvert_exporter": "python",
   "pygments_lexer": "ipython3",
   "version": "3.9.12"
  }
 },
 "nbformat": 4,
 "nbformat_minor": 5
}
