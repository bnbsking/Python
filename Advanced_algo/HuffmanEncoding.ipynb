{
 "cells": [
  {
   "cell_type": "code",
   "execution_count": 1,
   "id": "13d947e0",
   "metadata": {},
   "outputs": [],
   "source": [
    "import heapq\n",
    "\n",
    "class TreeNode:\n",
    "    def __init__(self, val, left=None, right=None, char=None): # only leaves have char \n",
    "        self.val, self.left, self.right, self.char = val, left, right, char"
   ]
  },
  {
   "cell_type": "code",
   "execution_count": 27,
   "id": "a5dde664",
   "metadata": {},
   "outputs": [
    {
     "name": "stdout",
     "output_type": "stream",
     "text": [
      "self.countD={'f': 45, 'a': 5, 'b': 9, 'e': 16, 'c': 12, 'd': 13}\n",
      "{'f': '0', 'c': '100', 'd': '101', 'a': '1100', 'b': '1101', 'e': '111'}\n",
      "00110001101111100110111001010000111011010001110000110010110001111000101101111101110110011010111111100111111010000101010111010101010101101011111110111111111001000110111100000011000000111001011001001000001001101010111110110000\n",
      "True\n"
     ]
    }
   ],
   "source": [
    "class HuffmanEncoding:\n",
    "    def __init__(self, article):\n",
    "        self.countD = {}\n",
    "        for c in article:\n",
    "            self.countD[c] = self.countD[c]+1 if c in self.countD else 1\n",
    "        print(f\"self.countD={self.countD}\")\n",
    "\n",
    "    def buildTree(self):\n",
    "        if len(self.countD)==1:\n",
    "            c, f = list(self.countD.items())[0]\n",
    "            return TreeNode(f, TreeNode(f,char=c), {c:0})\n",
    "        H = [] # heap\n",
    "        for char,val in self.countD.items(): # Initialize nodes\n",
    "            heapq.heappush( H, (val,TreeNode(val,char=char)) )\n",
    "        \n",
    "        while len(H)>1: # Create Huffman tree\n",
    "            _, t1 = heapq.heappop(H)\n",
    "            _, t2 = heapq.heappop(H)\n",
    "            tm = TreeNode( t1.val+t2.val, t1, t2 )\n",
    "            heapq.heappush( H, (tm.val,tm) )\n",
    "        self.HuffmanTree = H[0][1]\n",
    "        \n",
    "        self.encodeD = {} # create encodeD\n",
    "        def dfs(T=HuffmanTree, path=\"\"):\n",
    "            if not T.left and not T.right:\n",
    "                self.encodeD[T.char] = path\n",
    "            else:\n",
    "                dfs(T.left, path+\"0\") if T.left else None\n",
    "                dfs(T.right, path+\"1\") if T.right else None\n",
    "        dfs()\n",
    "        \n",
    "    def encode(self, s): # encode use encodeD\n",
    "        ans = \"\"\n",
    "        for char in s:\n",
    "            ans+=self.encodeD[char]\n",
    "        return ans\n",
    "    \n",
    "    def decode(self, s): # decode use HuffmanTree\n",
    "        ans, T = \"\", self.HuffmanTree\n",
    "        for c in s:\n",
    "            T = T.left if c==\"0\" else T.right\n",
    "            if not T.left and not T.right:\n",
    "                ans+=T.char\n",
    "                T = self.HuffmanTree\n",
    "        return ans\n",
    "    \n",
    "article = 'ffafbecbadffffefbfffeffffadcfecfddedbcbfeeceefcffdfdbfdfdfbfeedeeacfbeffffffaffffeffdcccfffcbfdedcff'\n",
    "obj = HuffmanEncoding(article)\n",
    "obj.buildTree()\n",
    "print( obj.encodeD )\n",
    "print( obj.encode(article) )\n",
    "print( obj.decode(obj.encode(article))==article )"
   ]
  },
  {
   "cell_type": "code",
   "execution_count": 22,
   "id": "92384004",
   "metadata": {},
   "outputs": [
    {
     "name": "stdout",
     "output_type": "stream",
     "text": [
      "[100, 45, 55, 25, 12, 13, 30, 14, 5, 9, 16] [45, 100, 12, 25, 13, 55, 5, 14, 9, 30, 16]\n"
     ]
    }
   ],
   "source": [
    "\"\"\"\n",
    "evaluation\n",
    "                 100\n",
    "       45f                  55\n",
    "                     25            30\n",
    "                  12c   13d     14    16e\n",
    "                               5a 9b\n",
    "\"\"\"\n",
    "dlr = lambda T: [T.val]+dlr(T.left)+dlr(T.right) if T else []\n",
    "ldr = lambda T: ldr(T.left)+[T.val]+ldr(T.right) if T else []\n",
    "print( dlr(obj.HuffmanTree), ldr(obj.HuffmanTree) )"
   ]
  },
  {
   "cell_type": "code",
   "execution_count": null,
   "id": "91822fc6",
   "metadata": {},
   "outputs": [],
   "source": []
  }
 ],
 "metadata": {
  "kernelspec": {
   "display_name": "Python 3 (ipykernel)",
   "language": "python",
   "name": "python3"
  },
  "language_info": {
   "codemirror_mode": {
    "name": "ipython",
    "version": 3
   },
   "file_extension": ".py",
   "mimetype": "text/x-python",
   "name": "python",
   "nbconvert_exporter": "python",
   "pygments_lexer": "ipython3",
   "version": "3.9.12"
  }
 },
 "nbformat": 4,
 "nbformat_minor": 5
}
