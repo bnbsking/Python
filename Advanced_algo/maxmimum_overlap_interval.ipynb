{
 "cells": [
  {
   "cell_type": "code",
   "execution_count": 5,
   "metadata": {},
   "outputs": [],
   "source": [
    "import sqlite3\n",
    "import pandas as pd"
   ]
  },
  {
   "cell_type": "code",
   "execution_count": 2,
   "metadata": {},
   "outputs": [],
   "source": [
    "connect = sqlite3.connect(\"a.db\")\n",
    "cursor = connect.cursor()"
   ]
  },
  {
   "cell_type": "code",
   "execution_count": 3,
   "metadata": {},
   "outputs": [],
   "source": [
    "cursor.execute(\"create table meetings(start_time varchar, end_time varchar)\")\n",
    "cursor.execute(\"insert into meetings values('08:00', '09:15')\")\n",
    "cursor.execute(\"insert into meetings values('13:20', '15:20')\")\n",
    "cursor.execute(\"insert into meetings values('10:00', '14:00')\")\n",
    "cursor.execute(\"insert into meetings values('13:55', '16:25')\")\n",
    "cursor.execute(\"insert into meetings values('14:00', '17:45')\")\n",
    "cursor.execute(\"insert into meetings values('14:05', '17:45')\")\n",
    "connect.commit()"
   ]
  },
  {
   "cell_type": "code",
   "execution_count": 11,
   "metadata": {},
   "outputs": [],
   "source": [
    "def f(sql_command, connect=connect):\n",
    "    df = pd.read_sql(sql_command, connect)\n",
    "    print(df)"
   ]
  },
  {
   "cell_type": "code",
   "execution_count": 14,
   "metadata": {},
   "outputs": [
    {
     "name": "stdout",
     "output_type": "stream",
     "text": [
      "  start_time end_time\n",
      "0      08:00    09:15\n",
      "1      13:20    15:20\n",
      "2      10:00    14:00\n",
      "3      13:55    16:25\n",
      "4      14:00    17:45\n",
      "5      14:05    17:45\n"
     ]
    }
   ],
   "source": [
    "f(\"select * from meetings\")"
   ]
  },
  {
   "cell_type": "code",
   "execution_count": 28,
   "metadata": {},
   "outputs": [
    {
     "name": "stdout",
     "output_type": "stream",
     "text": [
      "   time_point  enter_exit\n",
      "0       08:00           1\n",
      "1       09:15          -1\n",
      "2       10:00           1\n",
      "3       13:20           1\n",
      "4       13:55           1\n",
      "5       14:00           1\n",
      "6       14:00          -1\n",
      "7       14:05           1\n",
      "8       15:20          -1\n",
      "9       16:25          -1\n",
      "10      17:45          -1\n",
      "11      17:45          -1\n"
     ]
    }
   ],
   "source": [
    "f(\"\"\"\n",
    "SELECT start_time AS time_point, 1 AS enter_exit\n",
    "FROM meetings\n",
    "UNION ALL\n",
    "SELECT end_time AS time_point, -1 AS enter_exit\n",
    "FROM meetings\n",
    "ORDER BY time_point\n",
    "\"\"\")"
   ]
  },
  {
   "cell_type": "code",
   "execution_count": 43,
   "metadata": {},
   "outputs": [
    {
     "name": "stdout",
     "output_type": "stream",
     "text": [
      "    enter_exit  cumulative_sum\n",
      "0            1               0\n",
      "1           -1               0\n",
      "2            1               0\n",
      "3            1               0\n",
      "4            1               0\n",
      "5            1               0\n",
      "6           -1               0\n",
      "7            1               0\n",
      "8           -1               0\n",
      "9           -1               0\n",
      "10          -1               0\n",
      "11          -1               0\n"
     ]
    }
   ],
   "source": [
    "f(\"\"\"\n",
    "SELECT enter_exit,SUM(enter_exit) OVER (ORDER BY (SELECT NULL)) AS cumulative_sum FROM(\n",
    "    SELECT start_time AS time_point, 1 AS enter_exit\n",
    "    FROM meetings\n",
    "    UNION ALL\n",
    "    SELECT end_time AS time_point, -1 AS enter_exit\n",
    "    FROM meetings\n",
    "    ORDER BY time_point\n",
    ")\n",
    "\"\"\")"
   ]
  },
  {
   "cell_type": "code",
   "execution_count": 52,
   "metadata": {},
   "outputs": [
    {
     "name": "stdout",
     "output_type": "stream",
     "text": [
      "   rooms\n",
      "0      4\n"
     ]
    }
   ],
   "source": [
    "f(\"\"\"\n",
    "SELECT MAX(Cumulative) as rooms FROM(\n",
    "    SELECT enter_exit,SUM(enter_exit) OVER (ORDER BY idx) as Cumulative FROM(\n",
    "        SELECT ROW_NUMBER() OVER(ORDER BY (SELECT NULL)) AS idx, enter_exit FROM(\n",
    "            SELECT start_time AS time_point, 1 AS enter_exit\n",
    "            FROM meetings\n",
    "            UNION ALL\n",
    "            SELECT end_time AS time_point, -1 AS enter_exit\n",
    "            FROM meetings\n",
    "            ORDER BY time_point\n",
    "        )\n",
    "    )\n",
    ")\n",
    "\"\"\")"
   ]
  },
  {
   "cell_type": "code",
   "execution_count": null,
   "metadata": {},
   "outputs": [],
   "source": []
  },
  {
   "cell_type": "code",
   "execution_count": 16,
   "metadata": {},
   "outputs": [
    {
     "name": "stdout",
     "output_type": "stream",
     "text": [
      "   max_overlap\n",
      "0           10\n"
     ]
    }
   ],
   "source": [
    "# CHATGPT solution\n",
    "s = \"\"\"\n",
    "SELECT COUNT(*) AS max_overlap\n",
    "FROM (\n",
    "    SELECT time_point, \n",
    "           SUM(enter_exit) AS active_intervals\n",
    "    FROM (\n",
    "        SELECT start_time AS time_point, 1 AS enter_exit\n",
    "        FROM meetings\n",
    "        UNION ALL\n",
    "        SELECT end_time AS time_point, -1 AS enter_exit\n",
    "        FROM meetings\n",
    "    ) AS time_events\n",
    "    GROUP BY time_point\n",
    "    ORDER BY time_point\n",
    ") AS overlap_count;\n",
    "\"\"\"\n",
    "\n",
    "f(s)"
   ]
  },
  {
   "cell_type": "code",
   "execution_count": 22,
   "metadata": {},
   "outputs": [
    {
     "name": "stdout",
     "output_type": "stream",
     "text": [
      "[(-2, 1), (1, 1), (2, 1), (2, 1), (3, 1), (4, 1), (5, -1), (6, 1), (6, -1), (7, -1), (8, -1), (9, -1), (10, -1), (10, -1)]\n",
      "(1, 1), (2, 2), (3, 3), (4, 4), (5, 5), (6, 6), (5, 6), (6, 6), (5, 6), (4, 6), (3, 6), (2, 6), (1, 6), (0, 6), Number of maximum overlapped intervals: 6\n"
     ]
    }
   ],
   "source": [
    "# CHATGPT solution\n",
    "def max_overlapping_intervals(intervals):\n",
    "    events = []\n",
    "    for start, end in intervals:\n",
    "        events.append((start, 1))  # 1 indicates a start event\n",
    "        events.append((end, -1))   # -1 indicates an end event\n",
    "\n",
    "    events.sort(key=lambda x: (x[0], -x[1]))  # Sort events by position and type\n",
    "    print(events)\n",
    "\n",
    "    max_overlap = 0\n",
    "    current_overlap = 0\n",
    "    for _, event_type in events:\n",
    "        current_overlap += event_type\n",
    "        max_overlap = max(max_overlap, current_overlap)\n",
    "        print((current_overlap, max_overlap), end=\", \")\n",
    "\n",
    "    return max_overlap\n",
    "\n",
    "# Example usage\n",
    "intervals = [(1, 5), (2, 6), (3, 7), (4, 8), (6,9), (2,10), (-2,10)]\n",
    "result = max_overlapping_intervals(intervals)\n",
    "print(\"Number of maximum overlapped intervals:\", result)"
   ]
  },
  {
   "cell_type": "code",
   "execution_count": null,
   "metadata": {},
   "outputs": [],
   "source": []
  }
 ],
 "metadata": {
  "kernelspec": {
   "display_name": "test",
   "language": "python",
   "name": "python3"
  },
  "language_info": {
   "codemirror_mode": {
    "name": "ipython",
    "version": 3
   },
   "file_extension": ".py",
   "mimetype": "text/x-python",
   "name": "python",
   "nbconvert_exporter": "python",
   "pygments_lexer": "ipython3",
   "version": "3.8.16"
  },
  "orig_nbformat": 4,
  "vscode": {
   "interpreter": {
    "hash": "4de884d891615765edd271cb3c15e2a75ba9303f259ba1474785180bf9788ba0"
   }
  }
 },
 "nbformat": 4,
 "nbformat_minor": 2
}
