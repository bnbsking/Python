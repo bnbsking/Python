{
 "cells": [
  {
   "cell_type": "code",
   "execution_count": 31,
   "id": "694fc0f3",
   "metadata": {},
   "outputs": [
    {
     "name": "stdout",
     "output_type": "stream",
     "text": [
      "[0, 15, 15, 11, 4]\n",
      "['a', 'p', 'p', 'l', 'e']\n"
     ]
    }
   ],
   "source": [
    "# char to int\n",
    "word = \"apple\"\n",
    "print( [ ord(s)-ord(\"a\") for s in word ] )\n",
    "\n",
    "# int to char\n",
    "L = [0, 15, 15, 11, 4]\n",
    "print( [ chr(x+ord(\"a\")) for x in L ] )"
   ]
  },
  {
   "cell_type": "code",
   "execution_count": 32,
   "id": "ffbc5c4f",
   "metadata": {},
   "outputs": [
    {
     "name": "stdout",
     "output_type": "stream",
     "text": [
      "can    repeat: 01C019C6C1\n",
      "cannot repeat: BD0A8EF246\n"
     ]
    }
   ],
   "source": [
    "# random\n",
    "import random\n",
    "L = [\"0\",\"1\",\"2\",\"3\",\"4\",\"5\",\"6\",\"7\",\"8\",\"9\",\"A\",\"B\",\"C\",\"D\",\"E\",\"F\"]\n",
    "print(\"can    repeat:\", \" \".join( random.choice(L) for i in range(10) ).replace(\" \",\"\") )\n",
    "print(\"cannot repeat:\", \" \".join( random.sample(L,10) ).replace(\" \",\"\") )"
   ]
  },
  {
   "cell_type": "code",
   "execution_count": 41,
   "id": "e182149d",
   "metadata": {},
   "outputs": [
    {
     "name": "stdout",
     "output_type": "stream",
     "text": [
      "{'0': 0, '1': 1, '2': 2, '3': 3, '4': 4, '5': 5, '6': 6, '7': 7, '8': 8, '9': 9, 'A': 10, 'B': 11, 'C': 12, 'D': 13, 'E': 14, 'F': 15}\n",
      "{0: '0', 1: '1', 2: '2', 3: '3', 4: '4', 5: '5', 6: '6', 7: '7', 8: '8', 9: '9', 10: 'A', 11: 'B', 12: 'C', 13: 'D', 14: 'E', 15: 'F'}\n"
     ]
    }
   ],
   "source": [
    "# hex dict\n",
    "hex2int = { **{str(i):i for i in range(10)}, **{chr(i+ord(\"A\")):10+i for i in range(6)} }\n",
    "print(hex2int)\n",
    "int2hex = { i: str(i) if i<10 else chr(i-10+ord(\"A\")) for i in range(16) }\n",
    "print(int2hex)"
   ]
  },
  {
   "cell_type": "code",
   "execution_count": 58,
   "id": "b3920b22",
   "metadata": {},
   "outputs": [
    {
     "name": "stdout",
     "output_type": "stream",
     "text": [
      "64C 1612 0x64c\n",
      "1612\n",
      "64C\n"
     ]
    }
   ],
   "source": [
    "hexStr = \" \".join( random.choice(L) for i in range(3) ).replace(\" \",\"\")\n",
    "print( hexStr, int(hexStr,16), hex(int(hexStr,16)) )\n",
    "\n",
    "# hexStr to int\n",
    "val = 0\n",
    "for i,c in enumerate(hexStr[::-1]):\n",
    "    val += hex2int[c] * 16**i\n",
    "print(val)\n",
    "\n",
    "# int to hexStr\n",
    "s = \"\"\n",
    "while val>0:\n",
    "    r   = int(val%16)\n",
    "    s   = int2hex[r] + s\n",
    "    val = (val-r)/16\n",
    "print(s)"
   ]
  },
  {
   "cell_type": "code",
   "execution_count": 59,
   "id": "953b5db0",
   "metadata": {},
   "outputs": [
    {
     "name": "stdout",
     "output_type": "stream",
     "text": [
      "11001 25 0b11001\n",
      "25\n",
      "11001\n"
     ]
    }
   ],
   "source": [
    "binStr = \" \".join( random.choice([\"0\",\"1\"]) for i in range(5) ).replace(\" \",\"\")\n",
    "print( binStr, int(binStr,2), bin(int(binStr,2)) )\n",
    "\n",
    "# binStr to int\n",
    "val = 0\n",
    "for i,c in enumerate(binStr[::-1]):\n",
    "    val+=int(c)*2**i\n",
    "print(val)\n",
    "\n",
    "# int to binStr\n",
    "s = \"\"\n",
    "while val>0:\n",
    "    r = int(val%2)\n",
    "    s = str(r) + s\n",
    "    val = (val-r)/2\n",
    "print(s)"
   ]
  },
  {
   "cell_type": "code",
   "execution_count": null,
   "id": "e30f82d0",
   "metadata": {},
   "outputs": [],
   "source": []
  },
  {
   "cell_type": "code",
   "execution_count": 60,
   "id": "ae93479c",
   "metadata": {},
   "outputs": [
    {
     "data": {
      "text/plain": [
       "(701, 701)"
      ]
     },
     "execution_count": 60,
     "metadata": {},
     "output_type": "execute_result"
    }
   ],
   "source": [
    "# shift index # Leetcode 171. Excel Sheet Column Number\n",
    "def f(columnTitle=\"ZY\"):\n",
    "    ans = 0\n",
    "    for i,c in enumerate(columnTitle[::-1]):\n",
    "        ans += (ord(c)-ord(\"A\")+1) * 26**i\n",
    "    return ans\n",
    "f(), 701"
   ]
  },
  {
   "cell_type": "code",
   "execution_count": 62,
   "id": "19b4ef8d",
   "metadata": {},
   "outputs": [
    {
     "data": {
      "text/plain": [
       "('ZY', 'ZY')"
      ]
     },
     "execution_count": 62,
     "metadata": {},
     "output_type": "execute_result"
    }
   ],
   "source": [
    "# shift index reverse # Leetcode 168. Excel Sheet Column Title\n",
    "def f(columnNumber=701):\n",
    "    # e.g. ZY = 26*26**1+ 25*26**0 = (1+26-1)*26**1 + (1+25-1)*26**0 = (1+Z_25)*26+(1+Y_24) = 701\n",
    "    ans = \"\"\n",
    "    while columnNumber>0:\n",
    "        columnNumber -= 1\n",
    "        r = int(columnNumber%26)\n",
    "        ans = chr(r+ord(\"A\")) + ans\n",
    "        columnNumber = (columnNumber-r) / 26\n",
    "    return ans\n",
    "f(), \"ZY\""
   ]
  },
  {
   "cell_type": "code",
   "execution_count": null,
   "id": "b352d92b",
   "metadata": {},
   "outputs": [],
   "source": []
  }
 ],
 "metadata": {
  "kernelspec": {
   "display_name": "Python 3 (ipykernel)",
   "language": "python",
   "name": "python3"
  },
  "language_info": {
   "codemirror_mode": {
    "name": "ipython",
    "version": 3
   },
   "file_extension": ".py",
   "mimetype": "text/x-python",
   "name": "python",
   "nbconvert_exporter": "python",
   "pygments_lexer": "ipython3",
   "version": "3.9.12"
  }
 },
 "nbformat": 4,
 "nbformat_minor": 5
}
