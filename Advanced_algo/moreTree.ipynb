{
 "cells": [
  {
   "cell_type": "markdown",
   "id": "b2d4c6c2",
   "metadata": {},
   "source": [
    "Trie\n",
    "+ Leetcode 208. Implement Trie (Prefix Tree)\n",
    "+ Leetcode 211. Design Add and Search Words Data Structure"
   ]
  },
  {
   "cell_type": "code",
   "execution_count": 2,
   "id": "027dbe41",
   "metadata": {},
   "outputs": [
    {
     "name": "stdout",
     "output_type": "stream",
     "text": [
      "True\n",
      "False\n",
      "True\n",
      "True\n"
     ]
    }
   ],
   "source": [
    "class Node:\n",
    "    def __init__(self, val=None, children={}):\n",
    "        self.val = val\n",
    "        self.children = children # val -> Node\n",
    "\n",
    "class Trie(object):\n",
    "    def __init__(self):\n",
    "        self.T = Node(None, {})\n",
    "\n",
    "    def insert(self, word): # str -> None\n",
    "        # start-with search\n",
    "        i, p = 0, self.T\n",
    "        while i<len(word) and word[i] in p.children:\n",
    "            p = p.children[word[i]]\n",
    "            i+=1\n",
    "        # insert node\n",
    "        while i<len(word):\n",
    "            p.children[word[i]] = Node(word[i], {})\n",
    "            p = p.children[word[i]]\n",
    "            i+=1\n",
    "        p.children[\"end\"] = None # end\n",
    "\n",
    "    def search(self, word): # str -> bool\n",
    "        p = self.T\n",
    "        for c in word:\n",
    "            if c not in p.children:\n",
    "                return False\n",
    "            p = p.children[c]\n",
    "        return \"end\" in p.children # end check\n",
    "\n",
    "    def startsWith(self, prefix): # str -> bool # very similar to the above\n",
    "        p = self.T\n",
    "        for c in prefix:\n",
    "            if c not in p.children:\n",
    "                return False\n",
    "            p = p.children[c]\n",
    "        return True # no end check\n",
    "\n",
    "obj = Trie()\n",
    "obj.insert(\"apple\")\n",
    "print( obj.search(\"apple\") )\n",
    "print( obj.search(\"app\") )\n",
    "print( obj.startsWith(\"app\") )\n",
    "obj.insert(\"app\")\n",
    "print( obj.search(\"app\") )"
   ]
  },
  {
   "cell_type": "code",
   "execution_count": null,
   "id": "0d216f7a",
   "metadata": {},
   "outputs": [],
   "source": []
  }
 ],
 "metadata": {
  "colab": {
   "provenance": []
  },
  "kernelspec": {
   "display_name": "Python 3 (ipykernel)",
   "language": "python",
   "name": "python3"
  },
  "language_info": {
   "codemirror_mode": {
    "name": "ipython",
    "version": 3
   },
   "file_extension": ".py",
   "mimetype": "text/x-python",
   "name": "python",
   "nbconvert_exporter": "python",
   "pygments_lexer": "ipython3",
   "version": "3.9.12"
  }
 },
 "nbformat": 4,
 "nbformat_minor": 5
}
