{
 "cells": [
  {
   "cell_type": "markdown",
   "id": "clinical-volume",
   "metadata": {},
   "source": [
    "| | Process | Threading |\n",
    "| - | - | - |\n",
    "| Definition | Instance of a program | Execution of a process |\n",
    "| OS | Unit of source distribution\\nContext switching, PID | Unit of execution |\n",
    "| Shared memory | X | O |\n",
    "| True parallel | O | X |\n",
    "| Python lib | subprocess | threading |\n",
    "| Python feature | Good at both CPU-bound and I/O-bound, but use more memory | Good at I/O bound |"
   ]
  },
  {
   "cell_type": "code",
   "execution_count": 4,
   "id": "moved-reference",
   "metadata": {},
   "outputs": [
    {
     "name": "stdout",
     "output_type": "stream",
     "text": [
      "5\n"
     ]
    }
   ],
   "source": [
    "import subprocess # new version of os.system / os.popen()\n",
    "\n",
    "subprocess.call([\"ls\", \"-l\"])\n",
    "subprocess.call('sleep 5', shell=True) # non-parallel, no output\n",
    "print(5)"
   ]
  },
  {
   "cell_type": "code",
   "execution_count": 2,
   "id": "hollow-hotel",
   "metadata": {},
   "outputs": [
    {
     "name": "stdout",
     "output_type": "stream",
     "text": [
      "5\n"
     ]
    }
   ],
   "source": [
    "p = subprocess.Popen('sleep 5 && touch a.txt', shell=True) # parallel, no output\n",
    "# p.wait()\n",
    "print(5)"
   ]
  },
  {
   "cell_type": "code",
   "execution_count": 3,
   "id": "balanced-detection",
   "metadata": {},
   "outputs": [
    {
     "name": "stdout",
     "output_type": "stream",
     "text": [
      "b'a.txt\\nb.txt\\ngit\\nlosses.ipynb\\nparallel.ipynb\\npractice\\n' 5\n"
     ]
    }
   ],
   "source": [
    "r = subprocess.check_output('sleep 5 && ls', shell=True) # non-parallel # has output # str(.)[2:-1].split('\\\\n')\n",
    "print(r, 5)"
   ]
  },
  {
   "cell_type": "code",
   "execution_count": null,
   "id": "minimal-clerk",
   "metadata": {},
   "outputs": [],
   "source": []
  },
  {
   "cell_type": "code",
   "execution_count": 10,
   "id": "consistent-array",
   "metadata": {},
   "outputs": [
    {
     "name": "stdout",
     "output_type": "stream",
     "text": [
      "hello\n",
      "5\n"
     ]
    }
   ],
   "source": [
    "import threading, time\n",
    "\n",
    "def job():\n",
    "    time.sleep(1)\n",
    "    print(\"hello\")\n",
    "\n",
    "t = threading.Thread(target=job)\n",
    "t.start()\n",
    "#t.join()\n",
    "print(\"5\")"
   ]
  },
  {
   "cell_type": "code",
   "execution_count": null,
   "id": "vital-physics",
   "metadata": {},
   "outputs": [],
   "source": []
  }
 ],
 "metadata": {
  "kernelspec": {
   "display_name": "Python 3",
   "language": "python",
   "name": "python3"
  },
  "language_info": {
   "codemirror_mode": {
    "name": "ipython",
    "version": 3
   },
   "file_extension": ".py",
   "mimetype": "text/x-python",
   "name": "python",
   "nbconvert_exporter": "python",
   "pygments_lexer": "ipython3",
   "version": "3.8.5"
  }
 },
 "nbformat": 4,
 "nbformat_minor": 5
}
