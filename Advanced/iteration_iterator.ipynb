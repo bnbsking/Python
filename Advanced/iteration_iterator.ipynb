{
 "cells": [
  {
   "cell_type": "markdown",
   "id": "9a111353",
   "metadata": {},
   "source": [
    "1. Some magic operator related to iteration\n",
    "    + \\_\\_iter\\_\\_: for supported\n",
    "    + \\_\\_getitem\\_\\_: index[.] supported\n",
    "    + \\_\\_next\\_\\_: next supported\n",
    "\n",
    "\n",
    "2. Definition:\n",
    "    + Iterable: has attribute \\_\\_iter\\_\\_ or has attribute \\_\\_getitem\\_\\_\n",
    "    + Iterator: has attribute \\_\\_iter\\_\\_ and has attribute \\_\\_next\\_\\_\n",
    "\n",
    "\n",
    "3. Common types:\n",
    "    + memory e.g. string, tuple, list, set, dict\n",
    "    + disk e.g. range, enumerate, map, filter, zip, itertools, generator"
   ]
  },
  {
   "cell_type": "code",
   "execution_count": 40,
   "id": "61dfec71",
   "metadata": {},
   "outputs": [
    {
     "name": "stdout",
     "output_type": "stream",
     "text": [
      "<class 'str'>, iter:True, getitem:True, next:False\n",
      "<class 'tuple'>, iter:True, getitem:True, next:False\n",
      "<class 'list'>, iter:True, getitem:True, next:False\n",
      "<class 'set'>, iter:True, getitem:False, next:False\n",
      "<class 'dict'>, iter:True, getitem:True, next:False\n",
      "<class 'range'>, iter:True, getitem:True, next:False\n",
      "<class 'enumerate'>, iter:True, getitem:False, next:True\n",
      "<class 'map'>, iter:True, getitem:False, next:True\n",
      "<class 'filter'>, iter:True, getitem:False, next:True\n",
      "<class 'zip'>, iter:True, getitem:False, next:True\n",
      "<class 'itertools.permutations'>, iter:True, getitem:False, next:True\n",
      "<class 'generator'>, iter:True, getitem:False, next:True\n",
      "<class 'generator'>, iter:True, getitem:False, next:True\n"
     ]
    }
   ],
   "source": [
    "import itertools as it\n",
    "\n",
    "def test(A):\n",
    "    print(type(A),f\"iter:{'__iter__' in dir(A)}\",f\"getitem:{'__getitem__' in dir(A)}\",f\"next:{'__next__' in dir(A)}\",sep=\", \")\n",
    "\n",
    "def myGen():\n",
    "    while True:\n",
    "        yield 10\n",
    "\n",
    "test( \"12\"     )\n",
    "test( (1,2)    )\n",
    "test( [1,2]    )\n",
    "test( {1,2}    )\n",
    "test( {\"a\":1}  )\n",
    "test( range(1) ) # no next !!\n",
    "test( enumerate([1]) )\n",
    "test( map(lambda x:x,[1,2]) )\n",
    "test( filter(lambda x:True,[1,2]) )\n",
    "test( zip([1]) )\n",
    "test( it.permutations([1]) )\n",
    "test( myGen() )\n",
    "test( (i for i in range(4)) )"
   ]
  },
  {
   "cell_type": "markdown",
   "id": "778fce0a",
   "metadata": {},
   "source": [
    "| type | base |iter,for,iterable | getitem,index[.] | next,iterator |\n",
    "| - | - | - | - | - |\n",
    "| str | M | V | V |  |\n",
    "| tup | M | V | V |  |\n",
    "| list | M | V | V |  |\n",
    "| set | M | V |  |  |\n",
    "| dict | M | V | V |  |\n",
    "| --- | --- | --- | --- | --- |\n",
    "| range | D | V | V |  |\n",
    "| enumerate | D | V |  | V |\n",
    "| map | D | V |  | V |\n",
    "| filter | D | V |  | V |\n",
    "| zip | D | V |  | V |\n",
    "| itertools | D | V |  | V |\n",
    "| generator | D | V |  | V |\n",
    "\n",
    "+ It seems no need to use both index and next simultaneously"
   ]
  },
  {
   "cell_type": "code",
   "execution_count": 39,
   "id": "22714586",
   "metadata": {},
   "outputs": [
    {
     "name": "stdout",
     "output_type": "stream",
     "text": [
      "<class 'list_iterator'>, iter:True, getitem:False, next:True\n",
      "1\n",
      "2\n",
      "4\n"
     ]
    }
   ],
   "source": [
    "# iter: let getitem=False, next=True\n",
    "iterList = iter([1,2,4])\n",
    "test(iterList)\n",
    "for _ in range(3):\n",
    "    print( next(iterList) )"
   ]
  },
  {
   "cell_type": "code",
   "execution_count": null,
   "id": "b224ad6b",
   "metadata": {},
   "outputs": [],
   "source": []
  }
 ],
 "metadata": {
  "kernelspec": {
   "display_name": "Python 3 (ipykernel)",
   "language": "python",
   "name": "python3"
  },
  "language_info": {
   "codemirror_mode": {
    "name": "ipython",
    "version": 3
   },
   "file_extension": ".py",
   "mimetype": "text/x-python",
   "name": "python",
   "nbconvert_exporter": "python",
   "pygments_lexer": "ipython3",
   "version": "3.8.10"
  }
 },
 "nbformat": 4,
 "nbformat_minor": 5
}
