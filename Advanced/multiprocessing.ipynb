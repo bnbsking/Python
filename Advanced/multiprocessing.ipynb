{
 "cells": [
  {
   "cell_type": "code",
   "execution_count": 8,
   "id": "relevant-queens",
   "metadata": {},
   "outputs": [
    {
     "name": "stdout",
     "output_type": "stream",
     "text": [
      "128\n"
     ]
    }
   ],
   "source": [
    "import multiprocessing as mp\n",
    "import time\n",
    "\n",
    "print(mp.cpu_count()) # process should < cpu_count"
   ]
  },
  {
   "cell_type": "code",
   "execution_count": 24,
   "id": "gorgeous-crash",
   "metadata": {},
   "outputs": [
    {
     "name": "stdout",
     "output_type": "stream",
     "text": [
      "parent process do wait child processes\n",
      "[0, 1, 4, 9, 16, 25, 36, 49, 64, 81]\n"
     ]
    }
   ],
   "source": [
    "def square(n):\n",
    "    time.sleep(1)\n",
    "    return n*n\n",
    "\n",
    "inputs = list(range(10))\n",
    "pool = mp.Pool(processes=10)\n",
    "pool_outputs = pool.map(square, inputs)\n",
    "print(\"parent process do wait child processes\")\n",
    "print(pool_outputs)"
   ]
  },
  {
   "cell_type": "code",
   "execution_count": 25,
   "id": "contained-progressive",
   "metadata": {},
   "outputs": [
    {
     "name": "stdout",
     "output_type": "stream",
     "text": [
      "parent process do not wait child processes\n",
      "[0, 1, 4, 9, 16, 25, 36, 49, 64, 81]\n"
     ]
    }
   ],
   "source": [
    "def square(n):\n",
    "    time.sleep(1)\n",
    "    return n*n\n",
    "\n",
    "inputs = list(range(10))\n",
    "pool = mp.Pool(processes=10)\n",
    "pool_outputs = pool.map_async(square, inputs)\n",
    "print(\"parent process do not wait child processes\")\n",
    "pool.close()\n",
    "pool.join()\n",
    "print(pool_outputs.get())"
   ]
  },
  {
   "cell_type": "code",
   "execution_count": 27,
   "id": "hearing-address",
   "metadata": {},
   "outputs": [
    {
     "name": "stdout",
     "output_type": "stream",
     "text": [
      "parent process do wait child processes\n",
      "[1, 3, 5, 7, 9, 11, 13, 15, 17, 19]\n"
     ]
    }
   ],
   "source": [
    "def mySum(x,y):\n",
    "    time.sleep(1)\n",
    "    return x+y\n",
    "\n",
    "inputs = [ (i,i+1) for i in range(10) ]\n",
    "pool = mp.Pool(processes=10)\n",
    "pool_outputs = pool.starmap(mySum, inputs)\n",
    "print(\"parent process do wait child processes\")\n",
    "print(pool_outputs)"
   ]
  },
  {
   "cell_type": "code",
   "execution_count": 29,
   "id": "bulgarian-cooking",
   "metadata": {},
   "outputs": [
    {
     "name": "stdout",
     "output_type": "stream",
     "text": [
      "parent process do not wait child processes\n",
      "[1, 3, 5, 7, 9, 11, 13, 15, 17, 19]\n"
     ]
    }
   ],
   "source": [
    "def mySum(x,y):\n",
    "    time.sleep(1)\n",
    "    return x+y\n",
    "\n",
    "inputs = [ (i,i+1) for i in range(10) ]\n",
    "pool = mp.Pool(processes=10)\n",
    "pool_outputs = pool.starmap_async(mySum, inputs)\n",
    "print(\"parent process do not wait child processes\")\n",
    "print(pool_outputs.get())"
   ]
  },
  {
   "cell_type": "code",
   "execution_count": null,
   "id": "gentle-delight",
   "metadata": {},
   "outputs": [],
   "source": []
  }
 ],
 "metadata": {
  "kernelspec": {
   "display_name": "Python 3",
   "language": "python",
   "name": "python3"
  },
  "language_info": {
   "codemirror_mode": {
    "name": "ipython",
    "version": 3
   },
   "file_extension": ".py",
   "mimetype": "text/x-python",
   "name": "python",
   "nbconvert_exporter": "python",
   "pygments_lexer": "ipython3",
   "version": "3.8.5"
  }
 },
 "nbformat": 4,
 "nbformat_minor": 5
}
