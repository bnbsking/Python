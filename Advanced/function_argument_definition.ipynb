{
 "cells": [
  {
   "cell_type": "code",
   "execution_count": 1,
   "id": "9c94cb06",
   "metadata": {},
   "outputs": [
    {
     "name": "stdout",
     "output_type": "stream",
     "text": [
      "1 2 (3, 4, 5)\n",
      "1 2 3 4 5\n",
      "1 2 {'apple': 3, 'banana': 4, 'guava': 7}\n",
      "1 2 apple banana guava\n"
     ]
    }
   ],
   "source": [
    "def f(x, y=0, *args):\n",
    "    print(x, y, args)\n",
    "    print(x, y, *args)    \n",
    "f(1,2,3,4,5)\n",
    "\n",
    "def g(x, y=0, **kwargs):\n",
    "    kwargs.setdefault('guava', 7)\n",
    "    print(x, y, kwargs)\n",
    "    print(x, y, *kwargs)\n",
    "g(1,2,apple=3,banana=4)"
   ]
  },
  {
   "cell_type": "markdown",
   "id": "2f412ac8",
   "metadata": {},
   "source": [
    "+ function input argument type is useless, just for reference\n",
    "+ For class defined as struct, the attribute argument type is useless Inherited by a class with constructor + kwargs + setattr for reference only"
   ]
  },
  {
   "cell_type": "code",
   "execution_count": 2,
   "id": "a31eb8d1",
   "metadata": {},
   "outputs": [
    {
     "name": "stdout",
     "output_type": "stream",
     "text": [
      "<class 'int'>\n",
      "<class 'int'>\n"
     ]
    }
   ],
   "source": [
    "def f(a:str):\n",
    "    print(type(a))\n",
    "f(5)\n",
    "\n",
    "class C0:\n",
    "    def __init__(self, **kwargs):\n",
    "        for key,val in kwargs.items():\n",
    "            setattr(self, key, val)\n",
    "\n",
    "class C(C0):\n",
    "    name: str\n",
    "\n",
    "obj = C(name=234)\n",
    "print( type(obj.name) )"
   ]
  },
  {
   "cell_type": "code",
   "execution_count": null,
   "id": "5ed987be",
   "metadata": {},
   "outputs": [],
   "source": []
  }
 ],
 "metadata": {
  "kernelspec": {
   "display_name": "Python 3 (ipykernel)",
   "language": "python",
   "name": "python3"
  },
  "language_info": {
   "codemirror_mode": {
    "name": "ipython",
    "version": 3
   },
   "file_extension": ".py",
   "mimetype": "text/x-python",
   "name": "python",
   "nbconvert_exporter": "python",
   "pygments_lexer": "ipython3",
   "version": "3.8.10"
  }
 },
 "nbformat": 4,
 "nbformat_minor": 5
}
