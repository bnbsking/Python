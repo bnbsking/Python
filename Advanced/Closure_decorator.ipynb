{
 "cells": [
  {
   "cell_type": "markdown",
   "id": "9c10b41e",
   "metadata": {},
   "source": [
    "### Closure: function input function with argument, e.g.\n",
    "+ Thread(target=f)\n",
    "+ model.compile(loss=f)\n",
    "+ QPushButton(connect=f)"
   ]
  },
  {
   "cell_type": "code",
   "execution_count": 1,
   "id": "dff19b0d",
   "metadata": {},
   "outputs": [],
   "source": [
    "from threading import Thread\n",
    "\n",
    "def hello():\n",
    "    print(\"hello\")\n",
    "t = Thread(target=hello) # type(hello): function"
   ]
  },
  {
   "cell_type": "code",
   "execution_count": 2,
   "id": "189f17bd",
   "metadata": {},
   "outputs": [
    {
     "name": "stdout",
     "output_type": "stream",
     "text": [
      "hello James\n"
     ]
    }
   ],
   "source": [
    "# Way 0: Failed\n",
    "def hello(x):\n",
    "    print(f\"hello {x}\")\n",
    "t0 = Thread(target=hello(\"James\")) # type(hello0(\"James\")): none"
   ]
  },
  {
   "cell_type": "code",
   "execution_count": 4,
   "id": "f1c76a0e",
   "metadata": {},
   "outputs": [],
   "source": [
    "# Way1: Input stealing arg, Output stolen function\n",
    "def wrapHello(x):\n",
    "    def hello():\n",
    "        print(f\"hello {x}\")\n",
    "    return hello\n",
    "t1 = Thread(target=wrapHello(\"James\")) # t1.start() execute hello with args"
   ]
  },
  {
   "cell_type": "code",
   "execution_count": 5,
   "id": "7f137f0d",
   "metadata": {},
   "outputs": [],
   "source": [
    "# Way2: Input no arg, Output function output\n",
    "def hello(x):\n",
    "    print(f\"hello {x}\")\n",
    "t2 = Thread(target=lambda :hello(\"James\")) # t2.start() execute hello with args"
   ]
  },
  {
   "cell_type": "code",
   "execution_count": null,
   "id": "63e3980d",
   "metadata": {},
   "outputs": [],
   "source": []
  },
  {
   "cell_type": "markdown",
   "id": "7cc37e4b",
   "metadata": {},
   "source": [
    "### Decorator: different functions need to add common part. e.g. add login information"
   ]
  },
  {
   "cell_type": "code",
   "execution_count": 114,
   "id": "110e9d5c",
   "metadata": {},
   "outputs": [
    {
     "name": "stdout",
     "output_type": "stream",
     "text": [
      "1\n",
      "2\n"
     ]
    },
    {
     "data": {
      "text/plain": [
       "(None, None)"
      ]
     },
     "execution_count": 114,
     "metadata": {},
     "output_type": "execute_result"
    }
   ],
   "source": [
    "import logging\n",
    "\n",
    "def task1():\n",
    "    print(1)\n",
    "\n",
    "def task2():\n",
    "    print(2)\n",
    "    \n",
    "task1(), task2() # original code"
   ]
  },
  {
   "cell_type": "code",
   "execution_count": 116,
   "id": "80c3829b",
   "metadata": {},
   "outputs": [
    {
     "name": "stderr",
     "output_type": "stream",
     "text": [
      "WARNING:root:task1 is running\n",
      "WARNING:root:task2 is running\n"
     ]
    },
    {
     "name": "stdout",
     "output_type": "stream",
     "text": [
      "1\n",
      "2\n"
     ]
    },
    {
     "data": {
      "text/plain": [
       "(None, None)"
      ]
     },
     "execution_count": 116,
     "metadata": {},
     "output_type": "execute_result"
    }
   ],
   "source": [
    "# Way 1: Modify all taski()->wrapTask(taski)(). \n",
    "def wrapTask(f):\n",
    "    logging.warning(f\"{f.__name__} is running\")\n",
    "    return f\n",
    "    \n",
    "wrapTask(task1)(), wrapTask(task2)() # first():wrap task; second():execute wrapped task"
   ]
  },
  {
   "cell_type": "code",
   "execution_count": 117,
   "id": "f7a0032d",
   "metadata": {},
   "outputs": [
    {
     "name": "stderr",
     "output_type": "stream",
     "text": [
      "WARNING:root:task1 is running\n",
      "WARNING:root:task2 is running\n"
     ]
    },
    {
     "name": "stdout",
     "output_type": "stream",
     "text": [
      "1\n",
      "2\n"
     ]
    },
    {
     "data": {
      "text/plain": [
       "(None, None)"
      ]
     },
     "execution_count": 117,
     "metadata": {},
     "output_type": "execute_result"
    }
   ],
   "source": [
    "# Way 2: Add decorator to all functions\n",
    "def decorator():\n",
    "    def wrapTask(f):\n",
    "        logging.warning(f\"{f.__name__} is running\")\n",
    "        return f\n",
    "    return wrapTask\n",
    "\n",
    "@decorator()\n",
    "def task1():\n",
    "    print(1)\n",
    "\n",
    "@decorator()\n",
    "def task2():\n",
    "    print(2)\n",
    "\n",
    "task1(), task2()"
   ]
  },
  {
   "cell_type": "markdown",
   "id": "a3fde18f",
   "metadata": {},
   "source": [
    "### Decorator II: What if task with arguments"
   ]
  },
  {
   "cell_type": "code",
   "execution_count": 118,
   "id": "8eb85bf8",
   "metadata": {},
   "outputs": [
    {
     "data": {
      "text/plain": [
       "(5, 10)"
      ]
     },
     "execution_count": 118,
     "metadata": {},
     "output_type": "execute_result"
    }
   ],
   "source": [
    "def task1(x):\n",
    "    return x*1\n",
    "\n",
    "def task2(x):\n",
    "    return x*2\n",
    "\n",
    "task1(5), task2(5) # original code"
   ]
  },
  {
   "cell_type": "code",
   "execution_count": 119,
   "id": "6bdfb4fc",
   "metadata": {},
   "outputs": [
    {
     "name": "stderr",
     "output_type": "stream",
     "text": [
      "WARNING:root:task1 is running\n",
      "WARNING:root:task2 is running\n"
     ]
    },
    {
     "data": {
      "text/plain": [
       "(5, 10)"
      ]
     },
     "execution_count": 119,
     "metadata": {},
     "output_type": "execute_result"
    }
   ],
   "source": [
    "# Way 1: Modify all taski()->addLog(taski)(arg).\n",
    "def wrapTask(f):\n",
    "    def executeWrappedTaskWithArgs(x):\n",
    "        logging.warning(f\"{f.__name__} is running\")\n",
    "        return f(x)\n",
    "    return executeWrappedTaskWithArgs\n",
    "\n",
    "wrapTask(task1)(5), wrapTask(task2)(5) # first():wrap task; second():execute wrapped task with args"
   ]
  },
  {
   "cell_type": "code",
   "execution_count": 120,
   "id": "a5379caf",
   "metadata": {},
   "outputs": [
    {
     "name": "stderr",
     "output_type": "stream",
     "text": [
      "WARNING:root:task1 is running\n",
      "WARNING:root:task2 is running\n"
     ]
    },
    {
     "data": {
      "text/plain": [
       "(5, 10)"
      ]
     },
     "execution_count": 120,
     "metadata": {},
     "output_type": "execute_result"
    }
   ],
   "source": [
    "# Way 2: Add decorator to all functions\n",
    "def decorator():\n",
    "    def wrapTask(f):\n",
    "        def executeWrappedTaskWithArgs(x):\n",
    "            logging.warning(f\"{f.__name__} is running\")\n",
    "            return f(x)\n",
    "        return executeWrappedTaskWithArgs\n",
    "    return wrapTask\n",
    "\n",
    "@decorator()\n",
    "def task1(x):\n",
    "    return x*1\n",
    "\n",
    "@decorator()\n",
    "def task2(x):\n",
    "    return x*2\n",
    "\n",
    "task1(5), task2(5)"
   ]
  },
  {
   "cell_type": "markdown",
   "id": "74cf0b66",
   "metadata": {},
   "source": [
    "+ Decorator can be used with parameters. i.e. @decorator(arg), def decorator(arg), arg affect the most inner level function"
   ]
  },
  {
   "cell_type": "markdown",
   "id": "e2fce34f",
   "metadata": {},
   "source": [
    "### Decorator III: Class-liked decorator. Replace a layer of wrapping as class "
   ]
  },
  {
   "cell_type": "code",
   "execution_count": 122,
   "id": "6cd3a24a",
   "metadata": {},
   "outputs": [
    {
     "name": "stdout",
     "output_type": "stream",
     "text": [
      "do something before calling function myFunc\n",
      "this is main\n",
      "do something after calling function myFunc\n"
     ]
    }
   ],
   "source": [
    "class decorateClass:\n",
    "    def __init__(self, f):\n",
    "        self.f = f\n",
    "    def __call__(self, *args, **kwargs):\n",
    "        print(f\"do something before calling function {self.f.__name__}\")\n",
    "        self.f(*args, **kwargs)\n",
    "        print(f\"do something after calling function {self.f.__name__}\")\n",
    "\n",
    "@decorateClass\n",
    "def myFunc():\n",
    "    print('this is main')\n",
    "    \n",
    "myFunc()"
   ]
  },
  {
   "cell_type": "code",
   "execution_count": null,
   "id": "817cd1e3",
   "metadata": {},
   "outputs": [],
   "source": []
  }
 ],
 "metadata": {
  "kernelspec": {
   "display_name": "Python 3 (ipykernel)",
   "language": "python",
   "name": "python3"
  },
  "language_info": {
   "codemirror_mode": {
    "name": "ipython",
    "version": 3
   },
   "file_extension": ".py",
   "mimetype": "text/x-python",
   "name": "python",
   "nbconvert_exporter": "python",
   "pygments_lexer": "ipython3",
   "version": "3.8.10"
  }
 },
 "nbformat": 4,
 "nbformat_minor": 5
}
