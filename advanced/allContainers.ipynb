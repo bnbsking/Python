{
 "cells": [
  {
   "cell_type": "code",
   "execution_count": 24,
   "id": "polish-calgary",
   "metadata": {},
   "outputs": [],
   "source": [
    "s = \"app\"; # count, index==find, split, join, isalpha, isnumeric, upper, lower, replace\n",
    "# +, slicing, in"
   ]
  },
  {
   "cell_type": "code",
   "execution_count": 25,
   "id": "indonesian-booking",
   "metadata": {},
   "outputs": [],
   "source": [
    "T = (1,2); T+=(3,) # count, index | +, in, slicing"
   ]
  },
  {
   "cell_type": "code",
   "execution_count": 8,
   "id": "nasty-barbados",
   "metadata": {},
   "outputs": [
    {
     "name": "stdout",
     "output_type": "stream",
     "text": [
      "4\n",
      "[1, 2, 3]\n"
     ]
    }
   ],
   "source": [
    "L = [1,2,3]; L.append(4); print(L.pop()); print(L) # count, index, insert, remove, sort, reverse, copy\n",
    "# +, slicing, in"
   ]
  },
  {
   "cell_type": "code",
   "execution_count": 9,
   "id": "infrared-senior",
   "metadata": {},
   "outputs": [
    {
     "name": "stdout",
     "output_type": "stream",
     "text": [
      "{1, 3, 4}\n"
     ]
    }
   ],
   "source": [
    "S = {1,2,3}; S.add(4); S.remove(2); print(S) # intersection, union, difference, copy | in"
   ]
  },
  {
   "cell_type": "code",
   "execution_count": 12,
   "id": "exposed-ministry",
   "metadata": {},
   "outputs": [
    {
     "name": "stdout",
     "output_type": "stream",
     "text": [
      "b\n",
      "{1: 'a', 3: 'c'}\n"
     ]
    }
   ],
   "source": [
    "D = {1:'a',2:'b'}; D[3]='c'; print(D.pop(2)); print(D) # keys, values, items, copy | in, del"
   ]
  },
  {
   "cell_type": "code",
   "execution_count": 38,
   "id": "blocked-baking",
   "metadata": {},
   "outputs": [
    {
     "name": "stdout",
     "output_type": "stream",
     "text": [
      "deque([1, 2]) <class 'collections.deque'> True\n",
      "1\n",
      "2\n"
     ]
    }
   ],
   "source": [
    "import queue\n",
    "Q = queue.Queue(); Q.put(1); Q.put(2);\n",
    "print( Q.queue, type(Q.queue), 1 in Q.queue )\n",
    "while Q.qsize():\n",
    "    print(Q.get())"
   ]
  },
  {
   "cell_type": "code",
   "execution_count": 46,
   "id": "japanese-uniform",
   "metadata": {},
   "outputs": [
    {
     "name": "stdout",
     "output_type": "stream",
     "text": [
      "[2, 3, 6, 4, 5, 7, 9] 2\n",
      "[1, 2, 6, 3, 5, 7, 9, 4] 1\n"
     ]
    }
   ],
   "source": [
    "import heapq\n",
    "H = [3,4,7,2,5,6,9]\n",
    "heapq.heapify(H)\n",
    "print(H, H[0]) # min O(1)\n",
    "heapq.heappush(H, 1)\n",
    "print(H, H[0]) # min O(1)\n",
    "print(heapq.heappop(H))\n",
    "print(H)"
   ]
  },
  {
   "cell_type": "code",
   "execution_count": 68,
   "id": "endless-transition",
   "metadata": {},
   "outputs": [
    {
     "name": "stdout",
     "output_type": "stream",
     "text": [
      "1\n",
      "OrderedDict([('a', 1), ('c', 3)])\n"
     ]
    }
   ],
   "source": [
    "import collections # no ordered set in python\n",
    "O = collections.OrderedDict()\n",
    "O[\"a\"]=1; O[\"b\"]=2; O[\"c\"]=3; print(O[\"a\"]); O.pop(\"b\"); print(O)\n",
    "# keys, values, items, copy | in, del\n",
    "# hash table + doubled linked list | O(1) insert delete in but min max O(n) and sort O(nlog(n))"
   ]
  },
  {
   "cell_type": "code",
   "execution_count": null,
   "id": "accessible-monte",
   "metadata": {},
   "outputs": [],
   "source": [
    "# Python doesn't have built-in BST such as ordered_map in C++\n",
    "# However, the pip support.  "
   ]
  }
 ],
 "metadata": {
  "kernelspec": {
   "display_name": "Python 3",
   "language": "python",
   "name": "python3"
  },
  "language_info": {
   "codemirror_mode": {
    "name": "ipython",
    "version": 3
   },
   "file_extension": ".py",
   "mimetype": "text/x-python",
   "name": "python",
   "nbconvert_exporter": "python",
   "pygments_lexer": "ipython3",
   "version": "3.7.6"
  }
 },
 "nbformat": 4,
 "nbformat_minor": 5
}
