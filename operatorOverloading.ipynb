{
 "cells": [
  {
   "cell_type": "code",
   "execution_count": 16,
   "metadata": {},
   "outputs": [
    {
     "name": "stdout",
     "output_type": "stream",
     "text": [
      "['__add__', '__class__', '__delattr__', '__dict__', '__dir__', '__doc__', '__eq__', '__format__', '__ge__', '__getattribute__', '__gt__', '__hash__', '__init__', '__init_subclass__', '__le__', '__lt__', '__module__', '__ne__', '__new__', '__reduce__', '__reduce_ex__', '__repr__', '__setattr__', '__sizeof__', '__str__', '__subclasshook__', '__weakref__']\n",
      "4i+6 False\n"
     ]
    }
   ],
   "source": [
    "class C:\n",
    "    def __init__(self, x, y):\n",
    "        self.x, self.y = x, y\n",
    "    def __add__(self, oC):\n",
    "        oC.x+=self.x\n",
    "        oC.y+=self.y\n",
    "        return oC\n",
    "    def __str__(self):\n",
    "        return str(self.x)+\"i+\"+str(self.y)\n",
    "    def __eq__(self, oC): # gt, gt, le, lt\n",
    "        return self.x==oC.x and self.y==oC.y\n",
    "        \n",
    "print( dir(C) )\n",
    "z1 = C(1,2)\n",
    "z2 = C(3,4)\n",
    "print( z1+z2, z1==z2 )"
   ]
  },
  {
   "cell_type": "code",
   "execution_count": null,
   "metadata": {},
   "outputs": [],
   "source": []
  }
 ],
 "metadata": {
  "kernelspec": {
   "display_name": "Python 3",
   "language": "python",
   "name": "python3"
  },
  "language_info": {
   "codemirror_mode": {
    "name": "ipython",
    "version": 3
   },
   "file_extension": ".py",
   "mimetype": "text/x-python",
   "name": "python",
   "nbconvert_exporter": "python",
   "pygments_lexer": "ipython3",
   "version": "3.7.7"
  }
 },
 "nbformat": 4,
 "nbformat_minor": 4
}
